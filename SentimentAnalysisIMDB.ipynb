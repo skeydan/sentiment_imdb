{
 "cells": [
  {
   "cell_type": "markdown",
   "metadata": {
    "nbpresent": {
     "id": "836b7700-e496-4171-9798-354a346c8e9a"
    },
    "slideshow": {
     "slide_type": "slide"
    }
   },
   "source": [
    "Intro"
   ]
  },
  {
   "cell_type": "markdown",
   "metadata": {
    "nbpresent": {
     "id": "f0c2a310-79ca-4b6f-a166-12841485dd74"
    },
    "slideshow": {
     "slide_type": "slide"
    }
   },
   "source": [
    "# www.imdb.com"
   ]
  },
  {
   "cell_type": "markdown",
   "metadata": {
    "nbpresent": {
     "id": "d8c43dd5-aadc-4e99-b653-44357b396ec6"
    },
    "slideshow": {
     "slide_type": "fragment"
    }
   },
   "source": [
    "<img src=\"review.png\"> "
   ]
  },
  {
   "cell_type": "markdown",
   "metadata": {
    "nbpresent": {
     "id": "81a36843-e0d8-403c-9e47-bf32cfa9267c"
    },
    "slideshow": {
     "slide_type": "fragment"
    }
   },
   "source": [
    "Get archives for labeled training and test data from: http://ai.stanford.edu/~amaas/data/sentiment/'"
   ]
  },
  {
   "cell_type": "markdown",
   "metadata": {
    "nbpresent": {
     "id": "1e87e2af-5bea-4362-89d9-5ba8cec65842"
    },
    "slideshow": {
     "slide_type": "slide"
    }
   },
   "source": [
    "## Load the data\n",
    "\n",
    "\n"
   ]
  },
  {
   "cell_type": "code",
   "execution_count": 1,
   "metadata": {
    "collapsed": false,
    "nbpresent": {
     "id": "50f11ad0-4b49-44ba-928d-791eecc4790c"
    },
    "slideshow": {
     "slide_type": "fragment"
    }
   },
   "outputs": [],
   "source": [
    "import io\n",
    "import pandas as pd\n",
    "import numpy as np\n",
    "\n",
    "with io.open('data/aclImdb/train-pos.txt', encoding='utf-8') as f:\n",
    "    train_pos = pd.DataFrame({'review': list(f)})    \n",
    "with io.open('data/aclImdb/train-neg.txt', encoding='utf-8') as f:\n",
    "    train_neg = pd.DataFrame({'review': list(f)}) \n",
    "train_reviews = pd.concat([train_neg, train_pos], ignore_index=True)\n",
    "\n",
    "with io.open('data/aclImdb/test-pos.txt', encoding='utf-8') as f:\n",
    "    test_pos = pd.DataFrame({'review': list(f)})\n",
    "with io.open('data/aclImdb/test-neg.txt', encoding='utf-8') as f:\n",
    "    test_neg = pd.DataFrame({'review': list(f)})    \n",
    "test_reviews = pd.concat([test_neg, test_pos], ignore_index=True)\n",
    "  \n",
    "X_train = train_reviews['review']\n",
    "X_test = test_reviews['review']\n",
    "\n",
    "y_train = np.append(np.zeros(12500), np.ones(12500))\n",
    "y_test = np.append(np.zeros(12500), np.ones(12500)) "
   ]
  },
  {
   "cell_type": "markdown",
   "metadata": {
    "nbpresent": {
     "id": "9def4486-def4-4cf4-b94a-748e0bca0c9b"
    },
    "slideshow": {
     "slide_type": "slide"
    }
   },
   "source": [
    "## First review - good or bad?\n",
    "\n",
    "\n"
   ]
  },
  {
   "cell_type": "code",
   "execution_count": 2,
   "metadata": {
    "collapsed": false,
    "nbpresent": {
     "id": "be448377-de47-4493-bec8-a60c20b06d5a"
    },
    "slideshow": {
     "slide_type": "fragment"
    }
   },
   "outputs": [
    {
     "data": {
      "text/plain": [
       "u\"a reasonable effort is summary for this film .  a good sixties film but lacking any sense of achievement .  maggie smith gave a decent performance which was believable enough but not as good as she could have given ,  other actors were just dreadful !  a terrible portrayal .  it wasn't very funny and so it didn't really achieve its genres as it wasn't particularly funny and it wasn't dramatic .  the only genre achieved to a satisfactory level was romance .  target audiences were not hit and the movie sent out confusing messages .  a very basic plot and a very basic storyline were not pulled off or performed at all well and people were left confused as to why the film wasn't as good and who the target audiences were etc .  however maggie was quite good and the storyline was alright with moments of capability .   4 . \\n\""
      ]
     },
     "execution_count": 2,
     "metadata": {},
     "output_type": "execute_result"
    }
   ],
   "source": [
    "X_train[0]"
   ]
  },
  {
   "cell_type": "markdown",
   "metadata": {
    "nbpresent": {
     "id": "a77185b1-3981-4cf3-9b72-34e98245909c"
    },
    "slideshow": {
     "slide_type": "slide"
    }
   },
   "source": [
    "## What people thought\n",
    "\n",
    "\n"
   ]
  },
  {
   "cell_type": "code",
   "execution_count": 3,
   "metadata": {
    "collapsed": false,
    "nbpresent": {
     "id": "9293030b-42f8-4976-85fe-8fd5877c7fcf"
    },
    "slideshow": {
     "slide_type": "fragment"
    }
   },
   "outputs": [
    {
     "data": {
      "text/plain": [
       "0.0"
      ]
     },
     "execution_count": 3,
     "metadata": {},
     "output_type": "execute_result"
    }
   ],
   "source": [
    "y_train[100]"
   ]
  },
  {
   "cell_type": "markdown",
   "metadata": {
    "nbpresent": {
     "id": "b446b568-00a0-42ec-a9ac-dc73538a5ca2"
    },
    "slideshow": {
     "slide_type": "slide"
    }
   },
   "source": [
    "# A naive approach: word counts  \n",
    "\n",
    "Basic principle: count and weight positive words, count and weight negative words, highest score wins\n",
    "\n",
    "Two types of challenge if we want to do this in an automated way:\n",
    "- how do I obtain the weights (how do I even know if something's positive or negative?)\n",
    "- how do I deal with complexity introduced by this being <i>language</i>?\n"
   ]
  },
  {
   "cell_type": "markdown",
   "metadata": {
    "nbpresent": {
     "id": "e627fcfd-b58e-4c3a-b44d-28bf8991e25d"
    },
    "slideshow": {
     "slide_type": "slide"
    }
   },
   "source": [
    "# Challenge no. 1: handling language (syntax / semantics)\n",
    "\n",
    "Some examples rom our review above:\n",
    "> performance which was believable enough but not as good as she could have given\n",
    "\n",
    "> lacking any sense of achievement \n",
    "\n",
    "> it wasn't very funny\n",
    "\n",
    "> the only genre achieved to a satisfactory level was romance"
   ]
  },
  {
   "cell_type": "markdown",
   "metadata": {
    "nbpresent": {
     "id": "d1f74fb0-4852-4945-8b03-fc7dd7cbf67f"
    },
    "slideshow": {
     "slide_type": "slide"
    }
   },
   "source": [
    "# So what's best: unigrams, bigrams, trigrams...?\n",
    "\n",
    "Instead of hypothesizing let's check what works best on our data set.\n",
    "\n",
    "First, let's inspect the most frequent unigrams, bigrams and trigrams and their actual frequencies.\n",
    "\n",
    "But there's another question to be answered before...\n",
    "\n"
   ]
  },
  {
   "cell_type": "markdown",
   "metadata": {
    "nbpresent": {
     "id": "4cbef8ba-b678-40a1-b71d-f0dda08c06df"
    },
    "slideshow": {
     "slide_type": "slide"
    }
   },
   "source": [
    "## How to handle stopwords?"
   ]
  },
  {
   "cell_type": "code",
   "execution_count": 4,
   "metadata": {
    "collapsed": false,
    "nbpresent": {
     "id": "1eea560c-ae93-43cd-8d3e-a5f0629a885a"
    },
    "slideshow": {
     "slide_type": "fragment"
    }
   },
   "outputs": [
    {
     "name": "stdout",
     "output_type": "stream",
     "text": [
      "set([u'all', u'just', u'being', u'over', u'both', u'through', u'yourselves', u'its', u'before', u'o', u'hadn', u'herself', u'll', u'had', u'should', u'to', u'only', u'won', u'under', u'ours', u'has', u'do', u'them', u'his', u'very', u'they', u'not', u'during', u'now', u'him', u'nor', u'd', u'did', u'didn', u'this', u'she', u'each', u'further', u'where', u'few', u'because', u'doing', u'some', u'hasn', u'are', u'our', u'ourselves', u'out', u'what', u'for', u'while', u're', u'does', u'above', u'between', u'mustn', u't', u'be', u'we', u'who', u'were', u'here', u'shouldn', u'hers', u'by', u'on', u'about', u'couldn', u'of', u'against', u's', u'isn', u'or', u'own', u'into', u'yourself', u'down', u'mightn', u'wasn', u'your', u'from', u'her', u'their', u'aren', u'there', u'been', u'whom', u'too', u'wouldn', u'themselves', u'weren', u'was', u'until', u'more', u'himself', u'that', u'but', u'don', u'with', u'than', u'those', u'he', u'me', u'myself', u'ma', u'these', u'up', u'will', u'below', u'ain', u'can', u'theirs', u'my', u'and', u've', u'then', u'is', u'am', u'it', u'doesn', u'an', u'as', u'itself', u'at', u'have', u'in', u'any', u'if', u'again', u'no', u'when', u'same', u'how', u'other', u'which', u'you', u'shan', u'needn', u'haven', u'after', u'most', u'such', u'why', u'a', u'off', u'i', u'm', u'yours', u'so', u'y', u'the', u'having', u'once'])\n"
     ]
    }
   ],
   "source": [
    "from nltk.corpus import stopwords\n",
    "stopwords_nltk = set(stopwords.words(\"english\"))\n",
    "print(stopwords_nltk)"
   ]
  },
  {
   "cell_type": "code",
   "execution_count": 5,
   "metadata": {
    "collapsed": true,
    "nbpresent": {
     "id": "1e3b2d36-5346-4b01-bfc2-67e7f2af25c1"
    },
    "slideshow": {
     "slide_type": "fragment"
    }
   },
   "outputs": [],
   "source": [
    "# don't want to exclude the negations\n",
    "relevant_words = set(['not', 'nor', 'no', 'wasn', 'ain', 'aren', 'very', 'only', 'but', 'don', 'isn', 'weren'])\n",
    "stopwords_filtered = list(stopwords_nltk.difference(relevant_words))"
   ]
  },
  {
   "cell_type": "markdown",
   "metadata": {
    "nbpresent": {
     "id": "03e942e9-856f-427d-a634-5692b86c1c39"
    },
    "slideshow": {
     "slide_type": "slide"
    }
   },
   "source": [
    "## Most frequent unigrams"
   ]
  },
  {
   "cell_type": "code",
   "execution_count": 6,
   "metadata": {
    "collapsed": false,
    "nbpresent": {
     "id": "eba5a957-cd79-4819-abc2-a991cc42fb55"
    },
    "slideshow": {
     "slide_type": "fragment"
    }
   },
   "outputs": [
    {
     "name": "stdout",
     "output_type": "stream",
     "text": [
      "overall word count: 2827541\n"
     ]
    },
    {
     "data": {
      "text/html": [
       "<div>\n",
       "<table border=\"1\" class=\"dataframe\">\n",
       "  <thead>\n",
       "    <tr style=\"text-align: right;\">\n",
       "      <th></th>\n",
       "      <th>count</th>\n",
       "      <th>word</th>\n",
       "    </tr>\n",
       "  </thead>\n",
       "  <tbody>\n",
       "    <tr>\n",
       "      <th>0</th>\n",
       "      <td>44047</td>\n",
       "      <td>movie</td>\n",
       "    </tr>\n",
       "    <tr>\n",
       "      <th>1</th>\n",
       "      <td>42623</td>\n",
       "      <td>but</td>\n",
       "    </tr>\n",
       "    <tr>\n",
       "      <th>2</th>\n",
       "      <td>40159</td>\n",
       "      <td>film</td>\n",
       "    </tr>\n",
       "    <tr>\n",
       "      <th>3</th>\n",
       "      <td>30632</td>\n",
       "      <td>not</td>\n",
       "    </tr>\n",
       "    <tr>\n",
       "      <th>4</th>\n",
       "      <td>26795</td>\n",
       "      <td>one</td>\n",
       "    </tr>\n",
       "    <tr>\n",
       "      <th>5</th>\n",
       "      <td>20281</td>\n",
       "      <td>like</td>\n",
       "    </tr>\n",
       "    <tr>\n",
       "      <th>6</th>\n",
       "      <td>15147</td>\n",
       "      <td>good</td>\n",
       "    </tr>\n",
       "    <tr>\n",
       "      <th>7</th>\n",
       "      <td>14067</td>\n",
       "      <td>very</td>\n",
       "    </tr>\n",
       "    <tr>\n",
       "      <th>8</th>\n",
       "      <td>12727</td>\n",
       "      <td>time</td>\n",
       "    </tr>\n",
       "    <tr>\n",
       "      <th>9</th>\n",
       "      <td>12716</td>\n",
       "      <td>no</td>\n",
       "    </tr>\n",
       "  </tbody>\n",
       "</table>\n",
       "</div>"
      ],
      "text/plain": [
       "   count   word\n",
       "0  44047  movie\n",
       "1  42623    but\n",
       "2  40159   film\n",
       "3  30632    not\n",
       "4  26795    one\n",
       "5  20281   like\n",
       "6  15147   good\n",
       "7  14067   very\n",
       "8  12727   time\n",
       "9  12716     no"
      ]
     },
     "execution_count": 6,
     "metadata": {},
     "output_type": "execute_result"
    }
   ],
   "source": [
    "# if we had the time to do this live ...\n",
    "# from sklearn.feature_extraction.text import CountVectorizer\n",
    "# vectorizer = CountVectorizer(stop_words = stopwords_filtered, max_features = 5000, ngram_range = (1,1)) ...\n",
    "word_counts_unigram = pd.read_csv('word_counts_sorted_ngram_1_stopwords_removed.csv', \n",
    "                                  usecols=['word', 'count'])\n",
    "print('overall word count: {}'.format(word_counts_unigram['count'].sum()))\n",
    "word_counts_unigram.head(10)"
   ]
  },
  {
   "cell_type": "markdown",
   "metadata": {
    "nbpresent": {
     "id": "fcfffce9-3b7e-46c2-aa6b-de60a9b0a175"
    },
    "slideshow": {
     "slide_type": "slide"
    }
   },
   "source": [
    "## Most frequent bigrams"
   ]
  },
  {
   "cell_type": "code",
   "execution_count": 7,
   "metadata": {
    "collapsed": false,
    "nbpresent": {
     "id": "deec0c29-5ae2-4866-adfb-e5d4485ac51a"
    },
    "slideshow": {
     "slide_type": "fragment"
    }
   },
   "outputs": [
    {
     "name": "stdout",
     "output_type": "stream",
     "text": [
      "overall bigram count: 324066\n"
     ]
    },
    {
     "data": {
      "text/html": [
       "<div>\n",
       "<table border=\"1\" class=\"dataframe\">\n",
       "  <thead>\n",
       "    <tr style=\"text-align: right;\">\n",
       "      <th></th>\n",
       "      <th>count</th>\n",
       "      <th>word</th>\n",
       "    </tr>\n",
       "  </thead>\n",
       "  <tbody>\n",
       "    <tr>\n",
       "      <th>0</th>\n",
       "      <td>1925</td>\n",
       "      <td>but not</td>\n",
       "    </tr>\n",
       "    <tr>\n",
       "      <th>1</th>\n",
       "      <td>1321</td>\n",
       "      <td>ever seen</td>\n",
       "    </tr>\n",
       "    <tr>\n",
       "      <th>2</th>\n",
       "      <td>1284</td>\n",
       "      <td>not only</td>\n",
       "    </tr>\n",
       "    <tr>\n",
       "      <th>3</th>\n",
       "      <td>1200</td>\n",
       "      <td>very good</td>\n",
       "    </tr>\n",
       "    <tr>\n",
       "      <th>4</th>\n",
       "      <td>1113</td>\n",
       "      <td>special effects</td>\n",
       "    </tr>\n",
       "    <tr>\n",
       "      <th>5</th>\n",
       "      <td>1043</td>\n",
       "      <td>even though</td>\n",
       "    </tr>\n",
       "    <tr>\n",
       "      <th>6</th>\n",
       "      <td>1032</td>\n",
       "      <td>movie but</td>\n",
       "    </tr>\n",
       "    <tr>\n",
       "      <th>7</th>\n",
       "      <td>1024</td>\n",
       "      <td>don know</td>\n",
       "    </tr>\n",
       "    <tr>\n",
       "      <th>8</th>\n",
       "      <td>1007</td>\n",
       "      <td>movie not</td>\n",
       "    </tr>\n",
       "    <tr>\n",
       "      <th>9</th>\n",
       "      <td>888</td>\n",
       "      <td>one best</td>\n",
       "    </tr>\n",
       "  </tbody>\n",
       "</table>\n",
       "</div>"
      ],
      "text/plain": [
       "   count             word\n",
       "0   1925          but not\n",
       "1   1321        ever seen\n",
       "2   1284         not only\n",
       "3   1200        very good\n",
       "4   1113  special effects\n",
       "5   1043      even though\n",
       "6   1032        movie but\n",
       "7   1024         don know\n",
       "8   1007        movie not\n",
       "9    888         one best"
      ]
     },
     "execution_count": 7,
     "metadata": {},
     "output_type": "execute_result"
    }
   ],
   "source": [
    "word_counts_unigram = pd.read_csv('word_counts_sorted_ngram_2_stopwords_removed.csv', \n",
    "                                  usecols=['word', 'count'])\n",
    "print('overall bigram count: {}'.format(word_counts_unigram['count'].sum()))\n",
    "word_counts_unigram.head(10)"
   ]
  },
  {
   "cell_type": "markdown",
   "metadata": {
    "nbpresent": {
     "id": "3a374a7c-6ddf-4a7e-a78b-b468758210d6"
    },
    "slideshow": {
     "slide_type": "slide"
    }
   },
   "source": [
    "## Most frequent trigrams"
   ]
  },
  {
   "cell_type": "code",
   "execution_count": 8,
   "metadata": {
    "collapsed": false,
    "nbpresent": {
     "id": "18c2b8bb-6701-481d-a304-7abb03ee5645"
    },
    "slideshow": {
     "slide_type": "fragment"
    }
   },
   "outputs": [
    {
     "name": "stdout",
     "output_type": "stream",
     "text": [
      "overall trigram count: 6176\n"
     ]
    },
    {
     "data": {
      "text/html": [
       "<div>\n",
       "<table border=\"1\" class=\"dataframe\">\n",
       "  <thead>\n",
       "    <tr style=\"text-align: right;\">\n",
       "      <th></th>\n",
       "      <th>count</th>\n",
       "      <th>word</th>\n",
       "    </tr>\n",
       "  </thead>\n",
       "  <tbody>\n",
       "    <tr>\n",
       "      <th>0</th>\n",
       "      <td>262</td>\n",
       "      <td>movie ever seen</td>\n",
       "    </tr>\n",
       "    <tr>\n",
       "      <th>1</th>\n",
       "      <td>243</td>\n",
       "      <td>worst movie ever</td>\n",
       "    </tr>\n",
       "    <tr>\n",
       "      <th>2</th>\n",
       "      <td>205</td>\n",
       "      <td>don waste time</td>\n",
       "    </tr>\n",
       "    <tr>\n",
       "      <th>3</th>\n",
       "      <td>177</td>\n",
       "      <td>movies ever seen</td>\n",
       "    </tr>\n",
       "    <tr>\n",
       "      <th>4</th>\n",
       "      <td>164</td>\n",
       "      <td>new york city</td>\n",
       "    </tr>\n",
       "    <tr>\n",
       "      <th>5</th>\n",
       "      <td>162</td>\n",
       "      <td>don get wrong</td>\n",
       "    </tr>\n",
       "    <tr>\n",
       "      <th>6</th>\n",
       "      <td>160</td>\n",
       "      <td>one worst movies</td>\n",
       "    </tr>\n",
       "    <tr>\n",
       "      <th>7</th>\n",
       "      <td>141</td>\n",
       "      <td>worst movies ever</td>\n",
       "    </tr>\n",
       "    <tr>\n",
       "      <th>8</th>\n",
       "      <td>120</td>\n",
       "      <td>film ever seen</td>\n",
       "    </tr>\n",
       "    <tr>\n",
       "      <th>9</th>\n",
       "      <td>114</td>\n",
       "      <td>movie ever made</td>\n",
       "    </tr>\n",
       "  </tbody>\n",
       "</table>\n",
       "</div>"
      ],
      "text/plain": [
       "   count               word\n",
       "0    262    movie ever seen\n",
       "1    243   worst movie ever\n",
       "2    205     don waste time\n",
       "3    177   movies ever seen\n",
       "4    164      new york city\n",
       "5    162      don get wrong\n",
       "6    160   one worst movies\n",
       "7    141  worst movies ever\n",
       "8    120     film ever seen\n",
       "9    114    movie ever made"
      ]
     },
     "execution_count": 8,
     "metadata": {},
     "output_type": "execute_result"
    }
   ],
   "source": [
    "word_counts_unigram = pd.read_csv('word_counts_sorted_ngram_3_stopwords_removed.csv', \n",
    "                                  usecols=['word', 'count'])\n",
    "print('overall trigram count: {}'.format(word_counts_unigram['count'].sum()))\n",
    "word_counts_unigram.head(10)"
   ]
  },
  {
   "cell_type": "markdown",
   "metadata": {
    "nbpresent": {
     "id": "348351b9-005f-47ac-a927-ce7cb773fe90"
    },
    "slideshow": {
     "slide_type": "slide"
    }
   },
   "source": [
    "## Most frequent four-grams"
   ]
  },
  {
   "cell_type": "code",
   "execution_count": 9,
   "metadata": {
    "collapsed": false,
    "nbpresent": {
     "id": "ccb71b15-0e3d-4174-887a-197bbcf35750"
    },
    "slideshow": {
     "slide_type": "fragment"
    }
   },
   "outputs": [
    {
     "name": "stdout",
     "output_type": "stream",
     "text": [
      "overall bigram count: 456\n"
     ]
    },
    {
     "data": {
      "text/html": [
       "<div>\n",
       "<table border=\"1\" class=\"dataframe\">\n",
       "  <thead>\n",
       "    <tr style=\"text-align: right;\">\n",
       "      <th></th>\n",
       "      <th>count</th>\n",
       "      <th>word</th>\n",
       "    </tr>\n",
       "  </thead>\n",
       "  <tbody>\n",
       "    <tr>\n",
       "      <th>0</th>\n",
       "      <td>132</td>\n",
       "      <td>worst movie ever seen</td>\n",
       "    </tr>\n",
       "    <tr>\n",
       "      <th>1</th>\n",
       "      <td>121</td>\n",
       "      <td>one worst movies ever</td>\n",
       "    </tr>\n",
       "    <tr>\n",
       "      <th>2</th>\n",
       "      <td>86</td>\n",
       "      <td>worst movies ever seen</td>\n",
       "    </tr>\n",
       "    <tr>\n",
       "      <th>3</th>\n",
       "      <td>61</td>\n",
       "      <td>worst film ever seen</td>\n",
       "    </tr>\n",
       "    <tr>\n",
       "      <th>4</th>\n",
       "      <td>56</td>\n",
       "      <td>one worst films ever</td>\n",
       "    </tr>\n",
       "  </tbody>\n",
       "</table>\n",
       "</div>"
      ],
      "text/plain": [
       "   count                    word\n",
       "0    132   worst movie ever seen\n",
       "1    121   one worst movies ever\n",
       "2     86  worst movies ever seen\n",
       "3     61    worst film ever seen\n",
       "4     56    one worst films ever"
      ]
     },
     "execution_count": 9,
     "metadata": {},
     "output_type": "execute_result"
    }
   ],
   "source": [
    "word_counts_unigram = pd.read_csv('word_counts_sorted_ngram_4_stopwords_removed.csv', \n",
    "                                  usecols=['word', 'count'])\n",
    "print('overall bigram count: {}'.format(word_counts_unigram['count'].sum()))\n",
    "word_counts_unigram.head(10)"
   ]
  },
  {
   "cell_type": "markdown",
   "metadata": {
    "nbpresent": {
     "id": "e4dc43e0-80b7-4426-8eb3-45bb5bd7827a"
    },
    "slideshow": {
     "slide_type": "slide"
    }
   },
   "source": [
    "# Challenge no. 2: Determine word sentiment and weight\n",
    "\n",
    "This is a classical classification task.\n",
    "Can use one of the usual suspects:\n",
    "- Logistic regression\n",
    "- Decision trees\n",
    "- Support Vector Machines\n",
    "- ..."
   ]
  },
  {
   "cell_type": "markdown",
   "metadata": {
    "nbpresent": {
     "id": "d1c2e8ee-d3ba-4bb7-9adb-038bdc7b3dd1"
    },
    "slideshow": {
     "slide_type": "slide"
    }
   },
   "source": [
    "TBD : Logsitic Regression explained"
   ]
  },
  {
   "cell_type": "markdown",
   "metadata": {
    "nbpresent": {
     "id": "188d6842-d012-441f-beec-c5ae7f46aca7"
    },
    "slideshow": {
     "slide_type": "slide"
    }
   },
   "source": [
    "# The right combination\n",
    "\n",
    "- Which classifier works best?\n",
    "- With what input (unigrams, bigrams, trigrams ...)?\n",
    "- Using which parameter settings?\n",
    "\n",
    "==> Perform a grid search"
   ]
  },
  {
   "cell_type": "code",
   "execution_count": 10,
   "metadata": {
    "collapsed": false,
    "nbpresent": {
     "id": "5260cedc-c65d-4014-9f78-96a73b8c2d18"
    },
    "slideshow": {
     "slide_type": "slide"
    }
   },
   "outputs": [],
   "source": [
    "# logistic regression with 1-grams, 1-2-grams, 1-3-grams and different complexity penalty values\n",
    "\n",
    "# vectorizer = CountVectorizer(analyzer = \"word\", tokenizer = None, preprocessor = None,\n",
    "#                             stop_words = None, max_features = 10000)\n",
    "\n",
    "#logistic_model = LogisticRegression() \n",
    "#logistic_pipeline = Pipeline([(\"vectorizer\", vectorizer), (\"logistic\", logistic_model)])\n",
    "#search_params = dict(vectorizer__ngram_range = [(1,1), (1,2), (1,3)],\n",
    "#                     vectorizer__stop_words = [stopwords_filtered, None],\n",
    "#                     logistic__C = [0.01, 0.03, 0.05, 0.1])\n",
    "\n",
    "#best_logistic = GridSearchCV(logistic_pipeline, param_grid=search_params, cv=5, verbose=1)\n",
    "#best_logistic.fit(X_train, y_train)\n",
    "#print(best_logistic.best_params_)"
   ]
  },
  {
   "cell_type": "code",
   "execution_count": 11,
   "metadata": {
    "collapsed": true,
    "nbpresent": {
     "id": "857a60c7-9d9e-413d-87db-18c07e250cd9"
    },
    "slideshow": {
     "slide_type": "slide"
    }
   },
   "outputs": [],
   "source": [
    "from sklearn.metrics import accuracy_score\n",
    "from sklearn.metrics import confusion_matrix\n",
    "from sklearn.metrics import classification_report\n",
    "\n",
    "def assess_classification_performance(model, X_train, y_train, X_test, y_test):\n",
    "  \n",
    "    accuracy_train = accuracy_score(y_train, model.predict(X_train))\n",
    "    accuracy_test = accuracy_score(y_test, model.predict(X_test))\n",
    "    print('\\nClassification performance overview:\\n************************************')\n",
    "    print('accuracy (train/test): {} / {}\\n'.format(accuracy_train, accuracy_test))\n",
    "    # confusion matrix\n",
    "    # rows: actual group\n",
    "    # columns: predicted group\n",
    "    print('Confusion_matrix (training data):')\n",
    "    print(confusion_matrix(y_train, model.predict(X_train)))\n",
    "    print('Confusion_matrix (test data):')\n",
    "    print(confusion_matrix(y_test, model.predict(X_test)))\n"
   ]
  },
  {
   "cell_type": "markdown",
   "metadata": {
    "collapsed": true,
    "nbpresent": {
     "id": "7d776e37-257f-47c0-87b0-193558ad16ce"
    },
    "slideshow": {
     "slide_type": "slide"
    }
   },
   "source": [
    "# Logistic Regression best fit\n",
    "\n",
    "- unigrams and bigrams\n",
    "- C = 0.03"
   ]
  },
  {
   "cell_type": "code",
   "execution_count": 12,
   "metadata": {
    "collapsed": false,
    "nbpresent": {
     "id": "f14e24ac-9678-4f16-99d9-4bbba508c508"
    },
    "slideshow": {
     "slide_type": "fragment"
    }
   },
   "outputs": [
    {
     "data": {
      "text/plain": [
       "LogisticRegression(C=0.03, class_weight=None, dual=False, fit_intercept=True,\n",
       "          intercept_scaling=1, max_iter=100, multi_class='ovr', n_jobs=1,\n",
       "          penalty='l2', random_state=None, solver='liblinear', tol=0.0001,\n",
       "          verbose=0, warm_start=False)"
      ]
     },
     "execution_count": 12,
     "metadata": {},
     "output_type": "execute_result"
    }
   ],
   "source": [
    "from sklearn.feature_extraction.text import CountVectorizer\n",
    "from sklearn.linear_model import LogisticRegression\n",
    "vectorizer = CountVectorizer(analyzer = \"word\", tokenizer = None, preprocessor = None,\n",
    "                             stop_words = stopwords_filtered, max_features = 10000, ngram_range = (1,2))\n",
    "X_train_features = vectorizer.fit_transform(X_train)\n",
    "X_test_features = vectorizer.transform(X_test)\n",
    "\n",
    "logistic_model = LogisticRegression(C=0.03) \n",
    "logistic_model.fit(X_train_features, y_train)"
   ]
  },
  {
   "cell_type": "markdown",
   "metadata": {
    "slideshow": {
     "slide_type": "slide"
    }
   },
   "source": [
    "## Logistic Regression - how well did it work?"
   ]
  },
  {
   "cell_type": "code",
   "execution_count": 13,
   "metadata": {
    "collapsed": false,
    "nbpresent": {
     "id": "77183c01-f99f-4dcb-a6f6-63809f56144d"
    },
    "slideshow": {
     "slide_type": "fragment"
    }
   },
   "outputs": [
    {
     "name": "stdout",
     "output_type": "stream",
     "text": [
      "\n",
      "Classification performance overview:\n",
      "************************************\n",
      "accuracy (train/test): 0.94276 / 0.88716\n",
      "\n",
      "Confusion_matrix (training data):\n",
      "[[11704   796]\n",
      " [  635 11865]]\n",
      "Confusion_matrix (test data):\n",
      "[[11059  1441]\n",
      " [ 1380 11120]]\n"
     ]
    }
   ],
   "source": [
    "assess_classification_performance(logistic_model, X_train_features, y_train, X_test_features, y_test)"
   ]
  },
  {
   "cell_type": "markdown",
   "metadata": {
    "collapsed": true,
    "slideshow": {
     "slide_type": "slide"
    }
   },
   "source": [
    "## Which words make it positive?"
   ]
  },
  {
   "cell_type": "code",
   "execution_count": 14,
   "metadata": {
    "collapsed": false,
    "slideshow": {
     "slide_type": "fragment"
    }
   },
   "outputs": [
    {
     "data": {
      "text/html": [
       "<div>\n",
       "<table border=\"1\" class=\"dataframe\">\n",
       "  <thead>\n",
       "    <tr style=\"text-align: right;\">\n",
       "      <th></th>\n",
       "      <th>coef</th>\n",
       "      <th>word</th>\n",
       "    </tr>\n",
       "  </thead>\n",
       "  <tbody>\n",
       "    <tr>\n",
       "      <th>2969</th>\n",
       "      <td>0.672635</td>\n",
       "      <td>excellent</td>\n",
       "    </tr>\n",
       "    <tr>\n",
       "      <th>6681</th>\n",
       "      <td>0.563958</td>\n",
       "      <td>perfect</td>\n",
       "    </tr>\n",
       "    <tr>\n",
       "      <th>9816</th>\n",
       "      <td>0.521026</td>\n",
       "      <td>wonderful</td>\n",
       "    </tr>\n",
       "    <tr>\n",
       "      <th>8646</th>\n",
       "      <td>0.520818</td>\n",
       "      <td>superb</td>\n",
       "    </tr>\n",
       "    <tr>\n",
       "      <th>3165</th>\n",
       "      <td>0.505146</td>\n",
       "      <td>favorite</td>\n",
       "    </tr>\n",
       "    <tr>\n",
       "      <th>431</th>\n",
       "      <td>0.502118</td>\n",
       "      <td>amazing</td>\n",
       "    </tr>\n",
       "    <tr>\n",
       "      <th>5923</th>\n",
       "      <td>0.481505</td>\n",
       "      <td>must see</td>\n",
       "    </tr>\n",
       "    <tr>\n",
       "      <th>5214</th>\n",
       "      <td>0.461807</td>\n",
       "      <td>loved</td>\n",
       "    </tr>\n",
       "    <tr>\n",
       "      <th>3632</th>\n",
       "      <td>0.458645</td>\n",
       "      <td>funniest</td>\n",
       "    </tr>\n",
       "    <tr>\n",
       "      <th>2798</th>\n",
       "      <td>0.453481</td>\n",
       "      <td>enjoyable</td>\n",
       "    </tr>\n",
       "  </tbody>\n",
       "</table>\n",
       "</div>"
      ],
      "text/plain": [
       "          coef       word\n",
       "2969  0.672635  excellent\n",
       "6681  0.563958    perfect\n",
       "9816  0.521026  wonderful\n",
       "8646  0.520818     superb\n",
       "3165  0.505146   favorite\n",
       "431   0.502118    amazing\n",
       "5923  0.481505   must see\n",
       "5214  0.461807      loved\n",
       "3632  0.458645   funniest\n",
       "2798  0.453481  enjoyable"
      ]
     },
     "execution_count": 14,
     "metadata": {},
     "output_type": "execute_result"
    }
   ],
   "source": [
    "vocabulary = vectorizer.get_feature_names()\n",
    "coefs = logistic_model.coef_\n",
    "word_importances = pd.DataFrame({'word': vocabulary, 'coef': coefs.tolist()[0]})\n",
    "word_importances_sorted = word_importances.sort_values(by='coef', ascending = False)\n",
    "word_importances_sorted[:10]"
   ]
  },
  {
   "cell_type": "markdown",
   "metadata": {
    "slideshow": {
     "slide_type": "slide"
    }
   },
   "source": [
    "## Which words make it negative?"
   ]
  },
  {
   "cell_type": "code",
   "execution_count": 15,
   "metadata": {
    "collapsed": false,
    "slideshow": {
     "slide_type": "fragment"
    }
   },
   "outputs": [
    {
     "data": {
      "text/html": [
       "<div>\n",
       "<table border=\"1\" class=\"dataframe\">\n",
       "  <thead>\n",
       "    <tr style=\"text-align: right;\">\n",
       "      <th></th>\n",
       "      <th>coef</th>\n",
       "      <th>word</th>\n",
       "    </tr>\n",
       "  </thead>\n",
       "  <tbody>\n",
       "    <tr>\n",
       "      <th>6864</th>\n",
       "      <td>-0.564446</td>\n",
       "      <td>poor</td>\n",
       "    </tr>\n",
       "    <tr>\n",
       "      <th>2625</th>\n",
       "      <td>-0.565503</td>\n",
       "      <td>dull</td>\n",
       "    </tr>\n",
       "    <tr>\n",
       "      <th>9855</th>\n",
       "      <td>-0.575060</td>\n",
       "      <td>worse</td>\n",
       "    </tr>\n",
       "    <tr>\n",
       "      <th>4267</th>\n",
       "      <td>-0.588133</td>\n",
       "      <td>horrible</td>\n",
       "    </tr>\n",
       "    <tr>\n",
       "      <th>2439</th>\n",
       "      <td>-0.596302</td>\n",
       "      <td>disappointing</td>\n",
       "    </tr>\n",
       "    <tr>\n",
       "      <th>6866</th>\n",
       "      <td>-0.675187</td>\n",
       "      <td>poorly</td>\n",
       "    </tr>\n",
       "    <tr>\n",
       "      <th>1045</th>\n",
       "      <td>-0.681608</td>\n",
       "      <td>boring</td>\n",
       "    </tr>\n",
       "    <tr>\n",
       "      <th>2440</th>\n",
       "      <td>-0.688024</td>\n",
       "      <td>disappointment</td>\n",
       "    </tr>\n",
       "    <tr>\n",
       "      <th>702</th>\n",
       "      <td>-0.811184</td>\n",
       "      <td>awful</td>\n",
       "    </tr>\n",
       "    <tr>\n",
       "      <th>9607</th>\n",
       "      <td>-0.838195</td>\n",
       "      <td>waste</td>\n",
       "    </tr>\n",
       "  </tbody>\n",
       "</table>\n",
       "</div>"
      ],
      "text/plain": [
       "          coef            word\n",
       "6864 -0.564446            poor\n",
       "2625 -0.565503            dull\n",
       "9855 -0.575060           worse\n",
       "4267 -0.588133        horrible\n",
       "2439 -0.596302   disappointing\n",
       "6866 -0.675187          poorly\n",
       "1045 -0.681608          boring\n",
       "2440 -0.688024  disappointment\n",
       "702  -0.811184           awful\n",
       "9607 -0.838195           waste"
      ]
     },
     "execution_count": 15,
     "metadata": {},
     "output_type": "execute_result"
    }
   ],
   "source": [
    "word_importances_sorted[-11:-1]"
   ]
  },
  {
   "cell_type": "markdown",
   "metadata": {
    "slideshow": {
     "slide_type": "slide"
    }
   },
   "source": [
    "## How about the bigrams? (1)"
   ]
  },
  {
   "cell_type": "code",
   "execution_count": 16,
   "metadata": {
    "collapsed": false,
    "slideshow": {
     "slide_type": "fragment"
    }
   },
   "outputs": [
    {
     "data": {
      "text/html": [
       "<div>\n",
       "<table border=\"1\" class=\"dataframe\">\n",
       "  <thead>\n",
       "    <tr style=\"text-align: right;\">\n",
       "      <th></th>\n",
       "      <th>coef</th>\n",
       "      <th>word</th>\n",
       "    </tr>\n",
       "  </thead>\n",
       "  <tbody>\n",
       "    <tr>\n",
       "      <th>5923</th>\n",
       "      <td>0.481505</td>\n",
       "      <td>must see</td>\n",
       "    </tr>\n",
       "    <tr>\n",
       "      <th>3</th>\n",
       "      <td>0.450675</td>\n",
       "      <td>10 10</td>\n",
       "    </tr>\n",
       "    <tr>\n",
       "      <th>6350</th>\n",
       "      <td>0.421314</td>\n",
       "      <td>one best</td>\n",
       "    </tr>\n",
       "    <tr>\n",
       "      <th>9701</th>\n",
       "      <td>0.389081</td>\n",
       "      <td>well worth</td>\n",
       "    </tr>\n",
       "    <tr>\n",
       "      <th>5452</th>\n",
       "      <td>0.371277</td>\n",
       "      <td>may not</td>\n",
       "    </tr>\n",
       "    <tr>\n",
       "      <th>6139</th>\n",
       "      <td>0.329485</td>\n",
       "      <td>not bad</td>\n",
       "    </tr>\n",
       "    <tr>\n",
       "      <th>6970</th>\n",
       "      <td>0.323805</td>\n",
       "      <td>pretty good</td>\n",
       "    </tr>\n",
       "    <tr>\n",
       "      <th>2259</th>\n",
       "      <td>0.307238</td>\n",
       "      <td>definitely worth</td>\n",
       "    </tr>\n",
       "    <tr>\n",
       "      <th>5208</th>\n",
       "      <td>0.303380</td>\n",
       "      <td>love movie</td>\n",
       "    </tr>\n",
       "    <tr>\n",
       "      <th>9432</th>\n",
       "      <td>0.301404</td>\n",
       "      <td>very good</td>\n",
       "    </tr>\n",
       "  </tbody>\n",
       "</table>\n",
       "</div>"
      ],
      "text/plain": [
       "          coef              word\n",
       "5923  0.481505          must see\n",
       "3     0.450675             10 10\n",
       "6350  0.421314          one best\n",
       "9701  0.389081        well worth\n",
       "5452  0.371277           may not\n",
       "6139  0.329485           not bad\n",
       "6970  0.323805       pretty good\n",
       "2259  0.307238  definitely worth\n",
       "5208  0.303380        love movie\n",
       "9432  0.301404         very good"
      ]
     },
     "execution_count": 16,
     "metadata": {},
     "output_type": "execute_result"
    }
   ],
   "source": [
    "word_importances_bigrams = word_importances_sorted[word_importances_sorted.word.apply(lambda c: len(c.split()) >= 2)]\n",
    "word_importances_bigrams[:10]"
   ]
  },
  {
   "cell_type": "markdown",
   "metadata": {
    "slideshow": {
     "slide_type": "slide"
    }
   },
   "source": [
    "## How about the bigrams? (2)"
   ]
  },
  {
   "cell_type": "code",
   "execution_count": 17,
   "metadata": {
    "collapsed": false,
    "slideshow": {
     "slide_type": "fragment"
    }
   },
   "outputs": [
    {
     "data": {
      "text/html": [
       "<div>\n",
       "<table border=\"1\" class=\"dataframe\">\n",
       "  <thead>\n",
       "    <tr style=\"text-align: right;\">\n",
       "      <th></th>\n",
       "      <th>coef</th>\n",
       "      <th>word</th>\n",
       "    </tr>\n",
       "  </thead>\n",
       "  <tbody>\n",
       "    <tr>\n",
       "      <th>6431</th>\n",
       "      <td>-0.247169</td>\n",
       "      <td>only good</td>\n",
       "    </tr>\n",
       "    <tr>\n",
       "      <th>3151</th>\n",
       "      <td>-0.250090</td>\n",
       "      <td>fast forward</td>\n",
       "    </tr>\n",
       "    <tr>\n",
       "      <th>9861</th>\n",
       "      <td>-0.264564</td>\n",
       "      <td>worst movie</td>\n",
       "    </tr>\n",
       "    <tr>\n",
       "      <th>6201</th>\n",
       "      <td>-0.324169</td>\n",
       "      <td>not recommend</td>\n",
       "    </tr>\n",
       "    <tr>\n",
       "      <th>6153</th>\n",
       "      <td>-0.332796</td>\n",
       "      <td>not even</td>\n",
       "    </tr>\n",
       "    <tr>\n",
       "      <th>6164</th>\n",
       "      <td>-0.333147</td>\n",
       "      <td>not funny</td>\n",
       "    </tr>\n",
       "    <tr>\n",
       "      <th>6217</th>\n",
       "      <td>-0.357056</td>\n",
       "      <td>not very</td>\n",
       "    </tr>\n",
       "    <tr>\n",
       "      <th>6169</th>\n",
       "      <td>-0.368976</td>\n",
       "      <td>not good</td>\n",
       "    </tr>\n",
       "    <tr>\n",
       "      <th>6421</th>\n",
       "      <td>-0.437750</td>\n",
       "      <td>one worst</td>\n",
       "    </tr>\n",
       "    <tr>\n",
       "      <th>9609</th>\n",
       "      <td>-0.451138</td>\n",
       "      <td>waste time</td>\n",
       "    </tr>\n",
       "  </tbody>\n",
       "</table>\n",
       "</div>"
      ],
      "text/plain": [
       "          coef           word\n",
       "6431 -0.247169      only good\n",
       "3151 -0.250090   fast forward\n",
       "9861 -0.264564    worst movie\n",
       "6201 -0.324169  not recommend\n",
       "6153 -0.332796       not even\n",
       "6164 -0.333147      not funny\n",
       "6217 -0.357056       not very\n",
       "6169 -0.368976       not good\n",
       "6421 -0.437750      one worst\n",
       "9609 -0.451138     waste time"
      ]
     },
     "execution_count": 17,
     "metadata": {},
     "output_type": "execute_result"
    }
   ],
   "source": [
    "word_importances_bigrams[-11:-1]"
   ]
  },
  {
   "cell_type": "markdown",
   "metadata": {
    "slideshow": {
     "slide_type": "slide"
    }
   },
   "source": [
    "## So that's Logistic Regression with bigrams, - how about other classifiers?"
   ]
  },
  {
   "cell_type": "markdown",
   "metadata": {
    "slideshow": {
     "slide_type": "fragment"
    }
   },
   "source": [
    "### best accuracies per classifier\n",
    "<table border=\"1\">\n",
    "<tr>\n",
    "<th></th><th>1-grams</th><th>1-2-grams, with stopword filtering</th><th>1-3-grams, without stopword filtering</th>\n",
    "</tr>\n",
    "<tr>\n",
    "<th>Logistic Regression</th><td></td><td>0.89</td><td></td>\n",
    "</tr>\n",
    "<tr>\n",
    "<th>Support Vector Machine</th><td></td><td></td><td>0.84</td>\n",
    "</tr>\n",
    "<tr>\n",
    "<th>Random Forest</th><td>tbd</td><td></td>\n",
    "</tr>\n",
    "</table>"
   ]
  },
  {
   "cell_type": "markdown",
   "metadata": {
    "slideshow": {
     "slide_type": "slide"
    }
   },
   "source": [
    "# Beyond word counts: Word embeddings"
   ]
  },
  {
   "cell_type": "markdown",
   "metadata": {
    "slideshow": {
     "slide_type": "slide"
    }
   },
   "source": [
    "## If we had time to train the model, we'd actually execute this..."
   ]
  },
  {
   "cell_type": "code",
   "execution_count": 18,
   "metadata": {
    "collapsed": false,
    "slideshow": {
     "slide_type": "fragment"
    }
   },
   "outputs": [],
   "source": [
    "# can use train_reviews and test_reviews from above\n",
    "#import nltk.data\n",
    "#tokenizer = nltk.data.load('tokenizers/punkt/english.pickle')\n",
    "\n",
    "#sentences_train = []  \n",
    "#for review in train_reviews[\"review\"]:\n",
    "#    sentences_train += [s.split() for s in tokenizer.tokenize(review)]\n",
    "#sentences_test = []  \n",
    "#for review in test_reviews[\"review\"]:\n",
    "#    sentences_test += [s.split() for s in tokenizer.tokenize(review)]\n",
    "#all_sentences = sentences_train + sentences_test\n",
    "\n",
    "# model parameters\n",
    "#num_features = 100    # Word vector dimensionality                      \n",
    "#min_word_count = 20   # Minimum word count                        \n",
    "#num_workers = 2       # Number of threads to run in parallel\n",
    "#context = 10          # Context window size                                                                                    \n",
    "#downsampling = 1e-3   # Downsample setting for frequent words\n",
    "\n",
    "#model = word2vec.Word2Vec(all_sentences, workers=num_workers, size=num_features, min_count = min_word_count,\n",
    "#                          window = context, sample = downsampling)\n",
    "#model.init_sims(replace=True)\n",
    "#model_name = \"models/word2vec_100features\"\n",
    "#model.save(model_name)"
   ]
  },
  {
   "cell_type": "markdown",
   "metadata": {
    "slideshow": {
     "slide_type": "slide"
    }
   },
   "source": [
    "Let's instead load the model from disk and inspect it:"
   ]
  },
  {
   "cell_type": "code",
   "execution_count": 19,
   "metadata": {
    "collapsed": false,
    "slideshow": {
     "slide_type": "fragment"
    }
   },
   "outputs": [
    {
     "name": "stdout",
     "output_type": "stream",
     "text": [
      "(20166, 100)\n",
      "[-0.02515472  0.16707493 -0.05629794 -0.12409752 -0.01091802 -0.13798206\n",
      "  0.09231102 -0.09140468 -0.05452388 -0.03555677 -0.08269091 -0.00567267\n",
      " -0.09523809 -0.06195637  0.05440474  0.06227686  0.12369317 -0.01537143\n",
      " -0.0089783  -0.00528997 -0.04277094  0.07739993 -0.01932896  0.081738\n",
      " -0.22357117 -0.14976217  0.05551976  0.13742755 -0.15443996 -0.05471482\n",
      " -0.0009601   0.08932991 -0.05292547  0.16765165 -0.05905993 -0.05231098\n",
      " -0.08250861 -0.0341751   0.14372236  0.03478728 -0.01529499 -0.0296018\n",
      "  0.01079863 -0.06377127  0.04163288 -0.07192093  0.25450262 -0.07382536\n",
      " -0.07778623  0.07499653 -0.12951691  0.01970425  0.13499822  0.01038768\n",
      "  0.06625408  0.11575779  0.10367264  0.03894637 -0.07102726  0.00343542\n",
      "  0.24314043  0.15759529 -0.09808595  0.04601007 -0.01187227 -0.16023833\n",
      " -0.17658544 -0.12622575 -0.04592994  0.08045016 -0.11856512  0.04920706\n",
      "  0.20129348  0.08923753 -0.06545419 -0.05853761 -0.08146987 -0.06782326\n",
      "  0.17082241  0.02575272  0.058911    0.13305175 -0.12224633 -0.01143302\n",
      "  0.01318115  0.07662909 -0.09469278 -0.05230315 -0.0121863   0.12192696\n",
      "  0.19957212 -0.075518    0.16371782 -0.07655586 -0.09539564  0.11822125\n",
      "  0.04177237  0.11499111 -0.09205962  0.09952193]\n"
     ]
    }
   ],
   "source": [
    "from gensim.models import word2vec\n",
    "model = word2vec.Word2Vec.load('models/word2vec_100features')\n",
    "print(model.syn0.shape)\n",
    "print(model['movie'])\n"
   ]
  },
  {
   "cell_type": "markdown",
   "metadata": {
    "slideshow": {
     "slide_type": "slide"
    }
   },
   "source": [
    "## Which words are similar to <i>awesome</i>?"
   ]
  },
  {
   "cell_type": "code",
   "execution_count": 20,
   "metadata": {
    "collapsed": false,
    "slideshow": {
     "slide_type": "fragment"
    }
   },
   "outputs": [
    {
     "data": {
      "text/plain": [
       "[(u'amazing', 0.7929322123527527),\n",
       " (u'incredible', 0.7127916812896729),\n",
       " (u'awful', 0.7072071433067322),\n",
       " (u'excellent', 0.6961393356323242),\n",
       " (u'fantastic', 0.6925109624862671),\n",
       " (u'alright', 0.6886886358261108),\n",
       " (u'cool', 0.679090142250061),\n",
       " (u'outstanding', 0.6213874816894531),\n",
       " (u'astounding', 0.613292932510376),\n",
       " (u'terrific', 0.6013768911361694)]"
      ]
     },
     "execution_count": 20,
     "metadata": {},
     "output_type": "execute_result"
    }
   ],
   "source": [
    "model.most_similar('awesome', topn=10)"
   ]
  },
  {
   "cell_type": "markdown",
   "metadata": {
    "slideshow": {
     "slide_type": "slide"
    }
   },
   "source": [
    "## ... and to <i> awful</i>?"
   ]
  },
  {
   "cell_type": "code",
   "execution_count": 21,
   "metadata": {
    "collapsed": false,
    "slideshow": {
     "slide_type": "fragment"
    }
   },
   "outputs": [
    {
     "data": {
      "text/plain": [
       "[(u'terrible', 0.8212785124778748),\n",
       " (u'horrible', 0.7955455183982849),\n",
       " (u'atrocious', 0.7824822664260864),\n",
       " (u'dreadful', 0.7722172737121582),\n",
       " (u'appalling', 0.7244443893432617),\n",
       " (u'horrendous', 0.7235419154167175),\n",
       " (u'abysmal', 0.720653235912323),\n",
       " (u'amazing', 0.708114743232727),\n",
       " (u'awesome', 0.7072070837020874),\n",
       " (u'bad', 0.6963905096054077)]"
      ]
     },
     "execution_count": 21,
     "metadata": {},
     "output_type": "execute_result"
    }
   ],
   "source": [
    "model.most_similar('awful', topn=10)"
   ]
  },
  {
   "cell_type": "markdown",
   "metadata": {
    "slideshow": {
     "slide_type": "slide"
    }
   },
   "source": [
    "## Can we \"subtract out\" <i>awful</i>?"
   ]
  },
  {
   "cell_type": "code",
   "execution_count": 22,
   "metadata": {
    "collapsed": false,
    "slideshow": {
     "slide_type": "fragment"
    }
   },
   "outputs": [
    {
     "data": {
      "text/plain": [
       "[(u'jolly', 0.3947059214115143),\n",
       " (u'midget', 0.38988131284713745),\n",
       " (u'knight', 0.3789686858654022),\n",
       " (u'spooky', 0.36937469244003296),\n",
       " (u'nice', 0.3680706322193146),\n",
       " (u'looney', 0.3676275610923767),\n",
       " (u'ho', 0.3594890832901001),\n",
       " (u'gotham', 0.35877227783203125),\n",
       " (u'lookalike', 0.3579031229019165),\n",
       " (u'devilish', 0.35554438829421997)]"
      ]
     },
     "execution_count": 22,
     "metadata": {},
     "output_type": "execute_result"
    }
   ],
   "source": [
    "model.most_similar(positive=['awesome'], negative=['awful'])"
   ]
  },
  {
   "cell_type": "markdown",
   "metadata": {
    "slideshow": {
     "slide_type": "slide"
    }
   },
   "source": [
    "## Let's try this again with <i>good</i> - <i>bad</i>: <i>Good</i> ..."
   ]
  },
  {
   "cell_type": "code",
   "execution_count": 23,
   "metadata": {
    "collapsed": false,
    "slideshow": {
     "slide_type": "fragment"
    }
   },
   "outputs": [
    {
     "data": {
      "text/plain": [
       "[(u'bad', 0.769078254699707),\n",
       " (u'decent', 0.7574324607849121),\n",
       " (u'great', 0.7527369260787964),\n",
       " (u'nice', 0.6981208324432373),\n",
       " (u'cool', 0.653165340423584),\n",
       " (u'fine', 0.6289849877357483),\n",
       " (u'terrific', 0.6136247515678406),\n",
       " (u'terrible', 0.6056008338928223),\n",
       " (u'fantastic', 0.596002995967865),\n",
       " (u'solid', 0.5957943201065063)]"
      ]
     },
     "execution_count": 23,
     "metadata": {},
     "output_type": "execute_result"
    }
   ],
   "source": [
    "model.most_similar('good', topn=10)"
   ]
  },
  {
   "cell_type": "markdown",
   "metadata": {
    "slideshow": {
     "slide_type": "slide"
    }
   },
   "source": [
    "## ... and <i>bad</i>:"
   ]
  },
  {
   "cell_type": "code",
   "execution_count": 24,
   "metadata": {
    "collapsed": false,
    "slideshow": {
     "slide_type": "fragment"
    }
   },
   "outputs": [
    {
     "data": {
      "text/plain": [
       "[(u'good', 0.769078254699707),\n",
       " (u'terrible', 0.7315745949745178),\n",
       " (u'horrible', 0.7259382009506226),\n",
       " (u'awful', 0.6963905096054077),\n",
       " (u'lame', 0.6728411912918091),\n",
       " (u'stupid', 0.6556650996208191),\n",
       " (u'dumb', 0.628576934337616),\n",
       " (u'lousy', 0.6129568815231323),\n",
       " (u'cheesy', 0.6102402210235596),\n",
       " (u'poor', 0.5851123929023743)]"
      ]
     },
     "execution_count": 24,
     "metadata": {},
     "output_type": "execute_result"
    }
   ],
   "source": [
    "model.most_similar('bad', topn=10)"
   ]
  },
  {
   "cell_type": "markdown",
   "metadata": {
    "slideshow": {
     "slide_type": "slide"
    }
   },
   "source": [
    "## So <i>good</i> minus <i>bad</i> is ..."
   ]
  },
  {
   "cell_type": "code",
   "execution_count": 25,
   "metadata": {
    "collapsed": false,
    "slideshow": {
     "slide_type": "fragment"
    }
   },
   "outputs": [
    {
     "data": {
      "text/plain": [
       "[(u'nice', 0.4700997471809387),\n",
       " (u'fine', 0.46652451157569885),\n",
       " (u'solid', 0.43668174743652344),\n",
       " (u'wonderful', 0.4121875464916229),\n",
       " (u'pleasant', 0.4049694538116455),\n",
       " (u'decent', 0.3975681960582733),\n",
       " (u'commendable', 0.39051422476768494),\n",
       " (u'splendid', 0.38586685061454773),\n",
       " (u'promising', 0.38155609369277954),\n",
       " (u'delightful', 0.38095542788505554)]"
      ]
     },
     "execution_count": 25,
     "metadata": {},
     "output_type": "execute_result"
    }
   ],
   "source": [
    "model.most_similar(positive=['good'], negative=['bad'])"
   ]
  },
  {
   "cell_type": "markdown",
   "metadata": {
    "slideshow": {
     "slide_type": "slide"
    }
   },
   "source": [
    "## Which word doesn't match?"
   ]
  },
  {
   "cell_type": "code",
   "execution_count": 26,
   "metadata": {
    "collapsed": false,
    "slideshow": {
     "slide_type": "fragment"
    }
   },
   "outputs": [
    {
     "data": {
      "text/plain": [
       "'good'"
      ]
     },
     "execution_count": 26,
     "metadata": {},
     "output_type": "execute_result"
    }
   ],
   "source": [
    "model.doesnt_match(\"good bad awful terrible\".split())"
   ]
  },
  {
   "cell_type": "code",
   "execution_count": 27,
   "metadata": {
    "collapsed": false,
    "slideshow": {
     "slide_type": "fragment"
    }
   },
   "outputs": [
    {
     "data": {
      "text/plain": [
       "'awesome'"
      ]
     },
     "execution_count": 27,
     "metadata": {},
     "output_type": "execute_result"
    }
   ],
   "source": [
    "model.doesnt_match(\"awesome bad awful terrible\".split())"
   ]
  },
  {
   "cell_type": "code",
   "execution_count": 28,
   "metadata": {
    "collapsed": false
   },
   "outputs": [
    {
     "data": {
      "text/plain": [
       "'excellent'"
      ]
     },
     "execution_count": 28,
     "metadata": {},
     "output_type": "execute_result"
    }
   ],
   "source": [
    "model.doesnt_match(\"nice pleasant fine excellent\".split())"
   ]
  },
  {
   "cell_type": "markdown",
   "metadata": {
    "slideshow": {
     "slide_type": "fragment"
    }
   },
   "source": [
    "## Visualize in 2d"
   ]
  },
  {
   "cell_type": "code",
   "execution_count": 31,
   "metadata": {
    "collapsed": false
   },
   "outputs": [],
   "source": [
    "from sklearn.decomposition import PCA\n",
    "import matplotlib.pyplot as plt\n",
    "%matplotlib inline"
   ]
  },
  {
   "cell_type": "code",
   "execution_count": 32,
   "metadata": {
    "collapsed": false
   },
   "outputs": [
    {
     "name": "stdout",
     "output_type": "stream",
     "text": [
      "[t-SNE] Computing pairwise distances...\n",
      "[t-SNE] Computing 91 nearest neighbors...\n",
      "[t-SNE] Computed conditional probabilities for sample 1000 / 20166\n",
      "[t-SNE] Computed conditional probabilities for sample 2000 / 20166\n",
      "[t-SNE] Computed conditional probabilities for sample 3000 / 20166\n",
      "[t-SNE] Computed conditional probabilities for sample 4000 / 20166\n",
      "[t-SNE] Computed conditional probabilities for sample 5000 / 20166\n",
      "[t-SNE] Computed conditional probabilities for sample 6000 / 20166\n",
      "[t-SNE] Computed conditional probabilities for sample 7000 / 20166\n",
      "[t-SNE] Computed conditional probabilities for sample 8000 / 20166\n",
      "[t-SNE] Computed conditional probabilities for sample 9000 / 20166\n",
      "[t-SNE] Computed conditional probabilities for sample 10000 / 20166\n",
      "[t-SNE] Computed conditional probabilities for sample 11000 / 20166\n",
      "[t-SNE] Computed conditional probabilities for sample 12000 / 20166\n",
      "[t-SNE] Computed conditional probabilities for sample 13000 / 20166\n",
      "[t-SNE] Computed conditional probabilities for sample 14000 / 20166\n",
      "[t-SNE] Computed conditional probabilities for sample 15000 / 20166\n",
      "[t-SNE] Computed conditional probabilities for sample 16000 / 20166\n",
      "[t-SNE] Computed conditional probabilities for sample 17000 / 20166\n",
      "[t-SNE] Computed conditional probabilities for sample 18000 / 20166\n",
      "[t-SNE] Computed conditional probabilities for sample 19000 / 20166\n",
      "[t-SNE] Computed conditional probabilities for sample 20000 / 20166\n",
      "[t-SNE] Computed conditional probabilities for sample 20166 / 20166\n",
      "[t-SNE] Mean sigma: 0.227143\n",
      "[t-SNE] Iteration 25: error = 0.9548281, gradient norm = 0.0040394\n",
      "[t-SNE] Iteration 50: error = 0.9540477, gradient norm = 0.0035933\n",
      "[t-SNE] Iteration 75: error = 0.9494374, gradient norm = 0.0022453\n",
      "[t-SNE] Iteration 100: error = 0.9478710, gradient norm = 0.0020230\n",
      "[t-SNE] Error after 100 iterations with early exaggeration: 0.947871\n",
      "[t-SNE] Iteration 125: error = 0.9444920, gradient norm = 0.0016573\n",
      "[t-SNE] Iteration 150: error = 0.9431834, gradient norm = 0.0015554\n",
      "[t-SNE] Iteration 175: error = 0.9428443, gradient norm = 0.0015308\n",
      "[t-SNE] Iteration 200: error = 0.9427434, gradient norm = 0.0015246\n",
      "[t-SNE] Iteration 225: error = 0.9427169, gradient norm = 0.0015228\n",
      "[t-SNE] Iteration 250: error = 0.9427087, gradient norm = 0.0015223\n",
      "[t-SNE] Iteration 250: error difference 0.000000. Finished.\n",
      "[t-SNE] Error after 250 iterations: 0.942709\n"
     ]
    },
    {
     "data": {
      "image/png": "[encoded data removed]",
      "text/plain": [
       "<matplotlib.figure.Figure at 0x7ff0fbe85b90>"
      ]
     },
     "metadata": {},
     "output_type": "display_data"
    },
    {
     "data": {
      "image/png": "[encoded data removed]",
      "text/plain": [
       "<matplotlib.figure.Figure at 0x7ff0f52fba90>"
      ]
     },
     "metadata": {},
     "output_type": "display_data"
    }
   ],
   "source": [
    "from sklearn.manifold import TSNE\n",
    "words = ['story', 'movie','plot', 'film', 'good', 'bad', 'awful', 'awesome', 'man', 'woman', 'like', 'actor', 'actress']\n",
    "vectors = model.syn0\n",
    "\n",
    "pca = PCA(n_components=2)\n",
    "pca_2d = pca.fit_transform(vectors)\n",
    "\n",
    "tsne = TSNE(n_components=2, random_state=0, verbose=10, init='pca')\n",
    "tsne_2d = tsne.fit_transform(vectors)\n",
    "\n",
    "first = True\n",
    "for name, transform in zip(['PCA', 'TSNE'], [pca_2d, tsne_2d]):  \n",
    "#for name, transform in zip(['PCA'], [pca_2d]):   \n",
    "    plt.figure(figsize=(6,6))\n",
    "    for point, word in zip(transform , words):\n",
    "        plt.scatter(point[0], point[1], c='r' if first else 'g')\n",
    "        plt.annotate(\n",
    "            word, \n",
    "            xy = (point[0], point[1]),\n",
    "            xytext = (-7, -6) if first else (7, -6),\n",
    "            textcoords = 'offset points',\n",
    "            ha = 'right' if first else 'left',\n",
    "            va = 'bottom',\n",
    "            size = \"medium\"\n",
    "            )\n",
    "        first = not first \n",
    "    plt.title(name)\n",
    "    plt.tight_layout()\n",
    "plt.show()\n"
   ]
  },
  {
   "cell_type": "code",
   "execution_count": null,
   "metadata": {
    "collapsed": true
   },
   "outputs": [],
   "source": []
  }
 ],
 "metadata": {
  "anaconda-cloud": {},
  "celltoolbar": "Slideshow",
  "kernelspec": {
   "display_name": "Python [conda root]",
   "language": "python",
   "name": "conda-root-py"
  },
  "language_info": {
   "codemirror_mode": {
    "name": "ipython",
    "version": 2
   },
   "file_extension": ".py",
   "mimetype": "text/x-python",
   "name": "python",
   "nbconvert_exporter": "python",
   "pygments_lexer": "ipython2",
   "version": "2.7.11"
  },
  "nbpresent": {
   "slides": {
    "0108f6f6-7e16-4035-b56b-1135f27cf68b": {
     "id": "0108f6f6-7e16-4035-b56b-1135f27cf68b",
     "prev": "39125589-c1a2-4ae0-a68a-4e121bf36235",
     "regions": {
      "76021d66-7358-4a0a-9e1e-d2b33c386c1b": {
       "attrs": {
        "height": 0.4,
        "width": 0.8,
        "x": 0.1,
        "y": 0.5
       },
       "content": {
        "cell": "be448377-de47-4493-bec8-a60c20b06d5a",
        "part": "whole"
       },
       "id": "76021d66-7358-4a0a-9e1e-d2b33c386c1b"
      },
      "85172fcd-c717-484e-9d0d-c87fb2eea9c2": {
       "attrs": {
        "height": 0.8,
        "width": 0.8,
        "x": 0.1,
        "y": 0.1
       },
       "content": {
        "cell": "9def4486-def4-4cf4-b94a-748e0bca0c9b",
        "part": "whole"
       },
       "id": "85172fcd-c717-484e-9d0d-c87fb2eea9c2"
      }
     }
    },
    "068b92ae-f75f-46f6-9937-4bee2b9cc173": {
     "id": "068b92ae-f75f-46f6-9937-4bee2b9cc173",
     "prev": "bd3a515b-ce60-402a-ba17-bc77792d4854",
     "regions": {
      "29d4a416-71a6-4154-860c-6504152aeba3": {
       "attrs": {
        "height": 0.8,
        "width": 0.8,
        "x": 0.1,
        "y": 0.1
       },
       "content": {
        "cell": "857a60c7-9d9e-413d-87db-18c07e250cd9",
        "part": "whole"
       },
       "id": "29d4a416-71a6-4154-860c-6504152aeba3"
      }
     }
    },
    "0a22853d-cea1-4740-a57f-1db9405cdedc": {
     "id": "0a22853d-cea1-4740-a57f-1db9405cdedc",
     "prev": "5491cfb5-67df-4527-af83-084e53944ecd",
     "regions": {
      "81a4a59f-0762-4345-bb44-701d6e0037c9": {
       "attrs": {
        "height": 0.8,
        "width": 0.8,
        "x": 0.1,
        "y": 0.1
       },
       "content": {
        "cell": "d1c2e8ee-d3ba-4bb7-9adb-038bdc7b3dd1",
        "part": "whole"
       },
       "id": "81a4a59f-0762-4345-bb44-701d6e0037c9"
      }
     }
    },
    "2e26c3b2-b910-4e29-a926-f383ecf0e8e7": {
     "id": "2e26c3b2-b910-4e29-a926-f383ecf0e8e7",
     "prev": "47d8e4fe-3e59-4bd9-9394-45c626295f7a",
     "regions": {
      "c7ddc3d8-b4a6-4296-96e9-901daacf57ea": {
       "attrs": {
        "height": 0.8,
        "width": 0.8,
        "x": 0.1,
        "y": 0.1
       },
       "content": {
        "cell": "e627fcfd-b58e-4c3a-b44d-28bf8991e25d",
        "part": "whole"
       },
       "id": "c7ddc3d8-b4a6-4296-96e9-901daacf57ea"
      }
     }
    },
    "39125589-c1a2-4ae0-a68a-4e121bf36235": {
     "id": "39125589-c1a2-4ae0-a68a-4e121bf36235",
     "prev": "f86e01a5-ddac-4afb-a80d-230fd2c9d3a7",
     "regions": {
      "7eb72701-c9cf-41b6-b62c-10bb1e16e222": {
       "attrs": {
        "height": 0.4,
        "width": 0.8,
        "x": 0.1,
        "y": 0.5
       },
       "content": {
        "cell": "50f11ad0-4b49-44ba-928d-791eecc4790c",
        "part": "whole"
       },
       "id": "7eb72701-c9cf-41b6-b62c-10bb1e16e222"
      },
      "98242526-0074-4484-9b35-208d8bf218fc": {
       "attrs": {
        "height": 0.8,
        "width": 0.8,
        "x": 0.1,
        "y": 0.1
       },
       "content": {
        "cell": "1e87e2af-5bea-4362-89d9-5ba8cec65842",
        "part": "whole"
       },
       "id": "98242526-0074-4484-9b35-208d8bf218fc"
      }
     }
    },
    "399d2dc1-1424-4669-b25f-bcf0eaaf64c0": {
     "id": "399d2dc1-1424-4669-b25f-bcf0eaaf64c0",
     "prev": "69c4c14e-a6cc-4cbc-aa6b-7601bcbdb58b",
     "regions": {
      "092787b5-8ffc-48c1-8408-e8b822cc796d": {
       "attrs": {
        "height": 0.4,
        "width": 0.8,
        "x": 0.1,
        "y": 0.5
       },
       "content": {
        "cell": "eba5a957-cd79-4819-abc2-a991cc42fb55",
        "part": "whole"
       },
       "id": "092787b5-8ffc-48c1-8408-e8b822cc796d"
      },
      "2f87360d-6f58-4afb-b5a8-f704dbeccd14": {
       "attrs": {
        "height": 0.8,
        "width": 0.8,
        "x": 0.1,
        "y": 0.1
       },
       "content": {
        "cell": "03e942e9-856f-427d-a634-5692b86c1c39",
        "part": "whole"
       },
       "id": "2f87360d-6f58-4afb-b5a8-f704dbeccd14"
      }
     }
    },
    "3ad3df4d-6d23-45bb-8649-7a626c785ad6": {
     "id": "3ad3df4d-6d23-45bb-8649-7a626c785ad6",
     "prev": "0a22853d-cea1-4740-a57f-1db9405cdedc",
     "regions": {
      "4bc8f2f7-47b8-469b-8573-f3dcdd2a3bb7": {
       "attrs": {
        "height": 0.8,
        "width": 0.8,
        "x": 0.1,
        "y": 0.1
       },
       "content": {
        "cell": "188d6842-d012-441f-beec-c5ae7f46aca7",
        "part": "whole"
       },
       "id": "4bc8f2f7-47b8-469b-8573-f3dcdd2a3bb7"
      }
     }
    },
    "47d8e4fe-3e59-4bd9-9394-45c626295f7a": {
     "id": "47d8e4fe-3e59-4bd9-9394-45c626295f7a",
     "prev": "f508fbef-d584-4532-b9ae-6307ad78b8b6",
     "regions": {
      "082554d7-90bb-4a26-9fdb-0c54c9cb7ba2": {
       "attrs": {
        "height": 0.8,
        "width": 0.8,
        "x": 0.1,
        "y": 0.1
       },
       "content": {
        "cell": "b446b568-00a0-42ec-a9ac-dc73538a5ca2",
        "part": "whole"
       },
       "id": "082554d7-90bb-4a26-9fdb-0c54c9cb7ba2"
      }
     }
    },
    "49167f26-ead3-416d-a9ce-c9c301a39e0b": {
     "id": "49167f26-ead3-416d-a9ce-c9c301a39e0b",
     "prev": "2e26c3b2-b910-4e29-a926-f383ecf0e8e7",
     "regions": {
      "fae949cb-bfe7-4f6e-97ec-636f5e6cb2e3": {
       "attrs": {
        "height": 0.8,
        "width": 0.8,
        "x": 0.1,
        "y": 0.1
       },
       "content": {
        "cell": "d1f74fb0-4852-4945-8b03-fc7dd7cbf67f",
        "part": "whole"
       },
       "id": "fae949cb-bfe7-4f6e-97ec-636f5e6cb2e3"
      }
     }
    },
    "4c5d2307-1fcc-46b1-a24c-3c927faecc20": {
     "id": "4c5d2307-1fcc-46b1-a24c-3c927faecc20",
     "prev": null,
     "regions": {
      "0a6ed170-6643-4b96-97a4-e270ce9f281f": {
       "attrs": {
        "height": 0.8,
        "width": 0.8,
        "x": 0.1,
        "y": 0.1
       },
       "content": {
        "cell": "836b7700-e496-4171-9798-354a346c8e9a",
        "part": "whole"
       },
       "id": "0a6ed170-6643-4b96-97a4-e270ce9f281f"
      }
     }
    },
    "5491cfb5-67df-4527-af83-084e53944ecd": {
     "id": "5491cfb5-67df-4527-af83-084e53944ecd",
     "prev": "83a4314b-d405-4a6a-a1a3-3d1d1deccbc0",
     "regions": {
      "2aa07b38-929e-4b84-a3a9-d0d1da69b759": {
       "attrs": {
        "height": 0.8,
        "width": 0.8,
        "x": 0.1,
        "y": 0.1
       },
       "content": {
        "cell": "e4dc43e0-80b7-4426-8eb3-45bb5bd7827a",
        "part": "whole"
       },
       "id": "2aa07b38-929e-4b84-a3a9-d0d1da69b759"
      }
     }
    },
    "69c4c14e-a6cc-4cbc-aa6b-7601bcbdb58b": {
     "id": "69c4c14e-a6cc-4cbc-aa6b-7601bcbdb58b",
     "prev": "49167f26-ead3-416d-a9ce-c9c301a39e0b",
     "regions": {
      "0589ad4d-3ce3-4152-a73f-7530b46c90a1": {
       "attrs": {
        "height": 0.4,
        "width": 0.8,
        "x": 0.1,
        "y": 0.5
       },
       "content": {
        "cell": "1e3b2d36-5346-4b01-bfc2-67e7f2af25c1",
        "part": "whole"
       },
       "id": "0589ad4d-3ce3-4152-a73f-7530b46c90a1"
      },
      "dc634998-4aa9-4b49-b4ef-760c50c9d3d7": {
       "attrs": {
        "height": 0.8,
        "width": 0.8,
        "x": 0.1,
        "y": 0.1
       },
       "content": {
        "cell": "4cbef8ba-b678-40a1-b71d-f0dda08c06df",
        "part": "whole"
       },
       "id": "dc634998-4aa9-4b49-b4ef-760c50c9d3d7"
      },
      "e03c64a3-b36b-45fb-868f-debc753a76a4": {
       "attrs": {
        "height": 0.4,
        "width": 0.8,
        "x": 0.1,
        "y": 0.5
       },
       "content": {
        "cell": "1eea560c-ae93-43cd-8d3e-a5f0629a885a",
        "part": "whole"
       },
       "id": "e03c64a3-b36b-45fb-868f-debc753a76a4"
      }
     }
    },
    "83a4314b-d405-4a6a-a1a3-3d1d1deccbc0": {
     "id": "83a4314b-d405-4a6a-a1a3-3d1d1deccbc0",
     "prev": "c8f32c66-9083-4bba-ab76-eb3e6ccabd2c",
     "regions": {
      "c2807699-e71b-4fb5-b713-7105d8b90eed": {
       "attrs": {
        "height": 0.8,
        "width": 0.8,
        "x": 0.1,
        "y": 0.1
       },
       "content": {
        "cell": "348351b9-005f-47ac-a927-ce7cb773fe90",
        "part": "whole"
       },
       "id": "c2807699-e71b-4fb5-b713-7105d8b90eed"
      },
      "d6febe3f-3aff-4350-b192-9f45df9d760a": {
       "attrs": {
        "height": 0.4,
        "width": 0.8,
        "x": 0.1,
        "y": 0.5
       },
       "content": {
        "cell": "ccb71b15-0e3d-4174-887a-197bbcf35750",
        "part": "whole"
       },
       "id": "d6febe3f-3aff-4350-b192-9f45df9d760a"
      }
     }
    },
    "ab13fb37-989e-4792-bc29-9b8221b75e52": {
     "id": "ab13fb37-989e-4792-bc29-9b8221b75e52",
     "prev": "068b92ae-f75f-46f6-9937-4bee2b9cc173",
     "regions": {
      "02f20104-27a6-4969-b7d3-01ee42c5e0fb": {
       "attrs": {
        "height": 0.4,
        "width": 0.8,
        "x": 0.1,
        "y": 0.5
       },
       "content": {
        "cell": "77183c01-f99f-4dcb-a6f6-63809f56144d",
        "part": "whole"
       },
       "id": "02f20104-27a6-4969-b7d3-01ee42c5e0fb"
      },
      "82ea6c58-985b-4c29-861c-f7d346ac3e6a": {
       "attrs": {
        "height": 0.4,
        "width": 0.8,
        "x": 0.1,
        "y": 0.5
       },
       "content": {
        "cell": "f14e24ac-9678-4f16-99d9-4bbba508c508",
        "part": "whole"
       },
       "id": "82ea6c58-985b-4c29-861c-f7d346ac3e6a"
      },
      "cb0c0125-c9d1-4c79-ab1d-7a4f07f6eaad": {
       "attrs": {
        "height": 0.4,
        "width": 0.8,
        "x": 0.1,
        "y": 0.5
       },
       "content": {
        "cell": "10d50aba-eb52-4baf-b9c1-6ab86c6e2525",
        "part": "whole"
       },
       "id": "cb0c0125-c9d1-4c79-ab1d-7a4f07f6eaad"
      },
      "fcaaa867-b510-4edb-8514-e77840a01b1a": {
       "attrs": {
        "height": 0.8,
        "width": 0.8,
        "x": 0.1,
        "y": 0.1
       },
       "content": {
        "cell": "7d776e37-257f-47c0-87b0-193558ad16ce",
        "part": "whole"
       },
       "id": "fcaaa867-b510-4edb-8514-e77840a01b1a"
      }
     }
    },
    "b1acd603-6a4d-46e7-81b0-8e103f99acfe": {
     "id": "b1acd603-6a4d-46e7-81b0-8e103f99acfe",
     "prev": "399d2dc1-1424-4669-b25f-bcf0eaaf64c0",
     "regions": {
      "97265508-87db-4fa0-abbd-fca1816f6302": {
       "attrs": {
        "height": 0.4,
        "width": 0.8,
        "x": 0.1,
        "y": 0.5
       },
       "content": {
        "cell": "deec0c29-5ae2-4866-adfb-e5d4485ac51a",
        "part": "whole"
       },
       "id": "97265508-87db-4fa0-abbd-fca1816f6302"
      },
      "c285e815-cde8-4f85-b6cd-4d24a8e13889": {
       "attrs": {
        "height": 0.8,
        "width": 0.8,
        "x": 0.1,
        "y": 0.1
       },
       "content": {
        "cell": "fcfffce9-3b7e-46c2-aa6b-de60a9b0a175",
        "part": "whole"
       },
       "id": "c285e815-cde8-4f85-b6cd-4d24a8e13889"
      }
     }
    },
    "bd3a515b-ce60-402a-ba17-bc77792d4854": {
     "id": "bd3a515b-ce60-402a-ba17-bc77792d4854",
     "prev": "3ad3df4d-6d23-45bb-8649-7a626c785ad6",
     "regions": {
      "984a713d-046c-4501-82ec-2bf7c0b5c8cd": {
       "attrs": {
        "height": 0.8,
        "width": 0.8,
        "x": 0.1,
        "y": 0.1
       },
       "content": {
        "cell": "5260cedc-c65d-4014-9f78-96a73b8c2d18",
        "part": "whole"
       },
       "id": "984a713d-046c-4501-82ec-2bf7c0b5c8cd"
      }
     }
    },
    "c8f32c66-9083-4bba-ab76-eb3e6ccabd2c": {
     "id": "c8f32c66-9083-4bba-ab76-eb3e6ccabd2c",
     "prev": "b1acd603-6a4d-46e7-81b0-8e103f99acfe",
     "regions": {
      "245d84c1-7a85-4cac-9314-16cabd9ebb85": {
       "attrs": {
        "height": 0.8,
        "width": 0.8,
        "x": 0.1,
        "y": 0.1
       },
       "content": {
        "cell": "3a374a7c-6ddf-4a7e-a78b-b468758210d6",
        "part": "whole"
       },
       "id": "245d84c1-7a85-4cac-9314-16cabd9ebb85"
      },
      "ae118bbe-5b04-457a-8a12-f7018a2da061": {
       "attrs": {
        "height": 0.4,
        "width": 0.8,
        "x": 0.1,
        "y": 0.5
       },
       "content": {
        "cell": "18c2b8bb-6701-481d-a304-7abb03ee5645",
        "part": "whole"
       },
       "id": "ae118bbe-5b04-457a-8a12-f7018a2da061"
      }
     }
    },
    "f508fbef-d584-4532-b9ae-6307ad78b8b6": {
     "id": "f508fbef-d584-4532-b9ae-6307ad78b8b6",
     "prev": "0108f6f6-7e16-4035-b56b-1135f27cf68b",
     "regions": {
      "1c503453-1526-472c-ba2f-d4440861f56c": {
       "attrs": {
        "height": 0.4,
        "width": 0.8,
        "x": 0.1,
        "y": 0.5
       },
       "content": {
        "cell": "9293030b-42f8-4976-85fe-8fd5877c7fcf",
        "part": "whole"
       },
       "id": "1c503453-1526-472c-ba2f-d4440861f56c"
      },
      "ea69ebc7-40b3-435a-82a5-d88f98bf0e93": {
       "attrs": {
        "height": 0.8,
        "width": 0.8,
        "x": 0.1,
        "y": 0.1
       },
       "content": {
        "cell": "a77185b1-3981-4cf3-9b72-34e98245909c",
        "part": "whole"
       },
       "id": "ea69ebc7-40b3-435a-82a5-d88f98bf0e93"
      }
     }
    },
    "f86e01a5-ddac-4afb-a80d-230fd2c9d3a7": {
     "id": "f86e01a5-ddac-4afb-a80d-230fd2c9d3a7",
     "prev": "4c5d2307-1fcc-46b1-a24c-3c927faecc20",
     "regions": {
      "339671af-0a7d-4c98-8708-20a6bd9d411d": {
       "attrs": {
        "height": 0.4,
        "width": 0.8,
        "x": 0.1,
        "y": 0.5
       },
       "content": {
        "cell": "81a36843-e0d8-403c-9e47-bf32cfa9267c",
        "part": "whole"
       },
       "id": "339671af-0a7d-4c98-8708-20a6bd9d411d"
      },
      "5b0f3928-9772-45e2-999d-7e6a0007857b": {
       "attrs": {
        "height": 0.4,
        "width": 0.8,
        "x": 0.1,
        "y": 0.5
       },
       "content": {
        "cell": "d8c43dd5-aadc-4e99-b653-44357b396ec6",
        "part": "whole"
       },
       "id": "5b0f3928-9772-45e2-999d-7e6a0007857b"
      },
      "8bd65a19-7da3-42b1-9733-9c3a210f13bf": {
       "attrs": {
        "height": 0.8,
        "width": 0.8,
        "x": 0.1,
        "y": 0.1
       },
       "content": {
        "cell": "f0c2a310-79ca-4b6f-a166-12841485dd74",
        "part": "whole"
       },
       "id": "8bd65a19-7da3-42b1-9733-9c3a210f13bf"
      }
     }
    }
   },
   "themes": {}
  }
 },
 "nbformat": 4,
 "nbformat_minor": 0
}
