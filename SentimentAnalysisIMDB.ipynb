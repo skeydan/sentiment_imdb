{
 "cells": [
  {
   "cell_type": "markdown",
   "metadata": {
    "slideshow": {
     "slide_type": "slide"
    }
   },
   "source": [
    "Intro"
   ]
  },
  {
   "cell_type": "markdown",
   "metadata": {
    "slideshow": {
     "slide_type": "slide"
    }
   },
   "source": [
    "All preprocessing / cleanup already has been done on file level, so we may directly load our training and test data ..."
   ]
  },
  {
   "cell_type": "code",
   "execution_count": 4,
   "metadata": {
    "collapsed": false,
    "slideshow": {
     "slide_type": "fragment"
    }
   },
   "outputs": [],
   "source": [
    "# Load our cleaned-up training and test data\n",
    "\n",
    "import io\n",
    "import pandas as pd\n",
    "import numpy as np\n",
    "\n",
    "with io.open('data/aclImdb/train-pos.txt', encoding='utf-8') as f: train_pos = pd.DataFrame({'review': list(f)})    \n",
    "with io.open('data/aclImdb/train-neg.txt', encoding='utf-8') as f: train_neg = pd.DataFrame({'review': list(f)}) \n",
    "train_reviews = pd.concat([train_neg, train_pos], ignore_index=True)\n",
    "\n",
    "with io.open('data/aclImdb/test-pos.txt', encoding='utf-8') as f: test_pos = pd.DataFrame({'review': list(f)})\n",
    "with io.open('data/aclImdb/test-neg.txt', encoding='utf-8') as f: test_neg = pd.DataFrame({'review': list(f)})    \n",
    "test_reviews = pd.concat([test_neg, test_pos], ignore_index=True)\n",
    "\n",
    "X_train = train_reviews['review']\n",
    "X_test = test_reviews['review']\n",
    "\n",
    "y_train = np.append(np.zeros(12500), np.ones(12500))\n",
    "y_test = np.append(np.zeros(12500), np.ones(12500)) "
   ]
  },
  {
   "cell_type": "markdown",
   "metadata": {
    "slideshow": {
     "slide_type": "slide"
    }
   },
   "source": [
    "Let's have a look at the first review ..."
   ]
  },
  {
   "cell_type": "code",
   "execution_count": 5,
   "metadata": {
    "collapsed": false,
    "slideshow": {
     "slide_type": "fragment"
    }
   },
   "outputs": [
    {
     "data": {
      "text/plain": [
       "u\"a reasonable effort is summary for this film .  a good sixties film but lacking any sense of achievement .  maggie smith gave a decent performance which was believable enough but not as good as she could have given ,  other actors were just dreadful !  a terrible portrayal .  it wasn't very funny and so it didn't really achieve its genres as it wasn't particularly funny and it wasn't dramatic .  the only genre achieved to a satisfactory level was romance .  target audiences were not hit and the movie sent out confusing messages .  a very basic plot and a very basic storyline were not pulled off or performed at all well and people were left confused as to why the film wasn't as good and who the target audiences were etc .  however maggie was quite good and the storyline was alright with moments of capability .   4 . \\n\""
      ]
     },
     "execution_count": 5,
     "metadata": {},
     "output_type": "execute_result"
    }
   ],
   "source": [
    "X_train[0]"
   ]
  },
  {
   "cell_type": "code",
   "execution_count": 3,
   "metadata": {
    "collapsed": false,
    "slideshow": {
     "slide_type": "slide"
    }
   },
   "outputs": [
    {
     "data": {
      "text/plain": [
       "0        a reasonable effort is summary for this film ....\n",
       "1        how viewers react to this new  \" adaption \"  o...\n",
       "2        after seeing the poster from the film smother ...\n",
       "3        humphrey bogart clearly did not want to be in ...\n",
       "4        i would give this movie 5 rather than 3 if it ...\n",
       "5        this was one of the most ridiculous and badly ...\n",
       "6        i think that it was just pointless to produce ...\n",
       "7        watching this movie made me think constantly ;...\n",
       "8        this poor remake of the 1963 classic starts re...\n",
       "9        the ringmaster stars jerry springer as a tv ta...\n",
       "10       i first heard about white noise when i saw the...\n",
       "11       previous comment made me write this .  it says...\n",
       "12       this was one film i wanted to watch always whe...\n",
       "13       for years madonna has tried to prove not only ...\n",
       "14       i have seen a lot of movies .  .  . this is th...\n",
       "15       first lesson that some film makers  ( particul...\n",
       "16       an old intellectual talks about what he consid...\n",
       "17       another day stuck indoors ,  another film to w...\n",
       "18       given the title and outlandish box art ,  i wa...\n",
       "19       this is a truly terrible film .   i'm only wri...\n",
       "20       i just watched the incredible melting man for ...\n",
       "21       the '60s is an occasionally entertaining film ...\n",
       "22       every once in a while i will rent an action/ad...\n",
       "23       jimmy dean could not have been more hammy or a...\n",
       "24       stewart kane  ( gabriel byrne ,  vanity fair )...\n",
       "25       please don't hate me but i have to be honest ,...\n",
       "26       i couldn't wait to put this movie in my dvd pl...\n",
       "27       as steven segal movies go this one is bottom o...\n",
       "28       yes ,  this is one of those movies ,  so terri...\n",
       "29       don't get me wrong  ,  i want to see marijuana...\n",
       "                               ...                        \n",
       "24970    forbidden planet is one of the best examples o...\n",
       "24971    i showed this to my 6th grade class about 17 y...\n",
       "24972    18 directors had the same task :  tell stories...\n",
       "24973    this is one of the most guilty pleasure movies...\n",
       "24974    in an alternate 1950s ,  where an outbreak of ...\n",
       "24975    i watch this movie all the time .  i've watche...\n",
       "24976    yeah ,  it is .  in fact ,  it's somewhere in ...\n",
       "24977    a clever ,  undeniably entertaining romp starr...\n",
       "24978    the lion king series is easily the crowning ac...\n",
       "24979    the book on which this movie is based was exce...\n",
       "24980    this movie is one of the many  \" kung fu \"  ac...\n",
       "24981    after enjoying this show for years ,  i use to...\n",
       "24982    australian fred schepisi  ( a cry in the dark ...\n",
       "24983    if ever there were an inspiring story that cou...\n",
       "24984    i was on france ,  around march 05 ,  and i lo...\n",
       "24985    this movie is very good .  the screenplay is e...\n",
       "24986    this is the best sci-fi that i have seen in my...\n",
       "24987    indian cinema typifies cops of two broad categ...\n",
       "24988    really ,  i think this movie is more an exampl...\n",
       "24989    i have never seen such a movie before .  i was...\n",
       "24990    this is my first review on imdb ,  i didn't re...\n",
       "24991    i was also on hand for the premiere in toronto...\n",
       "24992    excellent warner bros effort starring errol fl...\n",
       "24993    this film exceeded my expectations .  i though...\n",
       "24994    i'm from romania i'll try to speak in english ...\n",
       "24995     \" stairway to heaven \"  is a outstanding inve...\n",
       "24996    ya know when one looks at this brian depalma f...\n",
       "24997    this is one of the best movies .  it is one of...\n",
       "24998    it's movies like these that make you wish that...\n",
       "24999    eyeliner was worn nearly 6000 years ago in egy...\n",
       "Name: review, dtype: object"
      ]
     },
     "execution_count": 3,
     "metadata": {},
     "output_type": "execute_result"
    }
   ],
   "source": [
    "X_train"
   ]
  },
  {
   "cell_type": "code",
   "execution_count": null,
   "metadata": {
    "collapsed": true
   },
   "outputs": [],
   "source": []
  }
 ],
 "metadata": {
  "celltoolbar": "Slideshow",
  "kernelspec": {
   "display_name": "Python 2",
   "language": "python",
   "name": "python2"
  },
  "language_info": {
   "codemirror_mode": {
    "name": "ipython",
    "version": 2
   },
   "file_extension": ".py",
   "mimetype": "text/x-python",
   "name": "python",
   "nbconvert_exporter": "python",
   "pygments_lexer": "ipython2",
   "version": "2.7.11"
  },
  "livereveal": {
   "height": 768,
   "start_slideshow_at": "selected",
   "theme": "serif",
   "width": 1024
  }
 },
 "nbformat": 4,
 "nbformat_minor": 0
}
