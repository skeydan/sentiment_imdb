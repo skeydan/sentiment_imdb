{
 "cells": [
  {
   "cell_type": "markdown",
   "metadata": {
    "nbpresent": {
     "id": "836b7700-e496-4171-9798-354a346c8e9a"
    },
    "slideshow": {
     "slide_type": "slide"
    }
   },
   "source": [
    "Intro"
   ]
  },
  {
   "cell_type": "markdown",
   "metadata": {
    "nbpresent": {
     "id": "f0c2a310-79ca-4b6f-a166-12841485dd74"
    },
    "slideshow": {
     "slide_type": "slide"
    }
   },
   "source": [
    "# www.imdb.com"
   ]
  },
  {
   "cell_type": "markdown",
   "metadata": {
    "nbpresent": {
     "id": "d8c43dd5-aadc-4e99-b653-44357b396ec6"
    },
    "slideshow": {
     "slide_type": "fragment"
    }
   },
   "source": [
    "<img src=\"review.png\"> "
   ]
  },
  {
   "cell_type": "markdown",
   "metadata": {
    "nbpresent": {
     "id": "81a36843-e0d8-403c-9e47-bf32cfa9267c"
    },
    "slideshow": {
     "slide_type": "fragment"
    }
   },
   "source": [
    "Get archives for labeled training and test data from: http://ai.stanford.edu/~amaas/data/sentiment/'"
   ]
  },
  {
   "cell_type": "markdown",
   "metadata": {
    "nbpresent": {
     "id": "1e87e2af-5bea-4362-89d9-5ba8cec65842"
    },
    "slideshow": {
     "slide_type": "slide"
    }
   },
   "source": [
    "## Load the data\n",
    "\n",
    "\n"
   ]
  },
  {
   "cell_type": "code",
   "execution_count": 1,
   "metadata": {
    "collapsed": false,
    "nbpresent": {
     "id": "50f11ad0-4b49-44ba-928d-791eecc4790c"
    },
    "slideshow": {
     "slide_type": "fragment"
    }
   },
   "outputs": [],
   "source": [
    "import io\n",
    "import pandas as pd\n",
    "import numpy as np\n",
    "\n",
    "with io.open('data/aclImdb/train-pos.txt', encoding='utf-8') as f:\n",
    "    train_pos = pd.DataFrame({'review': list(f)})    \n",
    "with io.open('data/aclImdb/train-neg.txt', encoding='utf-8') as f:\n",
    "    train_neg = pd.DataFrame({'review': list(f)}) \n",
    "train_reviews = pd.concat([train_neg, train_pos], ignore_index=True)\n",
    "\n",
    "with io.open('data/aclImdb/test-pos.txt', encoding='utf-8') as f:\n",
    "    test_pos = pd.DataFrame({'review': list(f)})\n",
    "with io.open('data/aclImdb/test-neg.txt', encoding='utf-8') as f:\n",
    "    test_neg = pd.DataFrame({'review': list(f)})    \n",
    "test_reviews = pd.concat([test_neg, test_pos], ignore_index=True)\n",
    "  \n",
    "X_train = train_reviews['review']\n",
    "X_test = test_reviews['review']\n",
    "\n",
    "y_train = np.append(np.zeros(12500), np.ones(12500))\n",
    "y_test = np.append(np.zeros(12500), np.ones(12500)) "
   ]
  },
  {
   "cell_type": "markdown",
   "metadata": {
    "nbpresent": {
     "id": "9def4486-def4-4cf4-b94a-748e0bca0c9b"
    },
    "slideshow": {
     "slide_type": "slide"
    }
   },
   "source": [
    "## First review - good or bad?\n",
    "\n",
    "\n"
   ]
  },
  {
   "cell_type": "code",
   "execution_count": 2,
   "metadata": {
    "collapsed": false,
    "nbpresent": {
     "id": "be448377-de47-4493-bec8-a60c20b06d5a"
    },
    "slideshow": {
     "slide_type": "fragment"
    }
   },
   "outputs": [
    {
     "data": {
      "text/plain": [
       "u\"a reasonable effort is summary for this film .  a good sixties film but lacking any sense of achievement .  maggie smith gave a decent performance which was believable enough but not as good as she could have given ,  other actors were just dreadful !  a terrible portrayal .  it wasn't very funny and so it didn't really achieve its genres as it wasn't particularly funny and it wasn't dramatic .  the only genre achieved to a satisfactory level was romance .  target audiences were not hit and the movie sent out confusing messages .  a very basic plot and a very basic storyline were not pulled off or performed at all well and people were left confused as to why the film wasn't as good and who the target audiences were etc .  however maggie was quite good and the storyline was alright with moments of capability .   4 . \\n\""
      ]
     },
     "execution_count": 2,
     "metadata": {},
     "output_type": "execute_result"
    }
   ],
   "source": [
    "X_train[0]"
   ]
  },
  {
   "cell_type": "markdown",
   "metadata": {
    "nbpresent": {
     "id": "a77185b1-3981-4cf3-9b72-34e98245909c"
    },
    "slideshow": {
     "slide_type": "slide"
    }
   },
   "source": [
    "## What people thought\n",
    "\n",
    "\n"
   ]
  },
  {
   "cell_type": "code",
   "execution_count": 3,
   "metadata": {
    "collapsed": false,
    "nbpresent": {
     "id": "9293030b-42f8-4976-85fe-8fd5877c7fcf"
    },
    "slideshow": {
     "slide_type": "fragment"
    }
   },
   "outputs": [
    {
     "data": {
      "text/plain": [
       "0.0"
      ]
     },
     "execution_count": 3,
     "metadata": {},
     "output_type": "execute_result"
    }
   ],
   "source": [
    "y_train[0]"
   ]
  },
  {
   "cell_type": "markdown",
   "metadata": {
    "nbpresent": {
     "id": "b446b568-00a0-42ec-a9ac-dc73538a5ca2"
    },
    "slideshow": {
     "slide_type": "slide"
    }
   },
   "source": [
    "# A naive approach: word counts  \n",
    "\n",
    "Basic principle: count and weight positive words, count and weight negative words, highest score wins\n",
    "\n",
    "Two types of challenge if we want to do this in an automated way:\n",
    "- how do I obtain the weights (how do I even know if something's positive or negative?)\n",
    "- how do I deal with complexity introduced by this being <i>language</i>?\n"
   ]
  },
  {
   "cell_type": "markdown",
   "metadata": {
    "nbpresent": {
     "id": "e627fcfd-b58e-4c3a-b44d-28bf8991e25d"
    },
    "slideshow": {
     "slide_type": "slide"
    }
   },
   "source": [
    "# Challenge no. 1: handling language (syntax / semantics)\n",
    "\n",
    "Some examples rom our review above:\n",
    "> performance which was believable enough but not as good as she could have given\n",
    "\n",
    "> lacking any sense of achievement \n",
    "\n",
    "> it wasn't very funny\n",
    "\n",
    "> the only genre achieved to a satisfactory level was romance"
   ]
  },
  {
   "cell_type": "markdown",
   "metadata": {
    "nbpresent": {
     "id": "d1f74fb0-4852-4945-8b03-fc7dd7cbf67f"
    },
    "slideshow": {
     "slide_type": "slide"
    }
   },
   "source": [
    "# So what's best: unigrams, bigrams, trigrams...?\n",
    "\n",
    "Instead of hypothesizing let's check what works best on our data set.\n",
    "\n",
    "First, let's inspect the most frequent unigrams, bigrams and trigrams and their actual frequencies.\n",
    "\n",
    "But there's another question to be answered before...\n",
    "\n"
   ]
  },
  {
   "cell_type": "markdown",
   "metadata": {
    "nbpresent": {
     "id": "4cbef8ba-b678-40a1-b71d-f0dda08c06df"
    },
    "slideshow": {
     "slide_type": "slide"
    }
   },
   "source": [
    "## How to handle stopwords?"
   ]
  },
  {
   "cell_type": "code",
   "execution_count": 4,
   "metadata": {
    "collapsed": false,
    "nbpresent": {
     "id": "1eea560c-ae93-43cd-8d3e-a5f0629a885a"
    },
    "slideshow": {
     "slide_type": "fragment"
    }
   },
   "outputs": [
    {
     "name": "stdout",
     "output_type": "stream",
     "text": [
      "set([u'all', u'just', u'being', u'over', u'both', u'through', u'yourselves', u'its', u'before', u'o', u'hadn', u'herself', u'll', u'had', u'should', u'to', u'only', u'won', u'under', u'ours', u'has', u'do', u'them', u'his', u'very', u'they', u'not', u'during', u'now', u'him', u'nor', u'd', u'did', u'didn', u'this', u'she', u'each', u'further', u'where', u'few', u'because', u'doing', u'some', u'hasn', u'are', u'our', u'ourselves', u'out', u'what', u'for', u'while', u're', u'does', u'above', u'between', u'mustn', u't', u'be', u'we', u'who', u'were', u'here', u'shouldn', u'hers', u'by', u'on', u'about', u'couldn', u'of', u'against', u's', u'isn', u'or', u'own', u'into', u'yourself', u'down', u'mightn', u'wasn', u'your', u'from', u'her', u'their', u'aren', u'there', u'been', u'whom', u'too', u'wouldn', u'themselves', u'weren', u'was', u'until', u'more', u'himself', u'that', u'but', u'don', u'with', u'than', u'those', u'he', u'me', u'myself', u'ma', u'these', u'up', u'will', u'below', u'ain', u'can', u'theirs', u'my', u'and', u've', u'then', u'is', u'am', u'it', u'doesn', u'an', u'as', u'itself', u'at', u'have', u'in', u'any', u'if', u'again', u'no', u'when', u'same', u'how', u'other', u'which', u'you', u'shan', u'needn', u'haven', u'after', u'most', u'such', u'why', u'a', u'off', u'i', u'm', u'yours', u'so', u'y', u'the', u'having', u'once'])\n"
     ]
    }
   ],
   "source": [
    "from nltk.corpus import stopwords\n",
    "stopwords_nltk = set(stopwords.words(\"english\"))\n",
    "print(stopwords_nltk)"
   ]
  },
  {
   "cell_type": "code",
   "execution_count": 5,
   "metadata": {
    "collapsed": true,
    "nbpresent": {
     "id": "1e3b2d36-5346-4b01-bfc2-67e7f2af25c1"
    },
    "slideshow": {
     "slide_type": "fragment"
    }
   },
   "outputs": [],
   "source": [
    "# don't want to exclude the negations\n",
    "relevant_words = set(['not', 'nor', 'no', 'wasn', 'ain', 'aren', 'very', 'only', 'but', 'don', 'isn', 'weren'])\n",
    "stopwords_filtered = list(stopwords_nltk.difference(relevant_words))"
   ]
  },
  {
   "cell_type": "markdown",
   "metadata": {
    "nbpresent": {
     "id": "03e942e9-856f-427d-a634-5692b86c1c39"
    },
    "slideshow": {
     "slide_type": "slide"
    }
   },
   "source": [
    "## Most frequent unigrams"
   ]
  },
  {
   "cell_type": "code",
   "execution_count": null,
   "metadata": {
    "collapsed": false,
    "nbpresent": {
     "id": "eba5a957-cd79-4819-abc2-a991cc42fb55"
    },
    "slideshow": {
     "slide_type": "fragment"
    }
   },
   "outputs": [],
   "source": [
    "# if we had the time to do this live ...\n",
    "# from sklearn.feature_extraction.text import CountVectorizer\n",
    "# vectorizer = CountVectorizer(stop_words = stopwords_filtered, max_features = 5000, ngram_range = (1,1)) ...\n",
    "word_counts_unigram = pd.read_csv('word_counts_sorted_ngram_1_stopwords_removed.csv', \n",
    "                                  usecols=['word', 'count'])\n",
    "print('overall word count: {}'.format(word_counts_unigram['count'].sum()))\n",
    "word_counts_unigram.head(10)"
   ]
  },
  {
   "cell_type": "markdown",
   "metadata": {
    "nbpresent": {
     "id": "fcfffce9-3b7e-46c2-aa6b-de60a9b0a175"
    },
    "slideshow": {
     "slide_type": "slide"
    }
   },
   "source": [
    "## Most frequent bigrams"
   ]
  },
  {
   "cell_type": "code",
   "execution_count": null,
   "metadata": {
    "collapsed": false,
    "nbpresent": {
     "id": "deec0c29-5ae2-4866-adfb-e5d4485ac51a"
    },
    "slideshow": {
     "slide_type": "fragment"
    }
   },
   "outputs": [],
   "source": [
    "word_counts_unigram = pd.read_csv('word_counts_sorted_ngram_2_stopwords_removed.csv', \n",
    "                                  usecols=['word', 'count'])\n",
    "print('overall bigram count: {}'.format(word_counts_unigram['count'].sum()))\n",
    "word_counts_unigram.head(10)"
   ]
  },
  {
   "cell_type": "markdown",
   "metadata": {
    "nbpresent": {
     "id": "3a374a7c-6ddf-4a7e-a78b-b468758210d6"
    },
    "slideshow": {
     "slide_type": "slide"
    }
   },
   "source": [
    "## Most frequent trigrams"
   ]
  },
  {
   "cell_type": "code",
   "execution_count": null,
   "metadata": {
    "collapsed": false,
    "nbpresent": {
     "id": "18c2b8bb-6701-481d-a304-7abb03ee5645"
    },
    "slideshow": {
     "slide_type": "fragment"
    }
   },
   "outputs": [],
   "source": [
    "word_counts_unigram = pd.read_csv('word_counts_sorted_ngram_3_stopwords_removed.csv', \n",
    "                                  usecols=['word', 'count'])\n",
    "print('overall trigram count: {}'.format(word_counts_unigram['count'].sum()))\n",
    "word_counts_unigram.head(10)"
   ]
  },
  {
   "cell_type": "markdown",
   "metadata": {
    "nbpresent": {
     "id": "348351b9-005f-47ac-a927-ce7cb773fe90"
    },
    "slideshow": {
     "slide_type": "slide"
    }
   },
   "source": [
    "## Most frequent four-grams"
   ]
  },
  {
   "cell_type": "code",
   "execution_count": null,
   "metadata": {
    "collapsed": false,
    "nbpresent": {
     "id": "ccb71b15-0e3d-4174-887a-197bbcf35750"
    },
    "slideshow": {
     "slide_type": "fragment"
    }
   },
   "outputs": [],
   "source": [
    "word_counts_unigram = pd.read_csv('word_counts_sorted_ngram_4_stopwords_removed.csv', \n",
    "                                  usecols=['word', 'count'])\n",
    "print('overall bigram count: {}'.format(word_counts_unigram['count'].sum()))\n",
    "word_counts_unigram.head(10)"
   ]
  },
  {
   "cell_type": "markdown",
   "metadata": {
    "nbpresent": {
     "id": "e4dc43e0-80b7-4426-8eb3-45bb5bd7827a"
    },
    "slideshow": {
     "slide_type": "slide"
    }
   },
   "source": [
    "# Challenge no. 2: Determine word sentiment and weight\n",
    "\n",
    "This is a classical classification task.\n",
    "Can use one of the usual suspects:\n",
    "- Logistic regression\n",
    "- Decision trees\n",
    "- Support Vector Machines\n",
    "- ..."
   ]
  },
  {
   "cell_type": "markdown",
   "metadata": {
    "nbpresent": {
     "id": "d1c2e8ee-d3ba-4bb7-9adb-038bdc7b3dd1"
    },
    "slideshow": {
     "slide_type": "slide"
    }
   },
   "source": [
    "TBD : Logsitic Regression explained"
   ]
  },
  {
   "cell_type": "markdown",
   "metadata": {
    "nbpresent": {
     "id": "188d6842-d012-441f-beec-c5ae7f46aca7"
    },
    "slideshow": {
     "slide_type": "slide"
    }
   },
   "source": [
    "# The right combination\n",
    "\n",
    "- Which classifier works best?\n",
    "- With what input (unigrams, bigrams, trigrams ...)?\n",
    "- Using which parameter settings?\n",
    "\n",
    "==> Perform a grid search"
   ]
  },
  {
   "cell_type": "code",
   "execution_count": null,
   "metadata": {
    "collapsed": false,
    "nbpresent": {
     "id": "5260cedc-c65d-4014-9f78-96a73b8c2d18"
    },
    "slideshow": {
     "slide_type": "slide"
    }
   },
   "outputs": [],
   "source": [
    "# logistic regression with 1-grams, 1-2-grams, 1-3-grams and different complexity penalty values\n",
    "\n",
    "# vectorizer = CountVectorizer(analyzer = \"word\", tokenizer = None, preprocessor = None,\n",
    "#                             stop_words = None, max_features = 10000)\n",
    "\n",
    "#logistic_model = LogisticRegression() \n",
    "#logistic_pipeline = Pipeline([(\"vectorizer\", vectorizer), (\"logistic\", logistic_model)])\n",
    "#search_params = dict(vectorizer__ngram_range = [(1,1), (1,2), (1,3)],\n",
    "#                     vectorizer__stop_words = [stopwords_filtered, None],\n",
    "#                     logistic__C = [0.01, 0.03, 0.05, 0.1])\n",
    "\n",
    "#best_logistic = GridSearchCV(logistic_pipeline, param_grid=search_params, cv=5, verbose=1)\n",
    "#best_logistic.fit(X_train, y_train)\n",
    "#print(best_logistic.best_params_)"
   ]
  },
  {
   "cell_type": "code",
   "execution_count": null,
   "metadata": {
    "collapsed": true,
    "nbpresent": {
     "id": "857a60c7-9d9e-413d-87db-18c07e250cd9"
    },
    "slideshow": {
     "slide_type": "slide"
    }
   },
   "outputs": [],
   "source": [
    "from sklearn.metrics import accuracy_score\n",
    "from sklearn.metrics import confusion_matrix\n",
    "from sklearn.metrics import classification_report\n",
    "\n",
    "def assess_classification_performance(model, X_train, y_train, X_test, y_test):\n",
    "  \n",
    "    accuracy_train = accuracy_score(y_train, model.predict(X_train))\n",
    "    accuracy_test = accuracy_score(y_test, model.predict(X_test))\n",
    "    print('\\nClassification performance overview:\\n************************************')\n",
    "    print('accuracy (train/test): {} / {}\\n'.format(accuracy_train, accuracy_test))\n",
    "    # confusion matrix\n",
    "    # rows: actual group\n",
    "    # columns: predicted group\n",
    "    print('Confusion_matrix (training data):')\n",
    "    print(confusion_matrix(y_train, model.predict(X_train)))\n",
    "    print('Confusion_matrix (test data):')\n",
    "    print(confusion_matrix(y_test, model.predict(X_test)))\n"
   ]
  },
  {
   "cell_type": "markdown",
   "metadata": {
    "collapsed": true,
    "nbpresent": {
     "id": "7d776e37-257f-47c0-87b0-193558ad16ce"
    },
    "slideshow": {
     "slide_type": "slide"
    }
   },
   "source": [
    "# Logistic Regression best fit\n",
    "\n",
    "- unigrams and bigrams\n",
    "- C = 0.03"
   ]
  },
  {
   "cell_type": "code",
   "execution_count": null,
   "metadata": {
    "collapsed": false,
    "nbpresent": {
     "id": "f14e24ac-9678-4f16-99d9-4bbba508c508"
    },
    "slideshow": {
     "slide_type": "fragment"
    }
   },
   "outputs": [],
   "source": [
    "from sklearn.feature_extraction.text import CountVectorizer\n",
    "from sklearn.linear_model import LogisticRegression\n",
    "vectorizer = CountVectorizer(analyzer = \"word\", tokenizer = None, preprocessor = None,\n",
    "                             stop_words = stopwords_filtered, max_features = 10000, ngram_range = (1,2))\n",
    "X_train_features = vectorizer.fit_transform(X_train)\n",
    "X_test_features = vectorizer.transform(X_test)\n",
    "\n",
    "logistic_model = LogisticRegression(C=0.03) \n",
    "logistic_model.fit(X_train_features, y_train)"
   ]
  },
  {
   "cell_type": "markdown",
   "metadata": {
    "slideshow": {
     "slide_type": "slide"
    }
   },
   "source": [
    "## Logistic Regression - how well did it work?"
   ]
  },
  {
   "cell_type": "code",
   "execution_count": null,
   "metadata": {
    "collapsed": false,
    "nbpresent": {
     "id": "77183c01-f99f-4dcb-a6f6-63809f56144d"
    },
    "slideshow": {
     "slide_type": "fragment"
    }
   },
   "outputs": [],
   "source": [
    "assess_classification_performance(logistic_model, X_train_features, y_train, X_test_features, y_test)"
   ]
  },
  {
   "cell_type": "markdown",
   "metadata": {
    "collapsed": true,
    "slideshow": {
     "slide_type": "slide"
    }
   },
   "source": [
    "## Which words make it positive?"
   ]
  },
  {
   "cell_type": "code",
   "execution_count": null,
   "metadata": {
    "collapsed": false,
    "slideshow": {
     "slide_type": "fragment"
    }
   },
   "outputs": [],
   "source": [
    "vocabulary = vectorizer.get_feature_names()\n",
    "coefs = logistic_model.coef_\n",
    "word_importances = pd.DataFrame({'word': vocabulary, 'coef': coefs.tolist()[0]})\n",
    "word_importances_sorted = word_importances.sort_values(by='coef', ascending = False)\n",
    "word_importances_sorted[:10]"
   ]
  },
  {
   "cell_type": "markdown",
   "metadata": {
    "slideshow": {
     "slide_type": "slide"
    }
   },
   "source": [
    "## Which words make it negative?"
   ]
  },
  {
   "cell_type": "code",
   "execution_count": null,
   "metadata": {
    "collapsed": false,
    "slideshow": {
     "slide_type": "fragment"
    }
   },
   "outputs": [],
   "source": [
    "word_importances_sorted[-11:-1]"
   ]
  },
  {
   "cell_type": "markdown",
   "metadata": {
    "slideshow": {
     "slide_type": "slide"
    }
   },
   "source": [
    "## How about the bigrams? (1)"
   ]
  },
  {
   "cell_type": "code",
   "execution_count": null,
   "metadata": {
    "collapsed": false,
    "slideshow": {
     "slide_type": "fragment"
    }
   },
   "outputs": [],
   "source": [
    "word_importances_bigrams = word_importances_sorted[word_importances_sorted.word.apply(lambda c: len(c.split()) >= 2)]\n",
    "word_importances_bigrams[:10]"
   ]
  },
  {
   "cell_type": "markdown",
   "metadata": {
    "slideshow": {
     "slide_type": "slide"
    }
   },
   "source": [
    "## How about the bigrams? (2)"
   ]
  },
  {
   "cell_type": "code",
   "execution_count": null,
   "metadata": {
    "collapsed": false,
    "slideshow": {
     "slide_type": "fragment"
    }
   },
   "outputs": [],
   "source": [
    "word_importances_bigrams[-11:-1]"
   ]
  },
  {
   "cell_type": "markdown",
   "metadata": {
    "slideshow": {
     "slide_type": "slide"
    }
   },
   "source": [
    "## So that's Logistic Regression with bigrams, - how about other classifiers?"
   ]
  },
  {
   "cell_type": "markdown",
   "metadata": {
    "slideshow": {
     "slide_type": "fragment"
    }
   },
   "source": [
    "### best accuracies per classifier\n",
    "<table border=\"1\">\n",
    "<tr>\n",
    "<th></th><th>1-grams</th><th>1-2-grams, with stopword filtering</th><th>1-3-grams, without stopword filtering</th>\n",
    "</tr>\n",
    "<tr>\n",
    "<th>Logistic Regression</th><td></td><td>0.89</td><td></td>\n",
    "</tr>\n",
    "<tr>\n",
    "<th>Support Vector Machine</th><td></td><td></td><td>0.84</td>\n",
    "</tr>\n",
    "<tr>\n",
    "<th>Random Forest</th><td>tbd</td><td></td>\n",
    "</tr>\n",
    "</table>"
   ]
  },
  {
   "cell_type": "markdown",
   "metadata": {
    "slideshow": {
     "slide_type": "slide"
    }
   },
   "source": [
    "# Beyond word counts: Word embeddings"
   ]
  },
  {
   "cell_type": "markdown",
   "metadata": {
    "slideshow": {
     "slide_type": "slide"
    }
   },
   "source": [
    "## If we had time to train the model, we'd actually execute this..."
   ]
  },
  {
   "cell_type": "code",
   "execution_count": null,
   "metadata": {
    "collapsed": false,
    "slideshow": {
     "slide_type": "fragment"
    }
   },
   "outputs": [],
   "source": [
    "# can use train_reviews and test_reviews from above\n",
    "#import nltk.data\n",
    "#tokenizer = nltk.data.load('tokenizers/punkt/english.pickle')\n",
    "\n",
    "#sentences_train = []  \n",
    "#for review in train_reviews[\"review\"]:\n",
    "#    sentences_train += [s.split() for s in tokenizer.tokenize(review)]\n",
    "#sentences_test = []  \n",
    "#for review in test_reviews[\"review\"]:\n",
    "#    sentences_test += [s.split() for s in tokenizer.tokenize(review)]\n",
    "#all_sentences = sentences_train + sentences_test\n",
    "\n",
    "# model parameters\n",
    "#num_features = 100    # Word vector dimensionality                      \n",
    "#min_word_count = 20   # Minimum word count                        \n",
    "#num_workers = 2       # Number of threads to run in parallel\n",
    "#context = 10          # Context window size                                                                                    \n",
    "#downsampling = 1e-3   # Downsample setting for frequent words\n",
    "\n",
    "#model = word2vec.Word2Vec(all_sentences, workers=num_workers, size=num_features, min_count = min_word_count,\n",
    "#                          window = context, sample = downsampling)\n",
    "#model.init_sims(replace=True)\n",
    "#model_name = \"models/word2vec_100features\"\n",
    "#model.save(model_name)"
   ]
  },
  {
   "cell_type": "markdown",
   "metadata": {
    "slideshow": {
     "slide_type": "slide"
    }
   },
   "source": [
    "Let's instead load the model from disk and inspect it:"
   ]
  },
  {
   "cell_type": "code",
   "execution_count": null,
   "metadata": {
    "collapsed": false,
    "slideshow": {
     "slide_type": "fragment"
    }
   },
   "outputs": [],
   "source": [
    "from gensim.models import word2vec\n",
    "model = word2vec.Word2Vec.load('models/word2vec_100features')\n",
    "print(model.syn0.shape)\n",
    "print(model['movie'])\n"
   ]
  },
  {
   "cell_type": "markdown",
   "metadata": {
    "slideshow": {
     "slide_type": "slide"
    }
   },
   "source": [
    "## Which words are similar to <i>awesome</i>?"
   ]
  },
  {
   "cell_type": "code",
   "execution_count": null,
   "metadata": {
    "collapsed": false,
    "slideshow": {
     "slide_type": "fragment"
    }
   },
   "outputs": [],
   "source": [
    "model.most_similar('awesome', topn=10)"
   ]
  },
  {
   "cell_type": "markdown",
   "metadata": {
    "slideshow": {
     "slide_type": "slide"
    }
   },
   "source": [
    "## ... and to <i> awful</i>?"
   ]
  },
  {
   "cell_type": "code",
   "execution_count": null,
   "metadata": {
    "collapsed": false,
    "slideshow": {
     "slide_type": "fragment"
    }
   },
   "outputs": [],
   "source": [
    "model.most_similar('awful', topn=10)"
   ]
  },
  {
   "cell_type": "markdown",
   "metadata": {
    "slideshow": {
     "slide_type": "slide"
    }
   },
   "source": [
    "## Can we \"subtract out\" <i>awful</i>?"
   ]
  },
  {
   "cell_type": "code",
   "execution_count": null,
   "metadata": {
    "collapsed": false,
    "slideshow": {
     "slide_type": "fragment"
    }
   },
   "outputs": [],
   "source": [
    "model.most_similar(positive=['awesome'], negative=['awful'])"
   ]
  },
  {
   "cell_type": "markdown",
   "metadata": {
    "slideshow": {
     "slide_type": "slide"
    }
   },
   "source": [
    "## Let's try this again with <i>good</i> - <i>bad</i>: <i>Good</i> ..."
   ]
  },
  {
   "cell_type": "code",
   "execution_count": null,
   "metadata": {
    "collapsed": false,
    "slideshow": {
     "slide_type": "fragment"
    }
   },
   "outputs": [],
   "source": [
    "model.most_similar('good', topn=10)"
   ]
  },
  {
   "cell_type": "markdown",
   "metadata": {
    "slideshow": {
     "slide_type": "slide"
    }
   },
   "source": [
    "## ... and <i>bad</i>:"
   ]
  },
  {
   "cell_type": "code",
   "execution_count": null,
   "metadata": {
    "collapsed": false,
    "slideshow": {
     "slide_type": "fragment"
    }
   },
   "outputs": [],
   "source": [
    "model.most_similar('bad', topn=10)"
   ]
  },
  {
   "cell_type": "markdown",
   "metadata": {
    "slideshow": {
     "slide_type": "slide"
    }
   },
   "source": [
    "## So <i>good</i> minus <i>bad</i> is ..."
   ]
  },
  {
   "cell_type": "code",
   "execution_count": null,
   "metadata": {
    "collapsed": false,
    "slideshow": {
     "slide_type": "fragment"
    }
   },
   "outputs": [],
   "source": [
    "model.most_similar(positive=['good'], negative=['bad'])"
   ]
  },
  {
   "cell_type": "markdown",
   "metadata": {
    "slideshow": {
     "slide_type": "slide"
    }
   },
   "source": [
    "## Which word doesn't match?"
   ]
  },
  {
   "cell_type": "code",
   "execution_count": null,
   "metadata": {
    "collapsed": false,
    "slideshow": {
     "slide_type": "fragment"
    }
   },
   "outputs": [],
   "source": [
    "model.doesnt_match(\"good bad awful terrible\".split())"
   ]
  },
  {
   "cell_type": "code",
   "execution_count": null,
   "metadata": {
    "collapsed": false,
    "slideshow": {
     "slide_type": "fragment"
    }
   },
   "outputs": [],
   "source": [
    "model.doesnt_match(\"awesome bad awful terrible\".split())"
   ]
  },
  {
   "cell_type": "code",
   "execution_count": null,
   "metadata": {
    "collapsed": false
   },
   "outputs": [],
   "source": [
    "model.doesnt_match(\"nice pleasant fine excellent\".split())"
   ]
  },
  {
   "cell_type": "markdown",
   "metadata": {
    "slideshow": {
     "slide_type": "fragment"
    }
   },
   "source": [
    "## Visualize in 2d"
   ]
  },
  {
   "cell_type": "code",
   "execution_count": null,
   "metadata": {
    "collapsed": true
   },
   "outputs": [],
   "source": [
    "from sklearn.decomposition import PCA\n",
    "import matplotlib.pyplot as plt"
   ]
  },
  {
   "cell_type": "code",
   "execution_count": null,
   "metadata": {
    "collapsed": false
   },
   "outputs": [],
   "source": [
    "from sklearn.manifold import TSNE\n",
    "words = ['story', 'movie','plot', 'film', 'good', 'bad', 'awful', 'awesome', 'man', 'woman', 'like', 'actor', 'actress']\n",
    "vectors = model.syn0\n",
    "\n",
    "pca = PCA(n_components=2)\n",
    "pca_2d = pca.fit_transform(vectors)\n",
    "\n",
    "tsne = TSNE(n_components=2, random_state=0, verbose=10, init='pca')\n",
    "tsne_2d = tsne.fit_transform(vectors)\n",
    "\n",
    "first = True\n",
    "for name, transform in zip(['PCA', 'TSNE'], [pca_2d, tsne_2d]):  \n",
    "#for name, transform in zip(['PCA'], [pca_2d]):   \n",
    "    plt.figure(figsize=(6,6))\n",
    "    for point, word in zip(transform , words):\n",
    "        plt.scatter(point[0], point[1], c='r' if first else 'g')\n",
    "        plt.annotate(\n",
    "            word, \n",
    "            xy = (point[0], point[1]),\n",
    "            xytext = (-7, -6) if first else (7, -6),\n",
    "            textcoords = 'offset points',\n",
    "            ha = 'right' if first else 'left',\n",
    "            va = 'bottom',\n",
    "            size = \"medium\"\n",
    "            )\n",
    "        first = not first \n",
    "    plt.title(name)\n",
    "    plt.tight_layout()\n",
    "plt.show()\n"
   ]
  },
  {
   "cell_type": "code",
   "execution_count": null,
   "metadata": {
    "collapsed": true
   },
   "outputs": [],
   "source": []
  }
 ],
 "metadata": {
  "anaconda-cloud": {},
  "celltoolbar": "Slideshow",
  "kernelspec": {
   "display_name": "Python 2",
   "language": "python",
   "name": "python2"
  },
  "language_info": {
   "codemirror_mode": {
    "name": "ipython",
    "version": 2
   },
   "file_extension": ".py",
   "mimetype": "text/x-python",
   "name": "python",
   "nbconvert_exporter": "python",
   "pygments_lexer": "ipython2",
   "version": "2.7.11"
  },
  "nbpresent": {
   "slides": {
    "0108f6f6-7e16-4035-b56b-1135f27cf68b": {
     "id": "0108f6f6-7e16-4035-b56b-1135f27cf68b",
     "prev": "39125589-c1a2-4ae0-a68a-4e121bf36235",
     "regions": {
      "76021d66-7358-4a0a-9e1e-d2b33c386c1b": {
       "attrs": {
        "height": 0.4,
        "width": 0.8,
        "x": 0.1,
        "y": 0.5
       },
       "content": {
        "cell": "be448377-de47-4493-bec8-a60c20b06d5a",
        "part": "whole"
       },
       "id": "76021d66-7358-4a0a-9e1e-d2b33c386c1b"
      },
      "85172fcd-c717-484e-9d0d-c87fb2eea9c2": {
       "attrs": {
        "height": 0.8,
        "width": 0.8,
        "x": 0.1,
        "y": 0.1
       },
       "content": {
        "cell": "9def4486-def4-4cf4-b94a-748e0bca0c9b",
        "part": "whole"
       },
       "id": "85172fcd-c717-484e-9d0d-c87fb2eea9c2"
      }
     }
    },
    "068b92ae-f75f-46f6-9937-4bee2b9cc173": {
     "id": "068b92ae-f75f-46f6-9937-4bee2b9cc173",
     "prev": "bd3a515b-ce60-402a-ba17-bc77792d4854",
     "regions": {
      "29d4a416-71a6-4154-860c-6504152aeba3": {
       "attrs": {
        "height": 0.8,
        "width": 0.8,
        "x": 0.1,
        "y": 0.1
       },
       "content": {
        "cell": "857a60c7-9d9e-413d-87db-18c07e250cd9",
        "part": "whole"
       },
       "id": "29d4a416-71a6-4154-860c-6504152aeba3"
      }
     }
    },
    "0a22853d-cea1-4740-a57f-1db9405cdedc": {
     "id": "0a22853d-cea1-4740-a57f-1db9405cdedc",
     "prev": "5491cfb5-67df-4527-af83-084e53944ecd",
     "regions": {
      "81a4a59f-0762-4345-bb44-701d6e0037c9": {
       "attrs": {
        "height": 0.8,
        "width": 0.8,
        "x": 0.1,
        "y": 0.1
       },
       "content": {
        "cell": "d1c2e8ee-d3ba-4bb7-9adb-038bdc7b3dd1",
        "part": "whole"
       },
       "id": "81a4a59f-0762-4345-bb44-701d6e0037c9"
      }
     }
    },
    "2e26c3b2-b910-4e29-a926-f383ecf0e8e7": {
     "id": "2e26c3b2-b910-4e29-a926-f383ecf0e8e7",
     "prev": "47d8e4fe-3e59-4bd9-9394-45c626295f7a",
     "regions": {
      "c7ddc3d8-b4a6-4296-96e9-901daacf57ea": {
       "attrs": {
        "height": 0.8,
        "width": 0.8,
        "x": 0.1,
        "y": 0.1
       },
       "content": {
        "cell": "e627fcfd-b58e-4c3a-b44d-28bf8991e25d",
        "part": "whole"
       },
       "id": "c7ddc3d8-b4a6-4296-96e9-901daacf57ea"
      }
     }
    },
    "39125589-c1a2-4ae0-a68a-4e121bf36235": {
     "id": "39125589-c1a2-4ae0-a68a-4e121bf36235",
     "prev": "f86e01a5-ddac-4afb-a80d-230fd2c9d3a7",
     "regions": {
      "7eb72701-c9cf-41b6-b62c-10bb1e16e222": {
       "attrs": {
        "height": 0.4,
        "width": 0.8,
        "x": 0.1,
        "y": 0.5
       },
       "content": {
        "cell": "50f11ad0-4b49-44ba-928d-791eecc4790c",
        "part": "whole"
       },
       "id": "7eb72701-c9cf-41b6-b62c-10bb1e16e222"
      },
      "98242526-0074-4484-9b35-208d8bf218fc": {
       "attrs": {
        "height": 0.8,
        "width": 0.8,
        "x": 0.1,
        "y": 0.1
       },
       "content": {
        "cell": "1e87e2af-5bea-4362-89d9-5ba8cec65842",
        "part": "whole"
       },
       "id": "98242526-0074-4484-9b35-208d8bf218fc"
      }
     }
    },
    "399d2dc1-1424-4669-b25f-bcf0eaaf64c0": {
     "id": "399d2dc1-1424-4669-b25f-bcf0eaaf64c0",
     "prev": "69c4c14e-a6cc-4cbc-aa6b-7601bcbdb58b",
     "regions": {
      "092787b5-8ffc-48c1-8408-e8b822cc796d": {
       "attrs": {
        "height": 0.4,
        "width": 0.8,
        "x": 0.1,
        "y": 0.5
       },
       "content": {
        "cell": "eba5a957-cd79-4819-abc2-a991cc42fb55",
        "part": "whole"
       },
       "id": "092787b5-8ffc-48c1-8408-e8b822cc796d"
      },
      "2f87360d-6f58-4afb-b5a8-f704dbeccd14": {
       "attrs": {
        "height": 0.8,
        "width": 0.8,
        "x": 0.1,
        "y": 0.1
       },
       "content": {
        "cell": "03e942e9-856f-427d-a634-5692b86c1c39",
        "part": "whole"
       },
       "id": "2f87360d-6f58-4afb-b5a8-f704dbeccd14"
      }
     }
    },
    "3ad3df4d-6d23-45bb-8649-7a626c785ad6": {
     "id": "3ad3df4d-6d23-45bb-8649-7a626c785ad6",
     "prev": "0a22853d-cea1-4740-a57f-1db9405cdedc",
     "regions": {
      "4bc8f2f7-47b8-469b-8573-f3dcdd2a3bb7": {
       "attrs": {
        "height": 0.8,
        "width": 0.8,
        "x": 0.1,
        "y": 0.1
       },
       "content": {
        "cell": "188d6842-d012-441f-beec-c5ae7f46aca7",
        "part": "whole"
       },
       "id": "4bc8f2f7-47b8-469b-8573-f3dcdd2a3bb7"
      }
     }
    },
    "47d8e4fe-3e59-4bd9-9394-45c626295f7a": {
     "id": "47d8e4fe-3e59-4bd9-9394-45c626295f7a",
     "prev": "f508fbef-d584-4532-b9ae-6307ad78b8b6",
     "regions": {
      "082554d7-90bb-4a26-9fdb-0c54c9cb7ba2": {
       "attrs": {
        "height": 0.8,
        "width": 0.8,
        "x": 0.1,
        "y": 0.1
       },
       "content": {
        "cell": "b446b568-00a0-42ec-a9ac-dc73538a5ca2",
        "part": "whole"
       },
       "id": "082554d7-90bb-4a26-9fdb-0c54c9cb7ba2"
      }
     }
    },
    "49167f26-ead3-416d-a9ce-c9c301a39e0b": {
     "id": "49167f26-ead3-416d-a9ce-c9c301a39e0b",
     "prev": "2e26c3b2-b910-4e29-a926-f383ecf0e8e7",
     "regions": {
      "fae949cb-bfe7-4f6e-97ec-636f5e6cb2e3": {
       "attrs": {
        "height": 0.8,
        "width": 0.8,
        "x": 0.1,
        "y": 0.1
       },
       "content": {
        "cell": "d1f74fb0-4852-4945-8b03-fc7dd7cbf67f",
        "part": "whole"
       },
       "id": "fae949cb-bfe7-4f6e-97ec-636f5e6cb2e3"
      }
     }
    },
    "4c5d2307-1fcc-46b1-a24c-3c927faecc20": {
     "id": "4c5d2307-1fcc-46b1-a24c-3c927faecc20",
     "prev": null,
     "regions": {
      "0a6ed170-6643-4b96-97a4-e270ce9f281f": {
       "attrs": {
        "height": 0.8,
        "width": 0.8,
        "x": 0.1,
        "y": 0.1
       },
       "content": {
        "cell": "836b7700-e496-4171-9798-354a346c8e9a",
        "part": "whole"
       },
       "id": "0a6ed170-6643-4b96-97a4-e270ce9f281f"
      }
     }
    },
    "5491cfb5-67df-4527-af83-084e53944ecd": {
     "id": "5491cfb5-67df-4527-af83-084e53944ecd",
     "prev": "83a4314b-d405-4a6a-a1a3-3d1d1deccbc0",
     "regions": {
      "2aa07b38-929e-4b84-a3a9-d0d1da69b759": {
       "attrs": {
        "height": 0.8,
        "width": 0.8,
        "x": 0.1,
        "y": 0.1
       },
       "content": {
        "cell": "e4dc43e0-80b7-4426-8eb3-45bb5bd7827a",
        "part": "whole"
       },
       "id": "2aa07b38-929e-4b84-a3a9-d0d1da69b759"
      }
     }
    },
    "69c4c14e-a6cc-4cbc-aa6b-7601bcbdb58b": {
     "id": "69c4c14e-a6cc-4cbc-aa6b-7601bcbdb58b",
     "prev": "49167f26-ead3-416d-a9ce-c9c301a39e0b",
     "regions": {
      "0589ad4d-3ce3-4152-a73f-7530b46c90a1": {
       "attrs": {
        "height": 0.4,
        "width": 0.8,
        "x": 0.1,
        "y": 0.5
       },
       "content": {
        "cell": "1e3b2d36-5346-4b01-bfc2-67e7f2af25c1",
        "part": "whole"
       },
       "id": "0589ad4d-3ce3-4152-a73f-7530b46c90a1"
      },
      "dc634998-4aa9-4b49-b4ef-760c50c9d3d7": {
       "attrs": {
        "height": 0.8,
        "width": 0.8,
        "x": 0.1,
        "y": 0.1
       },
       "content": {
        "cell": "4cbef8ba-b678-40a1-b71d-f0dda08c06df",
        "part": "whole"
       },
       "id": "dc634998-4aa9-4b49-b4ef-760c50c9d3d7"
      },
      "e03c64a3-b36b-45fb-868f-debc753a76a4": {
       "attrs": {
        "height": 0.4,
        "width": 0.8,
        "x": 0.1,
        "y": 0.5
       },
       "content": {
        "cell": "1eea560c-ae93-43cd-8d3e-a5f0629a885a",
        "part": "whole"
       },
       "id": "e03c64a3-b36b-45fb-868f-debc753a76a4"
      }
     }
    },
    "83a4314b-d405-4a6a-a1a3-3d1d1deccbc0": {
     "id": "83a4314b-d405-4a6a-a1a3-3d1d1deccbc0",
     "prev": "c8f32c66-9083-4bba-ab76-eb3e6ccabd2c",
     "regions": {
      "c2807699-e71b-4fb5-b713-7105d8b90eed": {
       "attrs": {
        "height": 0.8,
        "width": 0.8,
        "x": 0.1,
        "y": 0.1
       },
       "content": {
        "cell": "348351b9-005f-47ac-a927-ce7cb773fe90",
        "part": "whole"
       },
       "id": "c2807699-e71b-4fb5-b713-7105d8b90eed"
      },
      "d6febe3f-3aff-4350-b192-9f45df9d760a": {
       "attrs": {
        "height": 0.4,
        "width": 0.8,
        "x": 0.1,
        "y": 0.5
       },
       "content": {
        "cell": "ccb71b15-0e3d-4174-887a-197bbcf35750",
        "part": "whole"
       },
       "id": "d6febe3f-3aff-4350-b192-9f45df9d760a"
      }
     }
    },
    "ab13fb37-989e-4792-bc29-9b8221b75e52": {
     "id": "ab13fb37-989e-4792-bc29-9b8221b75e52",
     "prev": "068b92ae-f75f-46f6-9937-4bee2b9cc173",
     "regions": {
      "02f20104-27a6-4969-b7d3-01ee42c5e0fb": {
       "attrs": {
        "height": 0.4,
        "width": 0.8,
        "x": 0.1,
        "y": 0.5
       },
       "content": {
        "cell": "77183c01-f99f-4dcb-a6f6-63809f56144d",
        "part": "whole"
       },
       "id": "02f20104-27a6-4969-b7d3-01ee42c5e0fb"
      },
      "82ea6c58-985b-4c29-861c-f7d346ac3e6a": {
       "attrs": {
        "height": 0.4,
        "width": 0.8,
        "x": 0.1,
        "y": 0.5
       },
       "content": {
        "cell": "f14e24ac-9678-4f16-99d9-4bbba508c508",
        "part": "whole"
       },
       "id": "82ea6c58-985b-4c29-861c-f7d346ac3e6a"
      },
      "cb0c0125-c9d1-4c79-ab1d-7a4f07f6eaad": {
       "attrs": {
        "height": 0.4,
        "width": 0.8,
        "x": 0.1,
        "y": 0.5
       },
       "content": {
        "cell": "10d50aba-eb52-4baf-b9c1-6ab86c6e2525",
        "part": "whole"
       },
       "id": "cb0c0125-c9d1-4c79-ab1d-7a4f07f6eaad"
      },
      "fcaaa867-b510-4edb-8514-e77840a01b1a": {
       "attrs": {
        "height": 0.8,
        "width": 0.8,
        "x": 0.1,
        "y": 0.1
       },
       "content": {
        "cell": "7d776e37-257f-47c0-87b0-193558ad16ce",
        "part": "whole"
       },
       "id": "fcaaa867-b510-4edb-8514-e77840a01b1a"
      }
     }
    },
    "b1acd603-6a4d-46e7-81b0-8e103f99acfe": {
     "id": "b1acd603-6a4d-46e7-81b0-8e103f99acfe",
     "prev": "399d2dc1-1424-4669-b25f-bcf0eaaf64c0",
     "regions": {
      "97265508-87db-4fa0-abbd-fca1816f6302": {
       "attrs": {
        "height": 0.4,
        "width": 0.8,
        "x": 0.1,
        "y": 0.5
       },
       "content": {
        "cell": "deec0c29-5ae2-4866-adfb-e5d4485ac51a",
        "part": "whole"
       },
       "id": "97265508-87db-4fa0-abbd-fca1816f6302"
      },
      "c285e815-cde8-4f85-b6cd-4d24a8e13889": {
       "attrs": {
        "height": 0.8,
        "width": 0.8,
        "x": 0.1,
        "y": 0.1
       },
       "content": {
        "cell": "fcfffce9-3b7e-46c2-aa6b-de60a9b0a175",
        "part": "whole"
       },
       "id": "c285e815-cde8-4f85-b6cd-4d24a8e13889"
      }
     }
    },
    "bd3a515b-ce60-402a-ba17-bc77792d4854": {
     "id": "bd3a515b-ce60-402a-ba17-bc77792d4854",
     "prev": "3ad3df4d-6d23-45bb-8649-7a626c785ad6",
     "regions": {
      "984a713d-046c-4501-82ec-2bf7c0b5c8cd": {
       "attrs": {
        "height": 0.8,
        "width": 0.8,
        "x": 0.1,
        "y": 0.1
       },
       "content": {
        "cell": "5260cedc-c65d-4014-9f78-96a73b8c2d18",
        "part": "whole"
       },
       "id": "984a713d-046c-4501-82ec-2bf7c0b5c8cd"
      }
     }
    },
    "c8f32c66-9083-4bba-ab76-eb3e6ccabd2c": {
     "id": "c8f32c66-9083-4bba-ab76-eb3e6ccabd2c",
     "prev": "b1acd603-6a4d-46e7-81b0-8e103f99acfe",
     "regions": {
      "245d84c1-7a85-4cac-9314-16cabd9ebb85": {
       "attrs": {
        "height": 0.8,
        "width": 0.8,
        "x": 0.1,
        "y": 0.1
       },
       "content": {
        "cell": "3a374a7c-6ddf-4a7e-a78b-b468758210d6",
        "part": "whole"
       },
       "id": "245d84c1-7a85-4cac-9314-16cabd9ebb85"
      },
      "ae118bbe-5b04-457a-8a12-f7018a2da061": {
       "attrs": {
        "height": 0.4,
        "width": 0.8,
        "x": 0.1,
        "y": 0.5
       },
       "content": {
        "cell": "18c2b8bb-6701-481d-a304-7abb03ee5645",
        "part": "whole"
       },
       "id": "ae118bbe-5b04-457a-8a12-f7018a2da061"
      }
     }
    },
    "f508fbef-d584-4532-b9ae-6307ad78b8b6": {
     "id": "f508fbef-d584-4532-b9ae-6307ad78b8b6",
     "prev": "0108f6f6-7e16-4035-b56b-1135f27cf68b",
     "regions": {
      "1c503453-1526-472c-ba2f-d4440861f56c": {
       "attrs": {
        "height": 0.4,
        "width": 0.8,
        "x": 0.1,
        "y": 0.5
       },
       "content": {
        "cell": "9293030b-42f8-4976-85fe-8fd5877c7fcf",
        "part": "whole"
       },
       "id": "1c503453-1526-472c-ba2f-d4440861f56c"
      },
      "ea69ebc7-40b3-435a-82a5-d88f98bf0e93": {
       "attrs": {
        "height": 0.8,
        "width": 0.8,
        "x": 0.1,
        "y": 0.1
       },
       "content": {
        "cell": "a77185b1-3981-4cf3-9b72-34e98245909c",
        "part": "whole"
       },
       "id": "ea69ebc7-40b3-435a-82a5-d88f98bf0e93"
      }
     }
    },
    "f86e01a5-ddac-4afb-a80d-230fd2c9d3a7": {
     "id": "f86e01a5-ddac-4afb-a80d-230fd2c9d3a7",
     "prev": "4c5d2307-1fcc-46b1-a24c-3c927faecc20",
     "regions": {
      "339671af-0a7d-4c98-8708-20a6bd9d411d": {
       "attrs": {
        "height": 0.4,
        "width": 0.8,
        "x": 0.1,
        "y": 0.5
       },
       "content": {
        "cell": "81a36843-e0d8-403c-9e47-bf32cfa9267c",
        "part": "whole"
       },
       "id": "339671af-0a7d-4c98-8708-20a6bd9d411d"
      },
      "5b0f3928-9772-45e2-999d-7e6a0007857b": {
       "attrs": {
        "height": 0.4,
        "width": 0.8,
        "x": 0.1,
        "y": 0.5
       },
       "content": {
        "cell": "d8c43dd5-aadc-4e99-b653-44357b396ec6",
        "part": "whole"
       },
       "id": "5b0f3928-9772-45e2-999d-7e6a0007857b"
      },
      "8bd65a19-7da3-42b1-9733-9c3a210f13bf": {
       "attrs": {
        "height": 0.8,
        "width": 0.8,
        "x": 0.1,
        "y": 0.1
       },
       "content": {
        "cell": "f0c2a310-79ca-4b6f-a166-12841485dd74",
        "part": "whole"
       },
       "id": "8bd65a19-7da3-42b1-9733-9c3a210f13bf"
      }
     }
    }
   },
   "themes": {}
  }
 },
 "nbformat": 4,
 "nbformat_minor": 0
}
