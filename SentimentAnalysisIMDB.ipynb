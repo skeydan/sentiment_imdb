{
 "cells": [
  {
   "cell_type": "markdown",
   "metadata": {
    "nbpresent": {
     "id": "836b7700-e496-4171-9798-354a346c8e9a"
    },
    "slideshow": {
     "slide_type": "slide"
    }
   },
   "source": [
    "## &nbsp;&nbsp; &nbsp; &nbsp; &nbsp; &nbsp; &nbsp; A Sentimental Journey\n",
    "<br />\n",
    "# Sentiment Analysis of Movie Reviews"
   ]
  },
  {
   "cell_type": "markdown",
   "metadata": {
    "slideshow": {
     "slide_type": "slide"
    }
   },
   "source": [
    "# &nbsp;&nbsp; &nbsp; &nbsp; &nbsp;Why sentiment analysis?"
   ]
  },
  {
   "cell_type": "markdown",
   "metadata": {
    "slideshow": {
     "slide_type": "fragment"
    }
   },
   "source": [
    "Textual data doesn't always come categorized / labeled \n",
    "\n",
    "- tweets\n",
    "- blog posts\n",
    "- news articles"
   ]
  },
  {
   "cell_type": "markdown",
   "metadata": {
    "nbpresent": {
     "id": "f0c2a310-79ca-4b6f-a166-12841485dd74"
    },
    "slideshow": {
     "slide_type": "slide"
    }
   },
   "source": [
    "# Movie reviews - <a>www.imdb.com</a>\n",
    "<br />\n",
    "<img src=\"review.png\"> "
   ]
  },
  {
   "cell_type": "markdown",
   "metadata": {
    "nbpresent": {
     "id": "81a36843-e0d8-403c-9e47-bf32cfa9267c"
    },
    "slideshow": {
     "slide_type": "slide"
    }
   },
   "source": [
    "# The data\n",
    "\n",
    "- 25.000 labeled training plus 25.000 test reviews\n",
    "- download from http://ai.stanford.edu/~amaas/data/sentiment/\n",
    "- used in: Maas et al. (2011). Learning Word Vectors for Sentiment Analysis(http://www.aclweb.org/anthology/P11-1015)\n",
    "- preprocessing as per https://github.com/RaRe-Technologies/gensim/blob/develop/docs/notebooks/doc2vec-IMDB.ipynb"
   ]
  },
  {
   "cell_type": "markdown",
   "metadata": {
    "nbpresent": {
     "id": "1e87e2af-5bea-4362-89d9-5ba8cec65842"
    },
    "slideshow": {
     "slide_type": "slide"
    }
   },
   "source": [
    "## Load preprocessed data\n",
    "\n",
    "\n"
   ]
  },
  {
   "cell_type": "code",
   "execution_count": 33,
   "metadata": {
    "collapsed": false,
    "nbpresent": {
     "id": "50f11ad0-4b49-44ba-928d-791eecc4790c"
    },
    "slideshow": {
     "slide_type": "fragment"
    }
   },
   "outputs": [],
   "source": [
    "import io\n",
    "import pandas as pd\n",
    "import numpy as np\n",
    "\n",
    "with io.open('data/aclImdb/train-pos.txt', encoding='utf-8') as f:\n",
    "    train_pos = pd.DataFrame({'review': list(f)})    \n",
    "with io.open('data/aclImdb/train-neg.txt', encoding='utf-8') as f:\n",
    "    train_neg = pd.DataFrame({'review': list(f)}) \n",
    "train_reviews = pd.concat([train_neg, train_pos], ignore_index=True)\n",
    "\n",
    "with io.open('data/aclImdb/test-pos.txt', encoding='utf-8') as f:\n",
    "    test_pos = pd.DataFrame({'review': list(f)})\n",
    "with io.open('data/aclImdb/test-neg.txt', encoding='utf-8') as f:\n",
    "    test_neg = pd.DataFrame({'review': list(f)})    \n",
    "test_reviews = pd.concat([test_neg, test_pos], ignore_index=True)\n",
    "  \n",
    "X_train = train_reviews['review']\n",
    "X_test = test_reviews['review']\n",
    "\n",
    "y_train = np.append(np.zeros(12500), np.ones(12500))\n",
    "y_test = np.append(np.zeros(12500), np.ones(12500)) "
   ]
  },
  {
   "cell_type": "markdown",
   "metadata": {
    "nbpresent": {
     "id": "9def4486-def4-4cf4-b94a-748e0bca0c9b"
    },
    "slideshow": {
     "slide_type": "slide"
    }
   },
   "source": [
    "# First review\n",
    "\n",
    "\n"
   ]
  },
  {
   "cell_type": "code",
   "execution_count": 34,
   "metadata": {
    "collapsed": false,
    "nbpresent": {
     "id": "be448377-de47-4493-bec8-a60c20b06d5a"
    },
    "slideshow": {
     "slide_type": "fragment"
    }
   },
   "outputs": [
    {
     "data": {
      "text/plain": [
       "u\"a reasonable effort is summary for this film .  a good sixties film but lacking any sense of achievement .  maggie smith gave a decent performance which was believable enough but not as good as she could have given ,  other actors were just dreadful !  a terrible portrayal .  it wasn't very funny and so it didn't really achieve its genres as it wasn't particularly funny and it wasn't dramatic .  the only genre achieved to a satisfactory level was romance .  target audiences were not hit and the movie sent out confusing messages .  a very basic plot and a very basic storyline were not pulled off or performed at all well and people were left confused as to why the film wasn't as good and who the target audiences were etc .  however maggie was quite good and the storyline was alright with moments of capability .   4 . \\n\""
      ]
     },
     "execution_count": 34,
     "metadata": {},
     "output_type": "execute_result"
    }
   ],
   "source": [
    "X_train[0]  "
   ]
  },
  {
   "cell_type": "markdown",
   "metadata": {
    "nbpresent": {
     "id": "a77185b1-3981-4cf3-9b72-34e98245909c"
    },
    "slideshow": {
     "slide_type": "slide"
    }
   },
   "source": [
    "# Good or bad?\n",
    "\n",
    "What the annotators thought\n",
    "\n",
    "\n"
   ]
  },
  {
   "cell_type": "code",
   "execution_count": 35,
   "metadata": {
    "collapsed": false,
    "nbpresent": {
     "id": "9293030b-42f8-4976-85fe-8fd5877c7fcf"
    },
    "slideshow": {
     "slide_type": "fragment"
    }
   },
   "outputs": [
    {
     "data": {
      "text/plain": [
       "0.0"
      ]
     },
     "execution_count": 35,
     "metadata": {},
     "output_type": "execute_result"
    }
   ],
   "source": [
    "y_train[0]"
   ]
  },
  {
   "cell_type": "markdown",
   "metadata": {
    "nbpresent": {
     "id": "b446b568-00a0-42ec-a9ac-dc73538a5ca2"
    },
    "slideshow": {
     "slide_type": "slide"
    }
   },
   "source": [
    "# A naive approach: Word counts \n"
   ]
  },
  {
   "cell_type": "markdown",
   "metadata": {
    "slideshow": {
     "slide_type": "slide"
    }
   },
   "source": [
    "# Word count in a nutshell\n",
    "\n",
    "- sum positive words (weighted)\n",
    "- sum negative words (weighted)\n",
    "- highest score wins"
   ]
  },
  {
   "cell_type": "markdown",
   "metadata": {
    "slideshow": {
     "slide_type": "slide"
    }
   },
   "source": [
    "# No one's gonna sit there and categorize all the words."
   ]
  },
  {
   "cell_type": "markdown",
   "metadata": {
    "slideshow": {
     "slide_type": "slide"
    }
   },
   "source": [
    "# Need  magic?\n"
   ]
  },
  {
   "cell_type": "markdown",
   "metadata": {
    "slideshow": {
     "slide_type": "fragment"
    }
   },
   "source": [
    "\n",
    "Not yet.\n",
    "\n",
    "We have a training set where reviews have been labeled as good or bad:\n",
    "\n",
    "<table border=\"1\">\n",
    "<tr>\n",
    "<th></th><th><font color='blue'>sentiment</font></th><th>beautiful</th><th>bad</th><th>awful</th><th>decent</th><th>horrible</th><th>ok</th><th>awesome</th>\n",
    "</tr>\n",
    "<tr>\n",
    "<th>review 1</th><td><font color='red'>0</font></td><td>0</td><td>1</td><td>2</td><td>1</td><td>1</td><td>0</td><td>0</td>\n",
    "</tr>\n",
    "<tr>\n",
    "<th>review 2</th><td><font color='green'>1</font></td><td>1</td><td>0</td><td>0</td><td>0</td><td>0</td><td>0</td><td>1</td>\n",
    "</tr>\n",
    "<tr>\n",
    "<th>review 3</th><td><font color='green'>0</font></td><td>0</td><td>0</td><td>0</td><td>1</td><td>1</td><td>0</td><td>0</td>\n",
    "</tr>\n",
    "</table>"
   ]
  },
  {
   "cell_type": "markdown",
   "metadata": {
    "slideshow": {
     "slide_type": "slide"
    }
   },
   "source": [
    "# Classification\n",
    "\n",
    "From this, we can algorithmically determine the words' polarities and weights.\n",
    "\n",
    "<table>\n",
    "<tr>\n",
    "<th>word</th>\n",
    "<td>beautiful</td><td>bad</td><td>awful</td><td>decent</td><td>horrible</td><td>ok</td><td>awesome</td>\n",
    "</tr>\n",
    "<tr>\n",
    "<th>weight</th>\n",
    "<td>3.4</td><td>-2.9</td><td>-5.6</td><td>-0.2</td><td>-4.9</td><td>-0.1</td><td>5.2</td>\n",
    "</tr>\n",
    "</table>"
   ]
  },
  {
   "cell_type": "markdown",
   "metadata": {
    "slideshow": {
     "slide_type": "slide"
    }
   },
   "source": [
    "# Right.\n",
    "But..."
   ]
  },
  {
   "cell_type": "markdown",
   "metadata": {
    "nbpresent": {
     "id": "e627fcfd-b58e-4c3a-b44d-28bf8991e25d"
    },
    "slideshow": {
     "slide_type": "slide"
    }
   },
   "source": [
    "## There is an additional difficulty.\n",
    "\n",
    "From our example review above:\n",
    "\n",
    "> performance which was believable enough but not as good as she could have given\n",
    "\n",
    "> lacking any sense of achievement \n",
    "\n",
    "> it wasn't very funny\n",
    "\n",
    "> the only genre achieved to a satisfactory level was romance"
   ]
  },
  {
   "cell_type": "markdown",
   "metadata": {
    "slideshow": {
     "slide_type": "slide"
    }
   },
   "source": [
    "# Context matters\n",
    "\n",
    "<font color=green>funny</font>             =>    👍\n",
    "\n",
    "<font color=green>very funny</font>        =>    👍👍\n",
    "\n",
    "<font color=red>wasn't very funny</font> =>    👎\n"
   ]
  },
  {
   "cell_type": "markdown",
   "metadata": {
    "slideshow": {
     "slide_type": "fragment"
    }
   },
   "source": [
    "... what if it were\n",
    "- \"wasn't so very funny\"\n",
    "- \"however, I wouldn't say that it wasn't so very funny\" "
   ]
  },
  {
   "cell_type": "markdown",
   "metadata": {
    "nbpresent": {
     "id": "d1f74fb0-4852-4945-8b03-fc7dd7cbf67f"
    },
    "slideshow": {
     "slide_type": "slide"
    }
   },
   "source": [
    "# Unigrams, bigrams, trigrams - what should we look at?\n"
   ]
  },
  {
   "cell_type": "markdown",
   "metadata": {
    "slideshow": {
     "slide_type": "fragment"
    }
   },
   "source": [
    "Instead of guessing let's check what works best on our data set.\n"
   ]
  },
  {
   "cell_type": "markdown",
   "metadata": {
    "nbpresent": {
     "id": "03e942e9-856f-427d-a634-5692b86c1c39"
    },
    "slideshow": {
     "slide_type": "slide"
    }
   },
   "source": [
    "## Most frequent unigrams"
   ]
  },
  {
   "cell_type": "code",
   "execution_count": 36,
   "metadata": {
    "collapsed": false,
    "nbpresent": {
     "id": "eba5a957-cd79-4819-abc2-a991cc42fb55"
    },
    "slideshow": {
     "slide_type": "fragment"
    }
   },
   "outputs": [
    {
     "data": {
      "text/html": [
       "<div>\n",
       "<table border=\"1\" class=\"dataframe\">\n",
       "  <thead>\n",
       "    <tr style=\"text-align: right;\">\n",
       "      <th></th>\n",
       "      <th>count</th>\n",
       "      <th>word</th>\n",
       "    </tr>\n",
       "  </thead>\n",
       "  <tbody>\n",
       "    <tr>\n",
       "      <th>0</th>\n",
       "      <td>44047</td>\n",
       "      <td>movie</td>\n",
       "    </tr>\n",
       "    <tr>\n",
       "      <th>1</th>\n",
       "      <td>42623</td>\n",
       "      <td>but</td>\n",
       "    </tr>\n",
       "    <tr>\n",
       "      <th>2</th>\n",
       "      <td>40159</td>\n",
       "      <td>film</td>\n",
       "    </tr>\n",
       "    <tr>\n",
       "      <th>3</th>\n",
       "      <td>30632</td>\n",
       "      <td>not</td>\n",
       "    </tr>\n",
       "    <tr>\n",
       "      <th>4</th>\n",
       "      <td>26795</td>\n",
       "      <td>one</td>\n",
       "    </tr>\n",
       "    <tr>\n",
       "      <th>5</th>\n",
       "      <td>20281</td>\n",
       "      <td>like</td>\n",
       "    </tr>\n",
       "    <tr>\n",
       "      <th>6</th>\n",
       "      <td>15147</td>\n",
       "      <td>good</td>\n",
       "    </tr>\n",
       "    <tr>\n",
       "      <th>7</th>\n",
       "      <td>14067</td>\n",
       "      <td>very</td>\n",
       "    </tr>\n",
       "    <tr>\n",
       "      <th>8</th>\n",
       "      <td>12727</td>\n",
       "      <td>time</td>\n",
       "    </tr>\n",
       "    <tr>\n",
       "      <th>9</th>\n",
       "      <td>12716</td>\n",
       "      <td>no</td>\n",
       "    </tr>\n",
       "  </tbody>\n",
       "</table>\n",
       "</div>"
      ],
      "text/plain": [
       "   count   word\n",
       "0  44047  movie\n",
       "1  42623    but\n",
       "2  40159   film\n",
       "3  30632    not\n",
       "4  26795    one\n",
       "5  20281   like\n",
       "6  15147   good\n",
       "7  14067   very\n",
       "8  12727   time\n",
       "9  12716     no"
      ]
     },
     "execution_count": 36,
     "metadata": {},
     "output_type": "execute_result"
    }
   ],
   "source": [
    "word_count_1gram = pd.read_csv('word_counts_sorted_ngram_1_stopwords_removed.csv', \n",
    "                                  usecols=['word', 'count'])\n",
    "word_count_1gram.head(10)"
   ]
  },
  {
   "cell_type": "markdown",
   "metadata": {
    "nbpresent": {
     "id": "fcfffce9-3b7e-46c2-aa6b-de60a9b0a175"
    },
    "slideshow": {
     "slide_type": "slide"
    }
   },
   "source": [
    "## Most frequent bigrams"
   ]
  },
  {
   "cell_type": "code",
   "execution_count": 37,
   "metadata": {
    "collapsed": false,
    "nbpresent": {
     "id": "deec0c29-5ae2-4866-adfb-e5d4485ac51a"
    },
    "slideshow": {
     "slide_type": "fragment"
    }
   },
   "outputs": [
    {
     "data": {
      "text/html": [
       "<div>\n",
       "<table border=\"1\" class=\"dataframe\">\n",
       "  <thead>\n",
       "    <tr style=\"text-align: right;\">\n",
       "      <th></th>\n",
       "      <th>count</th>\n",
       "      <th>word</th>\n",
       "    </tr>\n",
       "  </thead>\n",
       "  <tbody>\n",
       "    <tr>\n",
       "      <th>0</th>\n",
       "      <td>1925</td>\n",
       "      <td>but not</td>\n",
       "    </tr>\n",
       "    <tr>\n",
       "      <th>1</th>\n",
       "      <td>1321</td>\n",
       "      <td>ever seen</td>\n",
       "    </tr>\n",
       "    <tr>\n",
       "      <th>2</th>\n",
       "      <td>1284</td>\n",
       "      <td>not only</td>\n",
       "    </tr>\n",
       "    <tr>\n",
       "      <th>3</th>\n",
       "      <td>1200</td>\n",
       "      <td>very good</td>\n",
       "    </tr>\n",
       "    <tr>\n",
       "      <th>4</th>\n",
       "      <td>1113</td>\n",
       "      <td>special effects</td>\n",
       "    </tr>\n",
       "    <tr>\n",
       "      <th>5</th>\n",
       "      <td>1043</td>\n",
       "      <td>even though</td>\n",
       "    </tr>\n",
       "    <tr>\n",
       "      <th>6</th>\n",
       "      <td>1032</td>\n",
       "      <td>movie but</td>\n",
       "    </tr>\n",
       "    <tr>\n",
       "      <th>7</th>\n",
       "      <td>1024</td>\n",
       "      <td>don know</td>\n",
       "    </tr>\n",
       "    <tr>\n",
       "      <th>8</th>\n",
       "      <td>1007</td>\n",
       "      <td>movie not</td>\n",
       "    </tr>\n",
       "    <tr>\n",
       "      <th>9</th>\n",
       "      <td>888</td>\n",
       "      <td>one best</td>\n",
       "    </tr>\n",
       "  </tbody>\n",
       "</table>\n",
       "</div>"
      ],
      "text/plain": [
       "   count             word\n",
       "0   1925          but not\n",
       "1   1321        ever seen\n",
       "2   1284         not only\n",
       "3   1200        very good\n",
       "4   1113  special effects\n",
       "5   1043      even though\n",
       "6   1032        movie but\n",
       "7   1024         don know\n",
       "8   1007        movie not\n",
       "9    888         one best"
      ]
     },
     "execution_count": 37,
     "metadata": {},
     "output_type": "execute_result"
    }
   ],
   "source": [
    "word_count_2grams = pd.read_csv('word_counts_sorted_ngram_2_stopwords_removed.csv', \n",
    "                                  usecols=['word', 'count'])\n",
    "word_count_2grams.head(10)"
   ]
  },
  {
   "cell_type": "markdown",
   "metadata": {
    "nbpresent": {
     "id": "3a374a7c-6ddf-4a7e-a78b-b468758210d6"
    },
    "slideshow": {
     "slide_type": "slide"
    }
   },
   "source": [
    "## Most frequent trigrams"
   ]
  },
  {
   "cell_type": "code",
   "execution_count": 38,
   "metadata": {
    "collapsed": false,
    "nbpresent": {
     "id": "18c2b8bb-6701-481d-a304-7abb03ee5645"
    },
    "slideshow": {
     "slide_type": "fragment"
    }
   },
   "outputs": [
    {
     "data": {
      "text/html": [
       "<div>\n",
       "<table border=\"1\" class=\"dataframe\">\n",
       "  <thead>\n",
       "    <tr style=\"text-align: right;\">\n",
       "      <th></th>\n",
       "      <th>count</th>\n",
       "      <th>word</th>\n",
       "    </tr>\n",
       "  </thead>\n",
       "  <tbody>\n",
       "    <tr>\n",
       "      <th>0</th>\n",
       "      <td>262</td>\n",
       "      <td>movie ever seen</td>\n",
       "    </tr>\n",
       "    <tr>\n",
       "      <th>1</th>\n",
       "      <td>243</td>\n",
       "      <td>worst movie ever</td>\n",
       "    </tr>\n",
       "    <tr>\n",
       "      <th>2</th>\n",
       "      <td>205</td>\n",
       "      <td>don waste time</td>\n",
       "    </tr>\n",
       "    <tr>\n",
       "      <th>3</th>\n",
       "      <td>177</td>\n",
       "      <td>movies ever seen</td>\n",
       "    </tr>\n",
       "    <tr>\n",
       "      <th>4</th>\n",
       "      <td>164</td>\n",
       "      <td>new york city</td>\n",
       "    </tr>\n",
       "    <tr>\n",
       "      <th>5</th>\n",
       "      <td>162</td>\n",
       "      <td>don get wrong</td>\n",
       "    </tr>\n",
       "    <tr>\n",
       "      <th>6</th>\n",
       "      <td>160</td>\n",
       "      <td>one worst movies</td>\n",
       "    </tr>\n",
       "    <tr>\n",
       "      <th>7</th>\n",
       "      <td>141</td>\n",
       "      <td>worst movies ever</td>\n",
       "    </tr>\n",
       "    <tr>\n",
       "      <th>8</th>\n",
       "      <td>120</td>\n",
       "      <td>film ever seen</td>\n",
       "    </tr>\n",
       "    <tr>\n",
       "      <th>9</th>\n",
       "      <td>114</td>\n",
       "      <td>movie ever made</td>\n",
       "    </tr>\n",
       "  </tbody>\n",
       "</table>\n",
       "</div>"
      ],
      "text/plain": [
       "   count               word\n",
       "0    262    movie ever seen\n",
       "1    243   worst movie ever\n",
       "2    205     don waste time\n",
       "3    177   movies ever seen\n",
       "4    164      new york city\n",
       "5    162      don get wrong\n",
       "6    160   one worst movies\n",
       "7    141  worst movies ever\n",
       "8    120     film ever seen\n",
       "9    114    movie ever made"
      ]
     },
     "execution_count": 38,
     "metadata": {},
     "output_type": "execute_result"
    }
   ],
   "source": [
    "word_count_3grams = pd.read_csv('word_counts_sorted_ngram_3_stopwords_removed.csv', \n",
    "                                  usecols=['word', 'count'])\n",
    "word_count_3grams.head(10)"
   ]
  },
  {
   "cell_type": "markdown",
   "metadata": {
    "nbpresent": {
     "id": "188d6842-d012-441f-beec-c5ae7f46aca7"
    },
    "slideshow": {
     "slide_type": "slide"
    }
   },
   "source": [
    "# In search for the right combination (grid search)\n"
   ]
  },
  {
   "cell_type": "markdown",
   "metadata": {
    "slideshow": {
     "slide_type": "fragment"
    }
   },
   "source": [
    "Which classifier works best?\n",
    "- Logistic regression? Random forest? Support vector machine?"
   ]
  },
  {
   "cell_type": "markdown",
   "metadata": {
    "slideshow": {
     "slide_type": "fragment"
    }
   },
   "source": [
    "In combination with which input \n",
    "- Unigrams? Bigrams? Trigrams?"
   ]
  },
  {
   "cell_type": "markdown",
   "metadata": {
    "slideshow": {
     "slide_type": "fragment"
    }
   },
   "source": [
    "With which parameter settings?\n",
    "- e.g., regularization, number of iterations..."
   ]
  },
  {
   "cell_type": "markdown",
   "metadata": {
    "collapsed": false,
    "slideshow": {
     "slide_type": "slide"
    }
   },
   "source": [
    "# &nbsp;&nbsp;&nbsp;&nbsp;&nbsp;&nbsp;&nbsp;&nbsp;&nbsp;&nbsp;&nbsp;&nbsp;&nbsp;&nbsp;&nbsp;&nbsp;&nbsp;&nbsp;FEW     "
   ]
  },
  {
   "cell_type": "markdown",
   "metadata": {
    "slideshow": {
     "slide_type": "slide"
    }
   },
   "source": [
    "# &nbsp;&nbsp;&nbsp;&nbsp;&nbsp;&nbsp;&nbsp;&nbsp;&nbsp;&nbsp;&nbsp;&nbsp;&nbsp;&nbsp;&nbsp;&nbsp;&nbsp;&nbsp;HOURS"
   ]
  },
  {
   "cell_type": "markdown",
   "metadata": {
    "slideshow": {
     "slide_type": "slide"
    }
   },
   "source": [
    "# &nbsp;&nbsp;&nbsp;&nbsp;&nbsp;&nbsp;&nbsp;&nbsp;&nbsp;&nbsp;&nbsp;&nbsp;&nbsp;&nbsp;&nbsp;&nbsp;&nbsp;&nbsp;LATER"
   ]
  },
  {
   "cell_type": "markdown",
   "metadata": {
    "slideshow": {
     "slide_type": "slide"
    }
   },
   "source": [
    "# And the winner is ..."
   ]
  },
  {
   "cell_type": "markdown",
   "metadata": {
    "slideshow": {
     "slide_type": "fragment"
    }
   },
   "source": [
    "### Best accuracy per classifier (test set)\n",
    "<table border=\"1\">\n",
    "<tr><th></th><th>1-grams<br />with stopword filtering</th><th>1-2-grams<br />with stopword filtering</th><th>1-3-grams<br />no stopword filtering</th>\n",
    "</tr>\n",
    "<tr>\n",
    "<th>Logistic Regression</th><td></td><td>0.89</td><td></td>\n",
    "</tr>\n",
    "<tr>\n",
    "<th>Support Vector Machine</th><td></td><td></td><td>0.84</td>\n",
    "</tr>\n",
    "<tr>\n",
    "<th>Random Forest</th><td>0.84</td><td></td>\n",
    "</tr>\n",
    "</table>"
   ]
  },
  {
   "cell_type": "markdown",
   "metadata": {
    "slideshow": {
     "slide_type": "slide"
    }
   },
   "source": [
    "# Exploring the Logistic Regression best fit"
   ]
  },
  {
   "cell_type": "code",
   "execution_count": 44,
   "metadata": {
    "collapsed": false,
    "nbpresent": {
     "id": "f14e24ac-9678-4f16-99d9-4bbba508c508"
    },
    "slideshow": {
     "slide_type": "fragment"
    }
   },
   "outputs": [
    {
     "data": {
      "text/plain": [
       "LogisticRegression(C=0.03, class_weight=None, dual=False, fit_intercept=True,\n",
       "          intercept_scaling=1, max_iter=100, multi_class='ovr', n_jobs=1,\n",
       "          penalty='l2', random_state=None, solver='liblinear', tol=0.0001,\n",
       "          verbose=0, warm_start=False)"
      ]
     },
     "execution_count": 44,
     "metadata": {},
     "output_type": "execute_result"
    }
   ],
   "source": [
    "from nltk.corpus import stopwords\n",
    "from sklearn.feature_extraction.text import CountVectorizer\n",
    "from sklearn.linear_model import LogisticRegression\n",
    "\n",
    "stopwords_nltk = set(stopwords.words(\"english\"))\n",
    "relevant_words = set(['not', 'nor', 'no', 'wasn', 'ain', 'aren', 'very', 'only', 'but', 'don', 'isn', 'weren'])\n",
    "stopwords_filtered = list(stopwords_nltk.difference(relevant_words))\n",
    "vectorizer = CountVectorizer(stop_words = stopwords_filtered, max_features = 10000, ngram_range = (1,2))\n",
    "X_train_features = vectorizer.fit_transform(X_train)\n",
    "X_test_features = vectorizer.transform(X_test)\n",
    "\n",
    "logistic_model = LogisticRegression(C=0.03) \n",
    "logistic_model.fit(X_train_features, y_train)"
   ]
  },
  {
   "cell_type": "markdown",
   "metadata": {
    "collapsed": true,
    "slideshow": {
     "slide_type": "slide"
    }
   },
   "source": [
    "## Which words make it positive?"
   ]
  },
  {
   "cell_type": "code",
   "execution_count": 45,
   "metadata": {
    "collapsed": false,
    "slideshow": {
     "slide_type": "fragment"
    }
   },
   "outputs": [
    {
     "data": {
      "text/html": [
       "<div>\n",
       "<table border=\"1\" class=\"dataframe\">\n",
       "  <thead>\n",
       "    <tr style=\"text-align: right;\">\n",
       "      <th></th>\n",
       "      <th>coef</th>\n",
       "      <th>word</th>\n",
       "    </tr>\n",
       "  </thead>\n",
       "  <tbody>\n",
       "    <tr>\n",
       "      <th>2969</th>\n",
       "      <td>0.672635</td>\n",
       "      <td>excellent</td>\n",
       "    </tr>\n",
       "    <tr>\n",
       "      <th>6681</th>\n",
       "      <td>0.563958</td>\n",
       "      <td>perfect</td>\n",
       "    </tr>\n",
       "    <tr>\n",
       "      <th>9816</th>\n",
       "      <td>0.521026</td>\n",
       "      <td>wonderful</td>\n",
       "    </tr>\n",
       "    <tr>\n",
       "      <th>8646</th>\n",
       "      <td>0.520818</td>\n",
       "      <td>superb</td>\n",
       "    </tr>\n",
       "    <tr>\n",
       "      <th>3165</th>\n",
       "      <td>0.505146</td>\n",
       "      <td>favorite</td>\n",
       "    </tr>\n",
       "    <tr>\n",
       "      <th>431</th>\n",
       "      <td>0.502118</td>\n",
       "      <td>amazing</td>\n",
       "    </tr>\n",
       "    <tr>\n",
       "      <th>5923</th>\n",
       "      <td>0.481505</td>\n",
       "      <td>must see</td>\n",
       "    </tr>\n",
       "    <tr>\n",
       "      <th>5214</th>\n",
       "      <td>0.461807</td>\n",
       "      <td>loved</td>\n",
       "    </tr>\n",
       "    <tr>\n",
       "      <th>3632</th>\n",
       "      <td>0.458645</td>\n",
       "      <td>funniest</td>\n",
       "    </tr>\n",
       "    <tr>\n",
       "      <th>2798</th>\n",
       "      <td>0.453481</td>\n",
       "      <td>enjoyable</td>\n",
       "    </tr>\n",
       "  </tbody>\n",
       "</table>\n",
       "</div>"
      ],
      "text/plain": [
       "          coef       word\n",
       "2969  0.672635  excellent\n",
       "6681  0.563958    perfect\n",
       "9816  0.521026  wonderful\n",
       "8646  0.520818     superb\n",
       "3165  0.505146   favorite\n",
       "431   0.502118    amazing\n",
       "5923  0.481505   must see\n",
       "5214  0.461807      loved\n",
       "3632  0.458645   funniest\n",
       "2798  0.453481  enjoyable"
      ]
     },
     "execution_count": 45,
     "metadata": {},
     "output_type": "execute_result"
    }
   ],
   "source": [
    "vocabulary = vectorizer.get_feature_names()\n",
    "coefs = logistic_model.coef_\n",
    "word_importances = pd.DataFrame({'word': vocabulary, 'coef': coefs.tolist()[0]})\n",
    "word_importances_sorted = word_importances.sort_values(by='coef', ascending = False)\n",
    "word_importances_sorted[:10]"
   ]
  },
  {
   "cell_type": "markdown",
   "metadata": {
    "slideshow": {
     "slide_type": "slide"
    }
   },
   "source": [
    "## Which words make it negative?"
   ]
  },
  {
   "cell_type": "code",
   "execution_count": 46,
   "metadata": {
    "collapsed": false,
    "slideshow": {
     "slide_type": "fragment"
    }
   },
   "outputs": [
    {
     "data": {
      "text/html": [
       "<div>\n",
       "<table border=\"1\" class=\"dataframe\">\n",
       "  <thead>\n",
       "    <tr style=\"text-align: right;\">\n",
       "      <th></th>\n",
       "      <th>coef</th>\n",
       "      <th>word</th>\n",
       "    </tr>\n",
       "  </thead>\n",
       "  <tbody>\n",
       "    <tr>\n",
       "      <th>6864</th>\n",
       "      <td>-0.564446</td>\n",
       "      <td>poor</td>\n",
       "    </tr>\n",
       "    <tr>\n",
       "      <th>2625</th>\n",
       "      <td>-0.565503</td>\n",
       "      <td>dull</td>\n",
       "    </tr>\n",
       "    <tr>\n",
       "      <th>9855</th>\n",
       "      <td>-0.575060</td>\n",
       "      <td>worse</td>\n",
       "    </tr>\n",
       "    <tr>\n",
       "      <th>4267</th>\n",
       "      <td>-0.588133</td>\n",
       "      <td>horrible</td>\n",
       "    </tr>\n",
       "    <tr>\n",
       "      <th>2439</th>\n",
       "      <td>-0.596302</td>\n",
       "      <td>disappointing</td>\n",
       "    </tr>\n",
       "    <tr>\n",
       "      <th>6866</th>\n",
       "      <td>-0.675187</td>\n",
       "      <td>poorly</td>\n",
       "    </tr>\n",
       "    <tr>\n",
       "      <th>1045</th>\n",
       "      <td>-0.681608</td>\n",
       "      <td>boring</td>\n",
       "    </tr>\n",
       "    <tr>\n",
       "      <th>2440</th>\n",
       "      <td>-0.688024</td>\n",
       "      <td>disappointment</td>\n",
       "    </tr>\n",
       "    <tr>\n",
       "      <th>702</th>\n",
       "      <td>-0.811184</td>\n",
       "      <td>awful</td>\n",
       "    </tr>\n",
       "    <tr>\n",
       "      <th>9607</th>\n",
       "      <td>-0.838195</td>\n",
       "      <td>waste</td>\n",
       "    </tr>\n",
       "  </tbody>\n",
       "</table>\n",
       "</div>"
      ],
      "text/plain": [
       "          coef            word\n",
       "6864 -0.564446            poor\n",
       "2625 -0.565503            dull\n",
       "9855 -0.575060           worse\n",
       "4267 -0.588133        horrible\n",
       "2439 -0.596302   disappointing\n",
       "6866 -0.675187          poorly\n",
       "1045 -0.681608          boring\n",
       "2440 -0.688024  disappointment\n",
       "702  -0.811184           awful\n",
       "9607 -0.838195           waste"
      ]
     },
     "execution_count": 46,
     "metadata": {},
     "output_type": "execute_result"
    }
   ],
   "source": [
    "word_importances_sorted[-11:-1]"
   ]
  },
  {
   "cell_type": "markdown",
   "metadata": {
    "slideshow": {
     "slide_type": "slide"
    }
   },
   "source": [
    "# Which 2-grams make it positive?"
   ]
  },
  {
   "cell_type": "code",
   "execution_count": 47,
   "metadata": {
    "collapsed": false,
    "slideshow": {
     "slide_type": "fragment"
    }
   },
   "outputs": [
    {
     "data": {
      "text/html": [
       "<div>\n",
       "<table border=\"1\" class=\"dataframe\">\n",
       "  <thead>\n",
       "    <tr style=\"text-align: right;\">\n",
       "      <th></th>\n",
       "      <th>coef</th>\n",
       "      <th>word</th>\n",
       "    </tr>\n",
       "  </thead>\n",
       "  <tbody>\n",
       "    <tr>\n",
       "      <th>5923</th>\n",
       "      <td>0.481505</td>\n",
       "      <td>must see</td>\n",
       "    </tr>\n",
       "    <tr>\n",
       "      <th>3</th>\n",
       "      <td>0.450675</td>\n",
       "      <td>10 10</td>\n",
       "    </tr>\n",
       "    <tr>\n",
       "      <th>6350</th>\n",
       "      <td>0.421314</td>\n",
       "      <td>one best</td>\n",
       "    </tr>\n",
       "    <tr>\n",
       "      <th>9701</th>\n",
       "      <td>0.389081</td>\n",
       "      <td>well worth</td>\n",
       "    </tr>\n",
       "    <tr>\n",
       "      <th>5452</th>\n",
       "      <td>0.371277</td>\n",
       "      <td>may not</td>\n",
       "    </tr>\n",
       "    <tr>\n",
       "      <th>6139</th>\n",
       "      <td>0.329485</td>\n",
       "      <td>not bad</td>\n",
       "    </tr>\n",
       "    <tr>\n",
       "      <th>6970</th>\n",
       "      <td>0.323805</td>\n",
       "      <td>pretty good</td>\n",
       "    </tr>\n",
       "    <tr>\n",
       "      <th>2259</th>\n",
       "      <td>0.307238</td>\n",
       "      <td>definitely worth</td>\n",
       "    </tr>\n",
       "    <tr>\n",
       "      <th>5208</th>\n",
       "      <td>0.303380</td>\n",
       "      <td>love movie</td>\n",
       "    </tr>\n",
       "    <tr>\n",
       "      <th>9432</th>\n",
       "      <td>0.301404</td>\n",
       "      <td>very good</td>\n",
       "    </tr>\n",
       "  </tbody>\n",
       "</table>\n",
       "</div>"
      ],
      "text/plain": [
       "          coef              word\n",
       "5923  0.481505          must see\n",
       "3     0.450675             10 10\n",
       "6350  0.421314          one best\n",
       "9701  0.389081        well worth\n",
       "5452  0.371277           may not\n",
       "6139  0.329485           not bad\n",
       "6970  0.323805       pretty good\n",
       "2259  0.307238  definitely worth\n",
       "5208  0.303380        love movie\n",
       "9432  0.301404         very good"
      ]
     },
     "execution_count": 47,
     "metadata": {},
     "output_type": "execute_result"
    }
   ],
   "source": [
    "word_importances_bigrams = word_importances_sorted[word_importances_sorted.word.apply(lambda c: len(c.split()) >= 2)]\n",
    "word_importances_bigrams[:10]"
   ]
  },
  {
   "cell_type": "markdown",
   "metadata": {
    "slideshow": {
     "slide_type": "slide"
    }
   },
   "source": [
    "# Which 2-grams make it negative?"
   ]
  },
  {
   "cell_type": "code",
   "execution_count": 48,
   "metadata": {
    "collapsed": false,
    "slideshow": {
     "slide_type": "fragment"
    }
   },
   "outputs": [
    {
     "data": {
      "text/html": [
       "<div>\n",
       "<table border=\"1\" class=\"dataframe\">\n",
       "  <thead>\n",
       "    <tr style=\"text-align: right;\">\n",
       "      <th></th>\n",
       "      <th>coef</th>\n",
       "      <th>word</th>\n",
       "    </tr>\n",
       "  </thead>\n",
       "  <tbody>\n",
       "    <tr>\n",
       "      <th>6431</th>\n",
       "      <td>-0.247169</td>\n",
       "      <td>only good</td>\n",
       "    </tr>\n",
       "    <tr>\n",
       "      <th>3151</th>\n",
       "      <td>-0.250090</td>\n",
       "      <td>fast forward</td>\n",
       "    </tr>\n",
       "    <tr>\n",
       "      <th>9861</th>\n",
       "      <td>-0.264564</td>\n",
       "      <td>worst movie</td>\n",
       "    </tr>\n",
       "    <tr>\n",
       "      <th>6201</th>\n",
       "      <td>-0.324169</td>\n",
       "      <td>not recommend</td>\n",
       "    </tr>\n",
       "    <tr>\n",
       "      <th>6153</th>\n",
       "      <td>-0.332796</td>\n",
       "      <td>not even</td>\n",
       "    </tr>\n",
       "    <tr>\n",
       "      <th>6164</th>\n",
       "      <td>-0.333147</td>\n",
       "      <td>not funny</td>\n",
       "    </tr>\n",
       "    <tr>\n",
       "      <th>6217</th>\n",
       "      <td>-0.357056</td>\n",
       "      <td>not very</td>\n",
       "    </tr>\n",
       "    <tr>\n",
       "      <th>6169</th>\n",
       "      <td>-0.368976</td>\n",
       "      <td>not good</td>\n",
       "    </tr>\n",
       "    <tr>\n",
       "      <th>6421</th>\n",
       "      <td>-0.437750</td>\n",
       "      <td>one worst</td>\n",
       "    </tr>\n",
       "    <tr>\n",
       "      <th>9609</th>\n",
       "      <td>-0.451138</td>\n",
       "      <td>waste time</td>\n",
       "    </tr>\n",
       "  </tbody>\n",
       "</table>\n",
       "</div>"
      ],
      "text/plain": [
       "          coef           word\n",
       "6431 -0.247169      only good\n",
       "3151 -0.250090   fast forward\n",
       "9861 -0.264564    worst movie\n",
       "6201 -0.324169  not recommend\n",
       "6153 -0.332796       not even\n",
       "6164 -0.333147      not funny\n",
       "6217 -0.357056       not very\n",
       "6169 -0.368976       not good\n",
       "6421 -0.437750      one worst\n",
       "9609 -0.451138     waste time"
      ]
     },
     "execution_count": 48,
     "metadata": {},
     "output_type": "execute_result"
    }
   ],
   "source": [
    "word_importances_bigrams[-11:-1]"
   ]
  },
  {
   "cell_type": "markdown",
   "metadata": {
    "slideshow": {
     "slide_type": "slide"
    }
   },
   "source": [
    "# 0.89 is a pretty good value for accuracy. \n",
    "# With a different approach, can it get any better? "
   ]
  },
  {
   "cell_type": "markdown",
   "metadata": {
    "slideshow": {
     "slide_type": "slide"
    }
   },
   "source": [
    "# Beyond word counts:\n",
    "# Word embeddings"
   ]
  },
  {
   "cell_type": "markdown",
   "metadata": {
    "slideshow": {
     "slide_type": "slide"
    }
   },
   "source": [
    "# Bag-of-words (or bag-of-ngrams) basically uses one-hot encoding:"
   ]
  },
  {
   "cell_type": "code",
   "execution_count": 49,
   "metadata": {
    "collapsed": false,
    "slideshow": {
     "slide_type": "fragment"
    }
   },
   "outputs": [
    {
     "data": {
      "text/html": [
       "<div>\n",
       "<table border=\"1\" class=\"dataframe\">\n",
       "  <thead>\n",
       "    <tr style=\"text-align: right;\">\n",
       "      <th></th>\n",
       "      <th>alike</th>\n",
       "      <th>all</th>\n",
       "      <th>but</th>\n",
       "      <th>dataset</th>\n",
       "      <th>every</th>\n",
       "      <th>in</th>\n",
       "      <th>is</th>\n",
       "      <th>its</th>\n",
       "      <th>messy</th>\n",
       "      <th>own</th>\n",
       "      <th>tidy</th>\n",
       "      <th>way</th>\n",
       "    </tr>\n",
       "  </thead>\n",
       "  <tbody>\n",
       "    <tr>\n",
       "      <th>0</th>\n",
       "      <td>0</td>\n",
       "      <td>0</td>\n",
       "      <td>0</td>\n",
       "      <td>0</td>\n",
       "      <td>0</td>\n",
       "      <td>0</td>\n",
       "      <td>0</td>\n",
       "      <td>0</td>\n",
       "      <td>0</td>\n",
       "      <td>0</td>\n",
       "      <td>1</td>\n",
       "      <td>0</td>\n",
       "    </tr>\n",
       "    <tr>\n",
       "      <th>1</th>\n",
       "      <td>0</td>\n",
       "      <td>0</td>\n",
       "      <td>0</td>\n",
       "      <td>1</td>\n",
       "      <td>0</td>\n",
       "      <td>0</td>\n",
       "      <td>0</td>\n",
       "      <td>0</td>\n",
       "      <td>0</td>\n",
       "      <td>0</td>\n",
       "      <td>0</td>\n",
       "      <td>0</td>\n",
       "    </tr>\n",
       "    <tr>\n",
       "      <th>2</th>\n",
       "      <td>0</td>\n",
       "      <td>0</td>\n",
       "      <td>0</td>\n",
       "      <td>0</td>\n",
       "      <td>0</td>\n",
       "      <td>0</td>\n",
       "      <td>1</td>\n",
       "      <td>0</td>\n",
       "      <td>0</td>\n",
       "      <td>0</td>\n",
       "      <td>0</td>\n",
       "      <td>0</td>\n",
       "    </tr>\n",
       "    <tr>\n",
       "      <th>3</th>\n",
       "      <td>0</td>\n",
       "      <td>1</td>\n",
       "      <td>0</td>\n",
       "      <td>0</td>\n",
       "      <td>0</td>\n",
       "      <td>0</td>\n",
       "      <td>0</td>\n",
       "      <td>0</td>\n",
       "      <td>0</td>\n",
       "      <td>0</td>\n",
       "      <td>0</td>\n",
       "      <td>0</td>\n",
       "    </tr>\n",
       "    <tr>\n",
       "      <th>4</th>\n",
       "      <td>1</td>\n",
       "      <td>0</td>\n",
       "      <td>0</td>\n",
       "      <td>0</td>\n",
       "      <td>0</td>\n",
       "      <td>0</td>\n",
       "      <td>0</td>\n",
       "      <td>0</td>\n",
       "      <td>0</td>\n",
       "      <td>0</td>\n",
       "      <td>0</td>\n",
       "      <td>0</td>\n",
       "    </tr>\n",
       "    <tr>\n",
       "      <th>5</th>\n",
       "      <td>0</td>\n",
       "      <td>0</td>\n",
       "      <td>1</td>\n",
       "      <td>0</td>\n",
       "      <td>0</td>\n",
       "      <td>0</td>\n",
       "      <td>0</td>\n",
       "      <td>0</td>\n",
       "      <td>0</td>\n",
       "      <td>0</td>\n",
       "      <td>0</td>\n",
       "      <td>0</td>\n",
       "    </tr>\n",
       "    <tr>\n",
       "      <th>6</th>\n",
       "      <td>0</td>\n",
       "      <td>0</td>\n",
       "      <td>0</td>\n",
       "      <td>0</td>\n",
       "      <td>1</td>\n",
       "      <td>0</td>\n",
       "      <td>0</td>\n",
       "      <td>0</td>\n",
       "      <td>0</td>\n",
       "      <td>0</td>\n",
       "      <td>0</td>\n",
       "      <td>0</td>\n",
       "    </tr>\n",
       "    <tr>\n",
       "      <th>7</th>\n",
       "      <td>0</td>\n",
       "      <td>0</td>\n",
       "      <td>0</td>\n",
       "      <td>0</td>\n",
       "      <td>0</td>\n",
       "      <td>0</td>\n",
       "      <td>0</td>\n",
       "      <td>0</td>\n",
       "      <td>1</td>\n",
       "      <td>0</td>\n",
       "      <td>0</td>\n",
       "      <td>0</td>\n",
       "    </tr>\n",
       "    <tr>\n",
       "      <th>8</th>\n",
       "      <td>0</td>\n",
       "      <td>0</td>\n",
       "      <td>0</td>\n",
       "      <td>0</td>\n",
       "      <td>0</td>\n",
       "      <td>1</td>\n",
       "      <td>0</td>\n",
       "      <td>0</td>\n",
       "      <td>0</td>\n",
       "      <td>0</td>\n",
       "      <td>0</td>\n",
       "      <td>0</td>\n",
       "    </tr>\n",
       "    <tr>\n",
       "      <th>9</th>\n",
       "      <td>0</td>\n",
       "      <td>0</td>\n",
       "      <td>0</td>\n",
       "      <td>0</td>\n",
       "      <td>0</td>\n",
       "      <td>0</td>\n",
       "      <td>0</td>\n",
       "      <td>1</td>\n",
       "      <td>0</td>\n",
       "      <td>0</td>\n",
       "      <td>0</td>\n",
       "      <td>0</td>\n",
       "    </tr>\n",
       "    <tr>\n",
       "      <th>10</th>\n",
       "      <td>0</td>\n",
       "      <td>0</td>\n",
       "      <td>0</td>\n",
       "      <td>0</td>\n",
       "      <td>0</td>\n",
       "      <td>0</td>\n",
       "      <td>0</td>\n",
       "      <td>0</td>\n",
       "      <td>0</td>\n",
       "      <td>1</td>\n",
       "      <td>0</td>\n",
       "      <td>0</td>\n",
       "    </tr>\n",
       "    <tr>\n",
       "      <th>11</th>\n",
       "      <td>0</td>\n",
       "      <td>0</td>\n",
       "      <td>0</td>\n",
       "      <td>0</td>\n",
       "      <td>0</td>\n",
       "      <td>0</td>\n",
       "      <td>0</td>\n",
       "      <td>0</td>\n",
       "      <td>0</td>\n",
       "      <td>0</td>\n",
       "      <td>0</td>\n",
       "      <td>1</td>\n",
       "    </tr>\n",
       "  </tbody>\n",
       "</table>\n",
       "</div>"
      ],
      "text/plain": [
       "    alike  all  but  dataset  every  in  is  its  messy  own  tidy  way\n",
       "0       0    0    0        0      0   0   0    0      0    0     1    0\n",
       "1       0    0    0        1      0   0   0    0      0    0     0    0\n",
       "2       0    0    0        0      0   0   1    0      0    0     0    0\n",
       "3       0    1    0        0      0   0   0    0      0    0     0    0\n",
       "4       1    0    0        0      0   0   0    0      0    0     0    0\n",
       "5       0    0    1        0      0   0   0    0      0    0     0    0\n",
       "6       0    0    0        0      1   0   0    0      0    0     0    0\n",
       "7       0    0    0        0      0   0   0    0      1    0     0    0\n",
       "8       0    0    0        0      0   1   0    0      0    0     0    0\n",
       "9       0    0    0        0      0   0   0    1      0    0     0    0\n",
       "10      0    0    0        0      0   0   0    0      0    1     0    0\n",
       "11      0    0    0        0      0   0   0    0      0    0     0    1"
      ]
     },
     "execution_count": 49,
     "metadata": {},
     "output_type": "execute_result"
    }
   ],
   "source": [
    "# Tidy datasets are all alike but every messy dataset is messy in its own way. (Hadley Wickham)\n",
    "words = pd.DataFrame({'tidy': [1,0,0,0,0,0,0,0,0,0,0,0], 'dataset': [0,1,0,0,0,0,0,0,0,0,0,0],\n",
    "                      'is': [0,0,1,0,0,0,0,0,0,0,0,0], 'all': [0,0,0,1,0,0,0,0,0,0,0,0],\n",
    "                      'alike': [0,0,0,0,1,0,0,0,0,0,0,0], 'but': [0,0,0,0,0,1,0,0,0,0,0,0],\n",
    "                      'every': [0,0,0,0,0,0,1,0,0,0,0,0], 'messy': [0,0,0,0,0,0,0,1,0,0,0,0],\n",
    "                      'in': [0,0,0,0,0,0,0,0,1,0,0,0], 'its': [0,0,0,0,0,0,0,0,0,1,0,0],\n",
    "                      'own': [0,0,0,0,0,0,0,0,0,0,1,0], 'way': [0,0,0,0,0,0,0,0,0,0,0,1]})\n",
    "words"
   ]
  },
  {
   "cell_type": "markdown",
   "metadata": {
    "slideshow": {
     "slide_type": "slide"
    }
   },
   "source": [
    "# In this model, all words are equally distant from each other.\n",
    "\n",
    "# How about similarities between words - semantic dimensions?"
   ]
  },
  {
   "cell_type": "markdown",
   "metadata": {
    "slideshow": {
     "slide_type": "slide"
    }
   },
   "source": [
    "# To uncover similarities between words\n",
    "\n",
    "- build word co-occurrence matrix\n",
    "- perform <b>dimensionality reduction</b> "
   ]
  },
  {
   "cell_type": "markdown",
   "metadata": {
    "collapsed": false,
    "slideshow": {
     "slide_type": "fragment"
    }
   },
   "source": [
    "\"Tidy datasets are all alike but every messy dataset is messy in its own way.\" (Hadley Wickham)\n",
    "\"Happy families are all alike; every unhappy family is unhappy in its own way.\" (Lev Tolstoj)\n",
    "\n",
    "<table>\n",
    "<tr>\n",
    "<td></td><th>tidy</th><th>dataset</th><th>is</th><th>all</th><th>alike</th><th>but</th><th>every</th><th>messy</th><th>in</th><th>its</th><th>own</th><th>way</th><th>happy</th><th>family</th><th>unhappy</th>\n",
    "</tr>\n",
    "<tr>\n",
    "<th>tidy</th><td>0</td><td>1</td><td>2</td><td>1</td><td>1</td><td>1</td><td>1</td><td>2</td><td>1</td><td>1</td><td>1</td><td>1</td><td>0</td><td>0</td><td>0</td>\n",
    "</tr>\n",
    "<tr>\n",
    "<th>dataset</th><td>1</td><td>0</td><td>2</td><td>1</td><td>1</td><td>1</td><td>1</td><td>2</td><td>1</td><td>1</td><td>1</td><td>1</td><td>0</td><td>0</td><td>0</td>\n",
    "</tr>\n",
    "<tr>\n",
    "<th>is</th><td>1</td><td>2</td><td>1</td><td>1</td><td>1</td><td>1</td><td>1</td><td>2</td><td>1</td><td>1</td><td>1</td><td>1</td><td>1</td><td>2</td><td>1</td>\n",
    "</tr>\n",
    "</table>\n",
    "&nbsp;&nbsp;&nbsp;&nbsp;&nbsp;&nbsp;&nbsp;&nbsp;&nbsp;&nbsp;&nbsp;&nbsp;&nbsp;&nbsp;&nbsp;&nbsp;&nbsp;&nbsp;&nbsp;&nbsp;&nbsp;&nbsp;&nbsp;&nbsp;&nbsp;&nbsp;&nbsp;&nbsp;&nbsp;&nbsp;&nbsp;&nbsp;&nbsp;&nbsp;&nbsp;&nbsp;&nbsp;[and so on]"
   ]
  },
  {
   "cell_type": "markdown",
   "metadata": {
    "slideshow": {
     "slide_type": "fragment"
    }
   },
   "source": [
    "In reality, this approach often is not practical. Enter ..."
   ]
  },
  {
   "cell_type": "markdown",
   "metadata": {
    "slideshow": {
     "slide_type": "slide"
    }
   },
   "source": [
    "## Distributed Representations - the Neural Network Approach\n",
    "\n",
    "Infer the meaning of a word from the contexts it appears in:\n",
    "\n",
    "- predict word probability depending on surrounding words\n",
    "- improve prediction at every iteration (backpropagation)"
   ]
  },
  {
   "cell_type": "markdown",
   "metadata": {
    "slideshow": {
     "slide_type": "slide"
    }
   },
   "source": [
    "# Distributed Representation of words\n",
    "\n",
    "- Every word is represented not by a single \"hot\" bit, but by a vector of continuously-scaled values\n",
    "- This allows to find semantic similarities"
   ]
  },
  {
   "cell_type": "markdown",
   "metadata": {
    "slideshow": {
     "slide_type": "slide"
    }
   },
   "source": [
    "## word2vec\n",
    "\n",
    "Mikolov et al (2013a).  Efficient estimation of word representations in vector space. arXiv:1301.3781.\n",
    "\n",
    "- Continuous Bag of Words (CBOW)\n",
    "- Skip-Gram\n",
    "\n"
   ]
  },
  {
   "cell_type": "markdown",
   "metadata": {
    "slideshow": {
     "slide_type": "slide"
    }
   },
   "source": [
    "## Continuous Bag of Words \n",
    "\n",
    "<img src='cbow.png'>\n",
    "from: Mikolov et al. 2013"
   ]
  },
  {
   "cell_type": "markdown",
   "metadata": {
    "slideshow": {
     "slide_type": "slide"
    }
   },
   "source": [
    "## Skip-gram\n",
    "\n",
    "<img src='skip_gram.png'>\n",
    "from: Mikolov et al. 2013"
   ]
  },
  {
   "cell_type": "markdown",
   "metadata": {
    "slideshow": {
     "slide_type": "slide"
    }
   },
   "source": [
    "## Relationships\n",
    "\n",
    "<img src='relationships.png'>\n",
    "\n",
    "from: Mikolov et al. 2013"
   ]
  },
  {
   "cell_type": "markdown",
   "metadata": {
    "slideshow": {
     "slide_type": "fragment"
    }
   },
   "source": [
    "\"Athens\" - \"Greece\" + \"Norway\" = ?\n",
    "\n",
    "\"walking\" - \"walked\" + \"swam\" = ?"
   ]
  },
  {
   "cell_type": "markdown",
   "metadata": {
    "slideshow": {
     "slide_type": "slide"
    }
   },
   "source": [
    "# Word embeddings for the IMDB dataset"
   ]
  },
  {
   "cell_type": "markdown",
   "metadata": {
    "slideshow": {
     "slide_type": "slide"
    }
   },
   "source": [
    "# word2vec in Python\n",
    "\n",
    "- provided by gensim library: <i>https://radimrehurek.com/gensim/models/word2vec.html</i>\n",
    "- nice tutorial how to use: <i>https://github.com/RaRe-Technologies/movie-plots-by-genre/blob/master/ipynb_with_output/Document%20classification%20with%20word%20embeddings%20tutorial%20-%20with%20output.ipynb</i>"
   ]
  },
  {
   "cell_type": "markdown",
   "metadata": {
    "slideshow": {
     "slide_type": "slide"
    }
   },
   "source": [
    "## Load the pre-trained model"
   ]
  },
  {
   "cell_type": "code",
   "execution_count": 57,
   "metadata": {
    "collapsed": false,
    "slideshow": {
     "slide_type": "fragment"
    }
   },
   "outputs": [
    {
     "name": "stdout",
     "output_type": "stream",
     "text": [
      "(20166, 100)\n",
      "[-0.02515472  0.16707493 -0.05629794 -0.12409752 -0.01091802 -0.13798206\n",
      "  0.09231102 -0.09140468 -0.05452388 -0.03555677 -0.08269091 -0.00567267\n",
      " -0.09523809 -0.06195637  0.05440474  0.06227686  0.12369317 -0.01537143\n",
      " -0.0089783  -0.00528997 -0.04277094  0.07739993 -0.01932896  0.081738\n",
      " -0.22357117 -0.14976217  0.05551976  0.13742755 -0.15443996 -0.05471482\n",
      " -0.0009601   0.08932991 -0.05292547  0.16765165 -0.05905993 -0.05231098\n",
      " -0.08250861 -0.0341751   0.14372236  0.03478728 -0.01529499 -0.0296018\n",
      "  0.01079863 -0.06377127  0.04163288 -0.07192093  0.25450262 -0.07382536\n",
      " -0.07778623  0.07499653 -0.12951691  0.01970425  0.13499822  0.01038768\n",
      "  0.06625408  0.11575779  0.10367264  0.03894637 -0.07102726  0.00343542\n",
      "  0.24314043  0.15759529 -0.09808595  0.04601007 -0.01187227 -0.16023833\n",
      " -0.17658544 -0.12622575 -0.04592994  0.08045016 -0.11856512  0.04920706\n",
      "  0.20129348  0.08923753 -0.06545419 -0.05853761 -0.08146987 -0.06782326\n",
      "  0.17082241  0.02575272  0.058911    0.13305175 -0.12224633 -0.01143302\n",
      "  0.01318115  0.07662909 -0.09469278 -0.05230315 -0.0121863   0.12192696\n",
      "  0.19957212 -0.075518    0.16371782 -0.07655586 -0.09539564  0.11822125\n",
      "  0.04177237  0.11499111 -0.09205962  0.09952193]\n"
     ]
    }
   ],
   "source": [
    "from gensim.models import word2vec\n",
    "# load the trained model from disk\n",
    "model = word2vec.Word2Vec.load('models/word2vec_100features')\n",
    "print(model.syn0.shape)\n",
    "print(model['movie'])\n"
   ]
  },
  {
   "cell_type": "markdown",
   "metadata": {
    "slideshow": {
     "slide_type": "slide"
    }
   },
   "source": [
    "## Which words are similar to <i>awesome</i>?"
   ]
  },
  {
   "cell_type": "code",
   "execution_count": 58,
   "metadata": {
    "collapsed": false,
    "slideshow": {
     "slide_type": "fragment"
    }
   },
   "outputs": [
    {
     "data": {
      "text/plain": [
       "[(u'amazing', 0.7929322123527527),\n",
       " (u'incredible', 0.7127916812896729),\n",
       " (u'awful', 0.7072071433067322),\n",
       " (u'excellent', 0.6961393356323242),\n",
       " (u'fantastic', 0.6925109624862671),\n",
       " (u'alright', 0.6886886358261108),\n",
       " (u'cool', 0.679090142250061),\n",
       " (u'outstanding', 0.6213874816894531),\n",
       " (u'astounding', 0.613292932510376),\n",
       " (u'terrific', 0.6013768911361694)]"
      ]
     },
     "execution_count": 58,
     "metadata": {},
     "output_type": "execute_result"
    }
   ],
   "source": [
    "model.most_similar('awesome', topn=10)"
   ]
  },
  {
   "cell_type": "markdown",
   "metadata": {
    "slideshow": {
     "slide_type": "slide"
    }
   },
   "source": [
    "## ... and to <i> awful</i>?"
   ]
  },
  {
   "cell_type": "code",
   "execution_count": 59,
   "metadata": {
    "collapsed": false,
    "slideshow": {
     "slide_type": "fragment"
    }
   },
   "outputs": [
    {
     "data": {
      "text/plain": [
       "[(u'terrible', 0.8212785124778748),\n",
       " (u'horrible', 0.7955455183982849),\n",
       " (u'atrocious', 0.7824822664260864),\n",
       " (u'dreadful', 0.7722172737121582),\n",
       " (u'appalling', 0.7244443893432617),\n",
       " (u'horrendous', 0.7235419154167175),\n",
       " (u'abysmal', 0.720653235912323),\n",
       " (u'amazing', 0.708114743232727),\n",
       " (u'awesome', 0.7072070837020874),\n",
       " (u'bad', 0.6963905096054077)]"
      ]
     },
     "execution_count": 59,
     "metadata": {},
     "output_type": "execute_result"
    }
   ],
   "source": [
    "model.most_similar('awful', topn=10)"
   ]
  },
  {
   "cell_type": "markdown",
   "metadata": {
    "slideshow": {
     "slide_type": "slide"
    }
   },
   "source": [
    "## Can we \"subtract out\" <i>awful</i>?"
   ]
  },
  {
   "cell_type": "code",
   "execution_count": 60,
   "metadata": {
    "collapsed": false,
    "slideshow": {
     "slide_type": "fragment"
    }
   },
   "outputs": [
    {
     "data": {
      "text/plain": [
       "[(u'jolly', 0.3947059214115143),\n",
       " (u'midget', 0.38988131284713745),\n",
       " (u'knight', 0.3789686858654022),\n",
       " (u'spooky', 0.36937469244003296),\n",
       " (u'nice', 0.3680706322193146),\n",
       " (u'looney', 0.3676275610923767),\n",
       " (u'ho', 0.3594890832901001),\n",
       " (u'gotham', 0.35877227783203125),\n",
       " (u'lookalike', 0.3579031229019165),\n",
       " (u'devilish', 0.35554438829421997)]"
      ]
     },
     "execution_count": 60,
     "metadata": {},
     "output_type": "execute_result"
    }
   ],
   "source": [
    "model.most_similar(positive=['awesome'], negative=['awful'])"
   ]
  },
  {
   "cell_type": "markdown",
   "metadata": {
    "slideshow": {
     "slide_type": "slide"
    }
   },
   "source": [
    "## Let's try this again with <i>good</i> - <i>bad</i>: <i>Good</i> ..."
   ]
  },
  {
   "cell_type": "code",
   "execution_count": 61,
   "metadata": {
    "collapsed": false,
    "slideshow": {
     "slide_type": "fragment"
    }
   },
   "outputs": [
    {
     "data": {
      "text/plain": [
       "[(u'bad', 0.769078254699707),\n",
       " (u'decent', 0.7574324607849121),\n",
       " (u'great', 0.7527369260787964),\n",
       " (u'nice', 0.6981208324432373),\n",
       " (u'cool', 0.653165340423584),\n",
       " (u'fine', 0.6289849877357483),\n",
       " (u'terrific', 0.6136247515678406),\n",
       " (u'terrible', 0.6056008338928223),\n",
       " (u'fantastic', 0.596002995967865),\n",
       " (u'solid', 0.5957943201065063)]"
      ]
     },
     "execution_count": 61,
     "metadata": {},
     "output_type": "execute_result"
    }
   ],
   "source": [
    "model.most_similar('good', topn=10)"
   ]
  },
  {
   "cell_type": "markdown",
   "metadata": {
    "slideshow": {
     "slide_type": "slide"
    }
   },
   "source": [
    "## ... and <i>bad</i>:"
   ]
  },
  {
   "cell_type": "code",
   "execution_count": 62,
   "metadata": {
    "collapsed": false,
    "slideshow": {
     "slide_type": "fragment"
    }
   },
   "outputs": [
    {
     "data": {
      "text/plain": [
       "[(u'good', 0.769078254699707),\n",
       " (u'terrible', 0.7315745949745178),\n",
       " (u'horrible', 0.7259382009506226),\n",
       " (u'awful', 0.6963905096054077),\n",
       " (u'lame', 0.6728411912918091),\n",
       " (u'stupid', 0.6556650996208191),\n",
       " (u'dumb', 0.628576934337616),\n",
       " (u'lousy', 0.6129568815231323),\n",
       " (u'cheesy', 0.6102402210235596),\n",
       " (u'poor', 0.5851123929023743)]"
      ]
     },
     "execution_count": 62,
     "metadata": {},
     "output_type": "execute_result"
    }
   ],
   "source": [
    "model.most_similar('bad', topn=10)"
   ]
  },
  {
   "cell_type": "markdown",
   "metadata": {
    "slideshow": {
     "slide_type": "slide"
    }
   },
   "source": [
    "## So <i>good</i> minus <i>bad</i> is ..."
   ]
  },
  {
   "cell_type": "code",
   "execution_count": 63,
   "metadata": {
    "collapsed": false,
    "slideshow": {
     "slide_type": "fragment"
    }
   },
   "outputs": [
    {
     "data": {
      "text/plain": [
       "[(u'nice', 0.4700997471809387),\n",
       " (u'fine', 0.46652451157569885),\n",
       " (u'solid', 0.43668174743652344),\n",
       " (u'wonderful', 0.4121875464916229),\n",
       " (u'pleasant', 0.4049694538116455),\n",
       " (u'decent', 0.3975681960582733),\n",
       " (u'commendable', 0.39051422476768494),\n",
       " (u'splendid', 0.38586685061454773),\n",
       " (u'promising', 0.38155609369277954),\n",
       " (u'delightful', 0.38095542788505554)]"
      ]
     },
     "execution_count": 63,
     "metadata": {},
     "output_type": "execute_result"
    }
   ],
   "source": [
    "model.most_similar(positive=['good'], negative=['bad'])"
   ]
  },
  {
   "cell_type": "markdown",
   "metadata": {
    "slideshow": {
     "slide_type": "slide"
    }
   },
   "source": [
    "## Which word doesn't match?"
   ]
  },
  {
   "cell_type": "code",
   "execution_count": 64,
   "metadata": {
    "collapsed": false,
    "slideshow": {
     "slide_type": "fragment"
    }
   },
   "outputs": [
    {
     "data": {
      "text/plain": [
       "'good'"
      ]
     },
     "execution_count": 64,
     "metadata": {},
     "output_type": "execute_result"
    }
   ],
   "source": [
    "model.doesnt_match(\"good bad awful terrible\".split())"
   ]
  },
  {
   "cell_type": "code",
   "execution_count": 65,
   "metadata": {
    "collapsed": false,
    "slideshow": {
     "slide_type": "fragment"
    }
   },
   "outputs": [
    {
     "data": {
      "text/plain": [
       "'awesome'"
      ]
     },
     "execution_count": 65,
     "metadata": {},
     "output_type": "execute_result"
    }
   ],
   "source": [
    "model.doesnt_match(\"awesome bad awful terrible\".split())"
   ]
  },
  {
   "cell_type": "code",
   "execution_count": 66,
   "metadata": {
    "collapsed": false
   },
   "outputs": [
    {
     "data": {
      "text/plain": [
       "'excellent'"
      ]
     },
     "execution_count": 66,
     "metadata": {},
     "output_type": "execute_result"
    }
   ],
   "source": [
    "model.doesnt_match(\"nice pleasant fine excellent\".split())"
   ]
  },
  {
   "cell_type": "markdown",
   "metadata": {
    "slideshow": {
     "slide_type": "fragment"
    }
   },
   "source": [
    "## Visualize in 2d"
   ]
  },
  {
   "cell_type": "code",
   "execution_count": null,
   "metadata": {
    "collapsed": false
   },
   "outputs": [],
   "source": []
  },
  {
   "cell_type": "markdown",
   "metadata": {
    "collapsed": false
   },
   "source": [
    "## So ... how about our classification task?\n",
    "\n",
    "- we have one vector per word\n",
    "- we need one vector per review for the classification\n",
    "- one way to get there: averaging vectors \n",
    "- but this will lose information!"
   ]
  },
  {
   "cell_type": "markdown",
   "metadata": {
    "slideshow": {
     "slide_type": "slide"
    }
   },
   "source": [
    "### Best accuracies per classifier\n",
    "<table border=\"1\">\n",
    "<tr>\n",
    "<th></th><th>Bag of words</th><th>word2vec</th>\n",
    "<tr>\n",
    "<th>Logistic Regression</th><td>0.89</td><td>0.83</td>\n",
    "</tr>\n",
    "<tr>\n",
    "<th>Support Vector Machine</th><td>0.84</td><td>0.70</td>\n",
    "</tr>\n",
    "<tr>\n",
    "<th>Random Forest</th><td>0.84</td><td>0.80</td>\n",
    "</tr>\n",
    "</table>"
   ]
  },
  {
   "cell_type": "markdown",
   "metadata": {
    "collapsed": true
   },
   "source": [
    "## doc2vec\n",
    "\n",
    "Q. V. Le and T. Mikolov. Distributed representations of sentences and documents. In International\n",
    "Conference on Machine Learning, 2014.\n",
    "- Distributed Memory Model of Paragraph Vectors (PV-DM)\n",
    "  - paragraph vectors shared over words in same paragraph\n",
    "  - word vectors shared over paragraphs\n",
    "  - paragraph vector gets averaged together with word vectors\n",
    "  - paragraph vectors can be directly input to machine learning classifiers\n",
    "  \n",
    "- Distributed Bag of Words (PV-DBOW)"
   ]
  },
  {
   "cell_type": "markdown",
   "metadata": {},
   "source": [
    "## Distributed Memory Model of Paragraph Vectors (PV-DM)\n",
    "\n",
    "<img src='pv_dm.png'>\n",
    "\n",
    "from: Q. V. Le and T. Mikolov. Distributed representations of sentences and documents. In International\n",
    "Conference on Machine Learning, 2014."
   ]
  },
  {
   "cell_type": "markdown",
   "metadata": {
    "collapsed": true
   },
   "source": [
    "## Distributed Memory Model of Paragraph Vectors (PV-DM)\n",
    "\n",
    "<img src='pv_dbow.png'>\n",
    "\n",
    "from: Q. V. Le and T. Mikolov. Distributed representations of sentences and documents. In International\n",
    "Conference on Machine Learning, 2014."
   ]
  },
  {
   "cell_type": "markdown",
   "metadata": {
    "slideshow": {
     "slide_type": "slide"
    }
   },
   "source": [
    "## Model Training and Parameters\n",
    "\n",
    "- again, now's not the time to do the training ;-)\n",
    "- doc2vec in python: also provided by gensim <i>https://radimrehurek.com/gensim/models/doc2vec.html</i>\n",
    "- see gensim doc2vec tutorial (<i>https://github.com/RaRe-Technologies/gensim/blob/develop/docs/notebooks/doc2vec-IMDB.ipynb</i> for example usage and configuration"
   ]
  },
  {
   "cell_type": "markdown",
   "metadata": {
    "slideshow": {
     "slide_type": "slide"
    }
   },
   "source": [
    "## Load pre-trained models"
   ]
  },
  {
   "cell_type": "code",
   "execution_count": 24,
   "metadata": {
    "collapsed": false,
    "slideshow": {
     "slide_type": "fragment"
    }
   },
   "outputs": [],
   "source": [
    "#import gensim.models.doc2vec\n",
    "from gensim.models import Doc2Vec\n",
    "models_dir = 'models'\n",
    "filenames = ['dmc', 'cbow', 'dmm']\n",
    "files = map(lambda f:'/'.join([models_dir,f]), filenames)\n",
    "models = [Doc2Vec.load(fname) for fname in files]"
   ]
  },
  {
   "cell_type": "code",
   "execution_count": 25,
   "metadata": {
    "collapsed": false,
    "slideshow": {
     "slide_type": "slide"
    }
   },
   "outputs": [
    {
     "data": {
      "text/plain": [
       "['Doc2Vec(dm/c,d100,n5,w5,mc2,t4)',\n",
       " 'Doc2Vec(dbow,d100,n5,mc2,t4)',\n",
       " 'Doc2Vec(dm/m,d100,n5,w10,mc2,t4)']"
      ]
     },
     "execution_count": 25,
     "metadata": {},
     "output_type": "execute_result"
    }
   ],
   "source": [
    "[str(model) for model in models]"
   ]
  },
  {
   "cell_type": "markdown",
   "metadata": {},
   "source": [
    "### Logistic Regression accuracy\n",
    "<table border=\"1\">\n",
    "<tr>\n",
    "<th></th><th>test vectors inferred</th><th>test vectors from model</th>\n",
    "<tr>\n",
    "<th>Distributed memory, vectors averaged (dm/m)</th><td>0.81</td><td>0.87</td>\n",
    "</tr>\n",
    "<tr>\n",
    "<th>Distributed memory, vectors concatenated (dm/c)</th><td>0.80</td><td>0.82</td>\n",
    "</tr>\n",
    "<tr>\n",
    "<th>Distributed bag of words (dbow)</th><td>0.90</td><td>0.90</td>\n",
    "</tr>\n",
    "</table>"
   ]
  },
  {
   "cell_type": "markdown",
   "metadata": {
    "slideshow": {
     "slide_type": "slide"
    }
   },
   "source": [
    "## Most similar to <i>awesome</i> - what's our best performing model say?"
   ]
  },
  {
   "cell_type": "code",
   "execution_count": 26,
   "metadata": {
    "collapsed": false,
    "slideshow": {
     "slide_type": "fragment"
    }
   },
   "outputs": [
    {
     "data": {
      "text/plain": [
       "[(u'juon', 0.3789939880371094),\n",
       " (u'a-pix', 0.3781469762325287),\n",
       " (u\"rosemary's\", 0.37472963333129883),\n",
       " (u'schnook', 0.3683214783668518),\n",
       " (u\"luise's\", 0.366854190826416),\n",
       " (u'chrysalis', 0.36428096890449524),\n",
       " (u'f*^', 0.362865686416626),\n",
       " (u'decadent', 0.3604990839958191),\n",
       " (u'surrogacy', 0.35499149560928345),\n",
       " (u\"'second\", 0.35283005237579346)]"
      ]
     },
     "execution_count": 26,
     "metadata": {},
     "output_type": "execute_result"
    }
   ],
   "source": [
    "dbow = models[1]\n",
    "dbow.most_similar('awesome', topn=10)"
   ]
  },
  {
   "cell_type": "code",
   "execution_count": 27,
   "metadata": {
    "collapsed": true,
    "slideshow": {
     "slide_type": "fragment"
    }
   },
   "outputs": [],
   "source": [
    "# explain why"
   ]
  },
  {
   "cell_type": "markdown",
   "metadata": {
    "slideshow": {
     "slide_type": "slide"
    }
   },
   "source": [
    "## Most similar to <i>awesome</i> - distributed memory model (dm/m)"
   ]
  },
  {
   "cell_type": "code",
   "execution_count": 28,
   "metadata": {
    "collapsed": false
   },
   "outputs": [
    {
     "data": {
      "text/plain": [
       "[(u'amazing', 0.9163687229156494),\n",
       " (u'incredible', 0.9011116027832031),\n",
       " (u'excellent', 0.8860622644424438),\n",
       " (u'outstanding', 0.8797732591629028),\n",
       " (u'exceptional', 0.8539372682571411),\n",
       " (u'awful', 0.8104138970375061),\n",
       " (u'astounding', 0.7750493884086609),\n",
       " (u'alright', 0.7587056159973145),\n",
       " (u'astonishing', 0.7556235790252686),\n",
       " (u'extraordinary', 0.743841290473938)]"
      ]
     },
     "execution_count": 28,
     "metadata": {},
     "output_type": "execute_result"
    }
   ],
   "source": [
    "dm_m = models[2]\n",
    "dm_m.most_similar('awesome', topn=10)"
   ]
  },
  {
   "cell_type": "markdown",
   "metadata": {
    "slideshow": {
     "slide_type": "slide"
    }
   },
   "source": [
    "## Most similar to <i>aweful</i> - distributed memory model (dm/m)"
   ]
  },
  {
   "cell_type": "code",
   "execution_count": 29,
   "metadata": {
    "collapsed": false,
    "slideshow": {
     "slide_type": "fragment"
    }
   },
   "outputs": [
    {
     "data": {
      "text/plain": [
       "[(u'abysmal', 0.8371909856796265),\n",
       " (u'appalling', 0.8327066898345947),\n",
       " (u'atrocious', 0.8309577703475952),\n",
       " (u'horrible', 0.8192445039749146),\n",
       " (u'terrible', 0.8124841451644897),\n",
       " (u'awesome', 0.8104138970375061),\n",
       " (u'dreadful', 0.8072893023490906),\n",
       " (u'horrendous', 0.7981990575790405),\n",
       " (u'amazing', 0.7926105260848999),\n",
       " (u'incredible', 0.7852109670639038)]"
      ]
     },
     "execution_count": 29,
     "metadata": {},
     "output_type": "execute_result"
    }
   ],
   "source": [
    "dm_m.most_similar('awful', topn=10)"
   ]
  },
  {
   "cell_type": "code",
   "execution_count": 30,
   "metadata": {
    "collapsed": false
   },
   "outputs": [
    {
     "data": {
      "text/plain": [
       "[(u'super', 0.46073806285858154),\n",
       " (u\"tartakovsky's\", 0.3861837387084961),\n",
       " (u'nail-bitingly', 0.3633382320404053),\n",
       " (u'actionpacked', 0.36290568113327026),\n",
       " (u'cassella', 0.35898250341415405),\n",
       " (u'outsmarts', 0.3545451760292053),\n",
       " (u'nos', 0.35315001010894775),\n",
       " (u'takeuchi', 0.3525207042694092),\n",
       " (u'keaton/burton', 0.34791430830955505),\n",
       " (u'sarinana', 0.34731170535087585)]"
      ]
     },
     "execution_count": 30,
     "metadata": {},
     "output_type": "execute_result"
    }
   ],
   "source": [
    "dm_m.most_similar(positive=['awesome'], negative=['awful'])"
   ]
  },
  {
   "cell_type": "code",
   "execution_count": 31,
   "metadata": {
    "collapsed": false
   },
   "outputs": [
    {
     "data": {
      "text/plain": [
       "[(u'satisfied', 0.6944113969802856),\n",
       " (u'thrilled', 0.6537768840789795),\n",
       " (u'pleased', 0.6526883840560913),\n",
       " (u'happier', 0.6411939859390259),\n",
       " (u'unhappy', 0.6402201652526855),\n",
       " (u'disappointed', 0.6195787787437439),\n",
       " (u'satisfying', 0.6173715591430664),\n",
       " (u'upset', 0.6129617691040039),\n",
       " (u'confused', 0.6072292327880859),\n",
       " (u'miserable', 0.5886229276657104)]"
      ]
     },
     "execution_count": 31,
     "metadata": {},
     "output_type": "execute_result"
    }
   ],
   "source": [
    "dm_m.most_similar('happy', topn=10)"
   ]
  },
  {
   "cell_type": "code",
   "execution_count": 32,
   "metadata": {
    "collapsed": false
   },
   "outputs": [
    {
     "data": {
      "text/plain": [
       "[(u\"freaking'\", 0.4593520164489746),\n",
       " (u'ten-year', 0.39137205481529236),\n",
       " (u\"'calendar\", 0.39041662216186523),\n",
       " (u'fluke', 0.3744649887084961),\n",
       " (u'nine-year', 0.3692910075187683),\n",
       " (u\"jack'\", 0.36701303720474243),\n",
       " (u'girl-oriented', 0.3562896251678467),\n",
       " (u\"ewell's\", 0.35423994064331055),\n",
       " (u'breakingly', 0.3541865944862366),\n",
       " (u'velcro', 0.3500947058200836)]"
      ]
     },
     "execution_count": 32,
     "metadata": {},
     "output_type": "execute_result"
    }
   ],
   "source": [
    "dm_m.most_similar(positive=['happy'], negative=['unhappy'])"
   ]
  },
  {
   "cell_type": "markdown",
   "metadata": {},
   "source": [
    "# So, where does this leave us?"
   ]
  },
  {
   "cell_type": "code",
   "execution_count": null,
   "metadata": {
    "collapsed": true
   },
   "outputs": [],
   "source": []
  }
 ],
 "metadata": {
  "anaconda-cloud": {},
  "celltoolbar": "Slideshow",
  "kernelspec": {
   "display_name": "Python [conda root]",
   "language": "python",
   "name": "conda-root-py"
  },
  "language_info": {
   "codemirror_mode": {
    "name": "ipython",
    "version": 2
   },
   "file_extension": ".py",
   "mimetype": "text/x-python",
   "name": "python",
   "nbconvert_exporter": "python",
   "pygments_lexer": "ipython2",
   "version": "2.7.11"
  },
  "nbpresent": {
   "slides": {
    "0108f6f6-7e16-4035-b56b-1135f27cf68b": {
     "id": "0108f6f6-7e16-4035-b56b-1135f27cf68b",
     "prev": "39125589-c1a2-4ae0-a68a-4e121bf36235",
     "regions": {
      "76021d66-7358-4a0a-9e1e-d2b33c386c1b": {
       "attrs": {
        "height": 0.4,
        "width": 0.8,
        "x": 0.1,
        "y": 0.5
       },
       "content": {
        "cell": "be448377-de47-4493-bec8-a60c20b06d5a",
        "part": "whole"
       },
       "id": "76021d66-7358-4a0a-9e1e-d2b33c386c1b"
      },
      "85172fcd-c717-484e-9d0d-c87fb2eea9c2": {
       "attrs": {
        "height": 0.8,
        "width": 0.8,
        "x": 0.1,
        "y": 0.1
       },
       "content": {
        "cell": "9def4486-def4-4cf4-b94a-748e0bca0c9b",
        "part": "whole"
       },
       "id": "85172fcd-c717-484e-9d0d-c87fb2eea9c2"
      }
     }
    },
    "068b92ae-f75f-46f6-9937-4bee2b9cc173": {
     "id": "068b92ae-f75f-46f6-9937-4bee2b9cc173",
     "prev": "bd3a515b-ce60-402a-ba17-bc77792d4854",
     "regions": {
      "29d4a416-71a6-4154-860c-6504152aeba3": {
       "attrs": {
        "height": 0.8,
        "width": 0.8,
        "x": 0.1,
        "y": 0.1
       },
       "content": {
        "cell": "857a60c7-9d9e-413d-87db-18c07e250cd9",
        "part": "whole"
       },
       "id": "29d4a416-71a6-4154-860c-6504152aeba3"
      }
     }
    },
    "0a22853d-cea1-4740-a57f-1db9405cdedc": {
     "id": "0a22853d-cea1-4740-a57f-1db9405cdedc",
     "prev": "5491cfb5-67df-4527-af83-084e53944ecd",
     "regions": {
      "81a4a59f-0762-4345-bb44-701d6e0037c9": {
       "attrs": {
        "height": 0.8,
        "width": 0.8,
        "x": 0.1,
        "y": 0.1
       },
       "content": {
        "cell": "d1c2e8ee-d3ba-4bb7-9adb-038bdc7b3dd1",
        "part": "whole"
       },
       "id": "81a4a59f-0762-4345-bb44-701d6e0037c9"
      }
     }
    },
    "2e26c3b2-b910-4e29-a926-f383ecf0e8e7": {
     "id": "2e26c3b2-b910-4e29-a926-f383ecf0e8e7",
     "prev": "47d8e4fe-3e59-4bd9-9394-45c626295f7a",
     "regions": {
      "c7ddc3d8-b4a6-4296-96e9-901daacf57ea": {
       "attrs": {
        "height": 0.8,
        "width": 0.8,
        "x": 0.1,
        "y": 0.1
       },
       "content": {
        "cell": "e627fcfd-b58e-4c3a-b44d-28bf8991e25d",
        "part": "whole"
       },
       "id": "c7ddc3d8-b4a6-4296-96e9-901daacf57ea"
      }
     }
    },
    "39125589-c1a2-4ae0-a68a-4e121bf36235": {
     "id": "39125589-c1a2-4ae0-a68a-4e121bf36235",
     "prev": "f86e01a5-ddac-4afb-a80d-230fd2c9d3a7",
     "regions": {
      "7eb72701-c9cf-41b6-b62c-10bb1e16e222": {
       "attrs": {
        "height": 0.4,
        "width": 0.8,
        "x": 0.1,
        "y": 0.5
       },
       "content": {
        "cell": "50f11ad0-4b49-44ba-928d-791eecc4790c",
        "part": "whole"
       },
       "id": "7eb72701-c9cf-41b6-b62c-10bb1e16e222"
      },
      "98242526-0074-4484-9b35-208d8bf218fc": {
       "attrs": {
        "height": 0.8,
        "width": 0.8,
        "x": 0.1,
        "y": 0.1
       },
       "content": {
        "cell": "1e87e2af-5bea-4362-89d9-5ba8cec65842",
        "part": "whole"
       },
       "id": "98242526-0074-4484-9b35-208d8bf218fc"
      }
     }
    },
    "399d2dc1-1424-4669-b25f-bcf0eaaf64c0": {
     "id": "399d2dc1-1424-4669-b25f-bcf0eaaf64c0",
     "prev": "69c4c14e-a6cc-4cbc-aa6b-7601bcbdb58b",
     "regions": {
      "092787b5-8ffc-48c1-8408-e8b822cc796d": {
       "attrs": {
        "height": 0.4,
        "width": 0.8,
        "x": 0.1,
        "y": 0.5
       },
       "content": {
        "cell": "eba5a957-cd79-4819-abc2-a991cc42fb55",
        "part": "whole"
       },
       "id": "092787b5-8ffc-48c1-8408-e8b822cc796d"
      },
      "2f87360d-6f58-4afb-b5a8-f704dbeccd14": {
       "attrs": {
        "height": 0.8,
        "width": 0.8,
        "x": 0.1,
        "y": 0.1
       },
       "content": {
        "cell": "03e942e9-856f-427d-a634-5692b86c1c39",
        "part": "whole"
       },
       "id": "2f87360d-6f58-4afb-b5a8-f704dbeccd14"
      }
     }
    },
    "3ad3df4d-6d23-45bb-8649-7a626c785ad6": {
     "id": "3ad3df4d-6d23-45bb-8649-7a626c785ad6",
     "prev": "0a22853d-cea1-4740-a57f-1db9405cdedc",
     "regions": {
      "4bc8f2f7-47b8-469b-8573-f3dcdd2a3bb7": {
       "attrs": {
        "height": 0.8,
        "width": 0.8,
        "x": 0.1,
        "y": 0.1
       },
       "content": {
        "cell": "188d6842-d012-441f-beec-c5ae7f46aca7",
        "part": "whole"
       },
       "id": "4bc8f2f7-47b8-469b-8573-f3dcdd2a3bb7"
      }
     }
    },
    "47d8e4fe-3e59-4bd9-9394-45c626295f7a": {
     "id": "47d8e4fe-3e59-4bd9-9394-45c626295f7a",
     "prev": "f508fbef-d584-4532-b9ae-6307ad78b8b6",
     "regions": {
      "082554d7-90bb-4a26-9fdb-0c54c9cb7ba2": {
       "attrs": {
        "height": 0.8,
        "width": 0.8,
        "x": 0.1,
        "y": 0.1
       },
       "content": {
        "cell": "b446b568-00a0-42ec-a9ac-dc73538a5ca2",
        "part": "whole"
       },
       "id": "082554d7-90bb-4a26-9fdb-0c54c9cb7ba2"
      }
     }
    },
    "49167f26-ead3-416d-a9ce-c9c301a39e0b": {
     "id": "49167f26-ead3-416d-a9ce-c9c301a39e0b",
     "prev": "2e26c3b2-b910-4e29-a926-f383ecf0e8e7",
     "regions": {
      "fae949cb-bfe7-4f6e-97ec-636f5e6cb2e3": {
       "attrs": {
        "height": 0.8,
        "width": 0.8,
        "x": 0.1,
        "y": 0.1
       },
       "content": {
        "cell": "d1f74fb0-4852-4945-8b03-fc7dd7cbf67f",
        "part": "whole"
       },
       "id": "fae949cb-bfe7-4f6e-97ec-636f5e6cb2e3"
      }
     }
    },
    "4c5d2307-1fcc-46b1-a24c-3c927faecc20": {
     "id": "4c5d2307-1fcc-46b1-a24c-3c927faecc20",
     "prev": null,
     "regions": {
      "0a6ed170-6643-4b96-97a4-e270ce9f281f": {
       "attrs": {
        "height": 0.8,
        "width": 0.8,
        "x": 0.1,
        "y": 0.1
       },
       "content": {
        "cell": "836b7700-e496-4171-9798-354a346c8e9a",
        "part": "whole"
       },
       "id": "0a6ed170-6643-4b96-97a4-e270ce9f281f"
      }
     }
    },
    "5491cfb5-67df-4527-af83-084e53944ecd": {
     "id": "5491cfb5-67df-4527-af83-084e53944ecd",
     "prev": "83a4314b-d405-4a6a-a1a3-3d1d1deccbc0",
     "regions": {
      "2aa07b38-929e-4b84-a3a9-d0d1da69b759": {
       "attrs": {
        "height": 0.8,
        "width": 0.8,
        "x": 0.1,
        "y": 0.1
       },
       "content": {
        "cell": "e4dc43e0-80b7-4426-8eb3-45bb5bd7827a",
        "part": "whole"
       },
       "id": "2aa07b38-929e-4b84-a3a9-d0d1da69b759"
      }
     }
    },
    "69c4c14e-a6cc-4cbc-aa6b-7601bcbdb58b": {
     "id": "69c4c14e-a6cc-4cbc-aa6b-7601bcbdb58b",
     "prev": "49167f26-ead3-416d-a9ce-c9c301a39e0b",
     "regions": {
      "0589ad4d-3ce3-4152-a73f-7530b46c90a1": {
       "attrs": {
        "height": 0.4,
        "width": 0.8,
        "x": 0.1,
        "y": 0.5
       },
       "content": {
        "cell": "1e3b2d36-5346-4b01-bfc2-67e7f2af25c1",
        "part": "whole"
       },
       "id": "0589ad4d-3ce3-4152-a73f-7530b46c90a1"
      },
      "dc634998-4aa9-4b49-b4ef-760c50c9d3d7": {
       "attrs": {
        "height": 0.8,
        "width": 0.8,
        "x": 0.1,
        "y": 0.1
       },
       "content": {
        "cell": "4cbef8ba-b678-40a1-b71d-f0dda08c06df",
        "part": "whole"
       },
       "id": "dc634998-4aa9-4b49-b4ef-760c50c9d3d7"
      },
      "e03c64a3-b36b-45fb-868f-debc753a76a4": {
       "attrs": {
        "height": 0.4,
        "width": 0.8,
        "x": 0.1,
        "y": 0.5
       },
       "content": {
        "cell": "1eea560c-ae93-43cd-8d3e-a5f0629a885a",
        "part": "whole"
       },
       "id": "e03c64a3-b36b-45fb-868f-debc753a76a4"
      }
     }
    },
    "83a4314b-d405-4a6a-a1a3-3d1d1deccbc0": {
     "id": "83a4314b-d405-4a6a-a1a3-3d1d1deccbc0",
     "prev": "c8f32c66-9083-4bba-ab76-eb3e6ccabd2c",
     "regions": {
      "c2807699-e71b-4fb5-b713-7105d8b90eed": {
       "attrs": {
        "height": 0.8,
        "width": 0.8,
        "x": 0.1,
        "y": 0.1
       },
       "content": {
        "cell": "348351b9-005f-47ac-a927-ce7cb773fe90",
        "part": "whole"
       },
       "id": "c2807699-e71b-4fb5-b713-7105d8b90eed"
      },
      "d6febe3f-3aff-4350-b192-9f45df9d760a": {
       "attrs": {
        "height": 0.4,
        "width": 0.8,
        "x": 0.1,
        "y": 0.5
       },
       "content": {
        "cell": "ccb71b15-0e3d-4174-887a-197bbcf35750",
        "part": "whole"
       },
       "id": "d6febe3f-3aff-4350-b192-9f45df9d760a"
      }
     }
    },
    "ab13fb37-989e-4792-bc29-9b8221b75e52": {
     "id": "ab13fb37-989e-4792-bc29-9b8221b75e52",
     "prev": "068b92ae-f75f-46f6-9937-4bee2b9cc173",
     "regions": {
      "02f20104-27a6-4969-b7d3-01ee42c5e0fb": {
       "attrs": {
        "height": 0.4,
        "width": 0.8,
        "x": 0.1,
        "y": 0.5
       },
       "content": {
        "cell": "77183c01-f99f-4dcb-a6f6-63809f56144d",
        "part": "whole"
       },
       "id": "02f20104-27a6-4969-b7d3-01ee42c5e0fb"
      },
      "82ea6c58-985b-4c29-861c-f7d346ac3e6a": {
       "attrs": {
        "height": 0.4,
        "width": 0.8,
        "x": 0.1,
        "y": 0.5
       },
       "content": {
        "cell": "f14e24ac-9678-4f16-99d9-4bbba508c508",
        "part": "whole"
       },
       "id": "82ea6c58-985b-4c29-861c-f7d346ac3e6a"
      },
      "cb0c0125-c9d1-4c79-ab1d-7a4f07f6eaad": {
       "attrs": {
        "height": 0.4,
        "width": 0.8,
        "x": 0.1,
        "y": 0.5
       },
       "content": {
        "cell": "10d50aba-eb52-4baf-b9c1-6ab86c6e2525",
        "part": "whole"
       },
       "id": "cb0c0125-c9d1-4c79-ab1d-7a4f07f6eaad"
      },
      "fcaaa867-b510-4edb-8514-e77840a01b1a": {
       "attrs": {
        "height": 0.8,
        "width": 0.8,
        "x": 0.1,
        "y": 0.1
       },
       "content": {
        "cell": "7d776e37-257f-47c0-87b0-193558ad16ce",
        "part": "whole"
       },
       "id": "fcaaa867-b510-4edb-8514-e77840a01b1a"
      }
     }
    },
    "b1acd603-6a4d-46e7-81b0-8e103f99acfe": {
     "id": "b1acd603-6a4d-46e7-81b0-8e103f99acfe",
     "prev": "399d2dc1-1424-4669-b25f-bcf0eaaf64c0",
     "regions": {
      "97265508-87db-4fa0-abbd-fca1816f6302": {
       "attrs": {
        "height": 0.4,
        "width": 0.8,
        "x": 0.1,
        "y": 0.5
       },
       "content": {
        "cell": "deec0c29-5ae2-4866-adfb-e5d4485ac51a",
        "part": "whole"
       },
       "id": "97265508-87db-4fa0-abbd-fca1816f6302"
      },
      "c285e815-cde8-4f85-b6cd-4d24a8e13889": {
       "attrs": {
        "height": 0.8,
        "width": 0.8,
        "x": 0.1,
        "y": 0.1
       },
       "content": {
        "cell": "fcfffce9-3b7e-46c2-aa6b-de60a9b0a175",
        "part": "whole"
       },
       "id": "c285e815-cde8-4f85-b6cd-4d24a8e13889"
      }
     }
    },
    "bd3a515b-ce60-402a-ba17-bc77792d4854": {
     "id": "bd3a515b-ce60-402a-ba17-bc77792d4854",
     "prev": "3ad3df4d-6d23-45bb-8649-7a626c785ad6",
     "regions": {
      "984a713d-046c-4501-82ec-2bf7c0b5c8cd": {
       "attrs": {
        "height": 0.8,
        "width": 0.8,
        "x": 0.1,
        "y": 0.1
       },
       "content": {
        "cell": "5260cedc-c65d-4014-9f78-96a73b8c2d18",
        "part": "whole"
       },
       "id": "984a713d-046c-4501-82ec-2bf7c0b5c8cd"
      }
     }
    },
    "c8f32c66-9083-4bba-ab76-eb3e6ccabd2c": {
     "id": "c8f32c66-9083-4bba-ab76-eb3e6ccabd2c",
     "prev": "b1acd603-6a4d-46e7-81b0-8e103f99acfe",
     "regions": {
      "245d84c1-7a85-4cac-9314-16cabd9ebb85": {
       "attrs": {
        "height": 0.8,
        "width": 0.8,
        "x": 0.1,
        "y": 0.1
       },
       "content": {
        "cell": "3a374a7c-6ddf-4a7e-a78b-b468758210d6",
        "part": "whole"
       },
       "id": "245d84c1-7a85-4cac-9314-16cabd9ebb85"
      },
      "ae118bbe-5b04-457a-8a12-f7018a2da061": {
       "attrs": {
        "height": 0.4,
        "width": 0.8,
        "x": 0.1,
        "y": 0.5
       },
       "content": {
        "cell": "18c2b8bb-6701-481d-a304-7abb03ee5645",
        "part": "whole"
       },
       "id": "ae118bbe-5b04-457a-8a12-f7018a2da061"
      }
     }
    },
    "f508fbef-d584-4532-b9ae-6307ad78b8b6": {
     "id": "f508fbef-d584-4532-b9ae-6307ad78b8b6",
     "prev": "0108f6f6-7e16-4035-b56b-1135f27cf68b",
     "regions": {
      "1c503453-1526-472c-ba2f-d4440861f56c": {
       "attrs": {
        "height": 0.4,
        "width": 0.8,
        "x": 0.1,
        "y": 0.5
       },
       "content": {
        "cell": "9293030b-42f8-4976-85fe-8fd5877c7fcf",
        "part": "whole"
       },
       "id": "1c503453-1526-472c-ba2f-d4440861f56c"
      },
      "ea69ebc7-40b3-435a-82a5-d88f98bf0e93": {
       "attrs": {
        "height": 0.8,
        "width": 0.8,
        "x": 0.1,
        "y": 0.1
       },
       "content": {
        "cell": "a77185b1-3981-4cf3-9b72-34e98245909c",
        "part": "whole"
       },
       "id": "ea69ebc7-40b3-435a-82a5-d88f98bf0e93"
      }
     }
    },
    "f86e01a5-ddac-4afb-a80d-230fd2c9d3a7": {
     "id": "f86e01a5-ddac-4afb-a80d-230fd2c9d3a7",
     "prev": "4c5d2307-1fcc-46b1-a24c-3c927faecc20",
     "regions": {
      "339671af-0a7d-4c98-8708-20a6bd9d411d": {
       "attrs": {
        "height": 0.4,
        "width": 0.8,
        "x": 0.1,
        "y": 0.5
       },
       "content": {
        "cell": "81a36843-e0d8-403c-9e47-bf32cfa9267c",
        "part": "whole"
       },
       "id": "339671af-0a7d-4c98-8708-20a6bd9d411d"
      },
      "5b0f3928-9772-45e2-999d-7e6a0007857b": {
       "attrs": {
        "height": 0.4,
        "width": 0.8,
        "x": 0.1,
        "y": 0.5
       },
       "content": {
        "cell": "d8c43dd5-aadc-4e99-b653-44357b396ec6",
        "part": "whole"
       },
       "id": "5b0f3928-9772-45e2-999d-7e6a0007857b"
      },
      "8bd65a19-7da3-42b1-9733-9c3a210f13bf": {
       "attrs": {
        "height": 0.8,
        "width": 0.8,
        "x": 0.1,
        "y": 0.1
       },
       "content": {
        "cell": "f0c2a310-79ca-4b6f-a166-12841485dd74",
        "part": "whole"
       },
       "id": "8bd65a19-7da3-42b1-9733-9c3a210f13bf"
      }
     }
    }
   },
   "themes": {}
  }
 },
 "nbformat": 4,
 "nbformat_minor": 0
}
